{
 "cells": [
  {
   "cell_type": "code",
   "execution_count": 36,
   "id": "f7aa97ba",
   "metadata": {},
   "outputs": [
    {
     "name": "stdout",
     "output_type": "stream",
     "text": [
      "The autoreload extension is already loaded. To reload it, use:\n",
      "  %reload_ext autoreload\n"
     ]
    }
   ],
   "source": [
    "import sys\n",
    "sys.path.insert(0,'C:\\\\Users\\\\christoffer\\\\Desktop\\\\CBS\\\\Cand.merc Finance & Investments\\\\3. Semester\\\\Python For The Financial Economist\\\\Respitory GitHub')\n",
    "\n",
    "\"\"\"\n",
    "Magic commands\n",
    "\"\"\"\n",
    "\n",
    "%load_ext autoreload\n",
    "%autoreload 2\n",
    "\n",
    "\"\"\"\n",
    "Load relevant packages\n",
    "\"\"\"\n",
    "\n",
    "import numpy as np\n",
    "import pandas as pd\n",
    "import seaborn as sns\n",
    "import matplotlib.pyplot as plt\n",
    "import matplotlib.ticker as ticker\n",
    "import datetime\n",
    "from scipy import stats\n",
    "from scipy import optimize\n",
    "from scipy.optimize import minimize\n",
    "\n",
    "# typehints\n",
    "from typing import Union, List, Tuple\n",
    "\n"
   ]
  },
  {
   "cell_type": "code",
   "execution_count": 37,
   "id": "494ab40d",
   "metadata": {},
   "outputs": [
    {
     "name": "stdout",
     "output_type": "stream",
     "text": [
      "Requirement already satisfied: codelib in /Users/christoffer/opt/anaconda3/lib/python3.9/site-packages (0.0.1)\n",
      "Note: you may need to restart the kernel to use updated packages.\n"
     ]
    }
   ],
   "source": [
    "pip install codelib"
   ]
  },
  {
   "cell_type": "markdown",
   "id": "2d36109d",
   "metadata": {},
   "source": [
    "## Question 2"
   ]
  },
  {
   "cell_type": "code",
   "execution_count": 38,
   "id": "d51bd385",
   "metadata": {},
   "outputs": [
    {
     "data": {
      "text/plain": [
       "array([[ 0.001369 ,  0.001221 ,  0.0004403,  0.0011877, -0.0005661,\n",
       "        -0.0008029, -0.0015096, -0.000518 , -0.0003996, -0.0003478],\n",
       "       [ 0.001221 ,  0.003025 ,  0.003927 ,  0.003531 ,  0.001683 ,\n",
       "         0.002387 ,  0.002244 ,  0.00077  ,  0.000594 ,  0.001551 ],\n",
       "       [ 0.0004403,  0.003927 ,  0.014161 ,  0.0089131,  0.0127449,\n",
       "         0.0154938,  0.0145656,  0.006664 ,  0.0038556,  0.0078302],\n",
       "       [ 0.0011877,  0.003531 ,  0.0089131,  0.011449 ,  0.0081855,\n",
       "         0.0139314,  0.0087312,  0.002996 ,  0.0023112,  0.005029 ],\n",
       "       [-0.0005661,  0.001683 ,  0.0127449,  0.0081855,  0.023409 ,\n",
       "         0.0232407,  0.0249696,  0.008568 ,  0.0066096,  0.0115056],\n",
       "       [-0.0008029,  0.002387 ,  0.0154938,  0.0139314,  0.0232407,\n",
       "         0.047089 ,  0.0309876,  0.012152 ,  0.0093744,  0.0142786],\n",
       "       [-0.0015096,  0.002244 ,  0.0145656,  0.0087312,  0.0249696,\n",
       "         0.0309876,  0.041616 ,  0.011424 ,  0.0088128,  0.0134232],\n",
       "       [-0.000518 ,  0.00077  ,  0.006664 ,  0.002996 ,  0.008568 ,\n",
       "         0.012152 ,  0.011424 ,  0.0196   ,  0.004536 ,  0.005264 ],\n",
       "       [-0.0003996,  0.000594 ,  0.0038556,  0.0023112,  0.0066096,\n",
       "         0.0093744,  0.0088128,  0.004536 ,  0.011664 ,  0.0040608],\n",
       "       [-0.0003478,  0.001551 ,  0.0078302,  0.005029 ,  0.0115056,\n",
       "         0.0142786,  0.0134232,  0.005264 ,  0.0040608,  0.008836 ]])"
      ]
     },
     "execution_count": 38,
     "metadata": {},
     "output_type": "execute_result"
    }
   ],
   "source": [
    "mu = np.array([0.019, 0.022, 0.049, 0.043, 0.061, 0.083, 0.102, 0.056, 0.041, 0.038])\n",
    "vols = np.array([0.037, 0.055, 0.119, 0.107, 0.153, 0.217, 0.204, 0.14, 0.108, 0.094])\n",
    "corr_mat = np.array([[1.0, 0.6, 0.1, 0.3, -0.1, -0.1, -0.2, -0.1, -0.1, -0.1],\n",
    "                     [0.6, 1.0, 0.6, 0.6, 0.2, 0.2, 0.2, 0.1, 0.1, 0.3],\n",
    "                     [0.1, 0.6, 1.0, 0.7, 0.7, 0.6, 0.6, 0.4, 0.3, 0.7],\n",
    "                     [0.3, 0.6, 0.7, 1.0, 0.5, 0.6, 0.4, 0.2, 0.2, 0.5],\n",
    "                     [-0.1, 0.2, 0.7, 0.5, 1.0, 0.7, 0.8, 0.4, 0.4, 0.8],\n",
    "                     [-0.1, 0.2, 0.6, 0.6, 0.7, 1.0, 0.7, 0.4, 0.4, 0.7],\n",
    "                     [-0.2, 0.2, 0.6, 0.4, 0.8, 0.7, 1.0, 0.4, 0.4, 0.7],\n",
    "                     [-0.1, 0.1, 0.4, 0.2, 0.4, 0.4, 0.4, 1.0, 0.3, 0.4],\n",
    "                     [-0.1, 0.1, 0.3, 0.2, 0.4, 0.4, 0.4, 0.3, 1.0, 0.4],\n",
    "                     [-0.1, 0.3, 0.7, 0.5, 0.8, 0.7, 0.7, 0.4, 0.4, 1.0]])\n",
    "\n",
    "cov_mat = np.outer(vols, vols) * corr_mat\n",
    "cov_mat"
   ]
  },
  {
   "cell_type": "code",
   "execution_count": 39,
   "id": "04d9d373",
   "metadata": {},
   "outputs": [],
   "source": [
    "def calculate_optimal_weights_alternative(mu: np.ndarray, cov_matrix: np.ndarray, risk_aversion: float) -> np.ndarray: \n",
    "    \n",
    "    \"\"\"\n",
    "    Function that calculates optimal port. weights\n",
    "    \n",
    "    Parameters\n",
    "    ----------\n",
    "    mu: \n",
    "        Expected returns\n",
    "    cov_matrix: \n",
    "        Covariance matrix\n",
    "    risk_aversion: \n",
    "        Risk aversion parameter\n",
    "    \n",
    "    Returns\n",
    "    -------\n",
    "    float\n",
    "        Optimal portfolio weights\n",
    "    \"\"\"\n",
    "    \n",
    "    ones = np.ones_like(mu)\n",
    "    sigma_inv = np.linalg.inv(cov_matrix)\n",
    "    \n",
    "    a = ones @  sigma_inv @ mu\n",
    "    b = ones @  sigma_inv @ ones\n",
    "    \n",
    "    r_inv = 1.0 / risk_aversion\n",
    "    \n",
    "    gamma = a / b - risk_aversion / b \n",
    "    \n",
    "    opt_weights = r_inv * sigma_inv @mu - r_inv * gamma * sigma_inv @ ones\n",
    "    \n",
    "    return opt_weights"
   ]
  },
  {
   "cell_type": "code",
   "execution_count": 40,
   "id": "a3c20c15",
   "metadata": {},
   "outputs": [
    {
     "name": "stdout",
     "output_type": "stream",
     "text": [
      "optimal weights: \n"
     ]
    },
    {
     "data": {
      "text/plain": [
       "array([ 1.340008  , -1.22071065,  0.31584251,  0.3366493 , -0.3598723 ,\n",
       "       -0.04895523,  0.60319508,  0.19529637,  0.1471628 , -0.30861588])"
      ]
     },
     "execution_count": 40,
     "metadata": {},
     "output_type": "execute_result"
    }
   ],
   "source": [
    "risk_aversion = 5\n",
    "print(\"optimal weights: \")\n",
    "w_opt = calculate_optimal_weights_alternative(mu, cov_mat, risk_aversion)\n",
    "w_opt"
   ]
  },
  {
   "cell_type": "code",
   "execution_count": 41,
   "id": "c15ea293",
   "metadata": {},
   "outputs": [],
   "source": [
    "def simulate_asset_prices(mu: np.ndarray, cov_mat: np.ndarray,\n",
    "                          horizon: float, dt: float, num_sim: int,\n",
    "                          transform_input: bool=False) -> np.ndarray:\n",
    "    \n",
    "    \"\"\"\n",
    "    Simulates asset prices\n",
    "    \n",
    "    Parameters\n",
    "    ----------\n",
    "    mu: \n",
    "        Expected log-returns. \n",
    "    cov_mat: \n",
    "        Covariance matrix of log-returns. \n",
    "    horizon: \n",
    "        Simulation horizon in years. \n",
    "    dt: \n",
    "        Time step. \n",
    "    num_sim: \n",
    "        Number of simulations. \n",
    "    transform_input: \n",
    "        Boolean indicating whether to transform mu and cov_mat to time_step. \n",
    "    \n",
    "    \n",
    "    Returns\n",
    "    -------\n",
    "    np.ndarray\n",
    "        Simulated asset prices  [num sim x num time steps x num_assets]. \n",
    "    \n",
    "    \n",
    "    \"\"\"\n",
    "    \n",
    "    if transform_input:\n",
    "        mu = mu * dt\n",
    "        cov_mat = cov_mat * dt\n",
    "        \n",
    "    num_assets = len(mu)\n",
    "    \n",
    "    num_periods = int(horizon / dt)\n",
    "    \n",
    "    # allocate memory\n",
    "    asset_prices = np.ones((num_sim, 1 + num_periods, num_assets))\n",
    "    \n",
    "    # simulate returns\n",
    "    log_ret = np.random.multivariate_normal(mu, cov_mat, size=(num_sim, num_periods))\n",
    "    \n",
    "    # transform returns to asset prices\n",
    "    asset_prices[:, 1:, :] = np.exp(np.cumsum(log_ret, axis=1))\n",
    "    \n",
    "    return asset_prices"
   ]
  },
  {
   "cell_type": "code",
   "execution_count": 42,
   "id": "714fe10a",
   "metadata": {},
   "outputs": [
    {
     "data": {
      "text/plain": [
       "array([[[1.        , 1.        , 1.        , ..., 1.        ,\n",
       "         1.        , 1.        ],\n",
       "        [1.07955108, 1.04375433, 1.27469682, ..., 1.27802405,\n",
       "         0.95868763, 1.21480383],\n",
       "        [1.13315873, 1.12297002, 1.21097145, ..., 1.38841022,\n",
       "         0.93131938, 1.21838505],\n",
       "        [1.07560237, 1.00700642, 1.20134238, ..., 1.3182573 ,\n",
       "         0.87392048, 1.26117535],\n",
       "        [1.07566467, 1.04463567, 1.32085024, ..., 0.97142029,\n",
       "         0.80561927, 1.20172574],\n",
       "        [1.06122717, 1.03367157, 1.46402043, ..., 1.23098877,\n",
       "         0.87163526, 1.31628926]],\n",
       "\n",
       "       [[1.        , 1.        , 1.        , ..., 1.        ,\n",
       "         1.        , 1.        ],\n",
       "        [0.98454512, 0.95635438, 1.07470879, ..., 1.35085734,\n",
       "         1.19466923, 1.06704656],\n",
       "        [0.97730827, 0.93756937, 1.04841364, ..., 1.06457724,\n",
       "         1.3457171 , 1.1733611 ],\n",
       "        [0.92564962, 0.89141955, 1.15623021, ..., 1.39931667,\n",
       "         1.24995336, 1.43687404],\n",
       "        [0.97902501, 0.98437905, 1.62398806, ..., 1.96362813,\n",
       "         1.32670749, 1.73701367],\n",
       "        [1.02744337, 1.05032956, 1.93023978, ..., 2.2450346 ,\n",
       "         1.24423118, 1.77389028]],\n",
       "\n",
       "       [[1.        , 1.        , 1.        , ..., 1.        ,\n",
       "         1.        , 1.        ],\n",
       "        [0.99115637, 1.0035175 , 1.2363499 , ..., 1.28878254,\n",
       "         1.10857717, 1.21666346],\n",
       "        [0.99692697, 0.95843802, 1.31675771, ..., 1.65028501,\n",
       "         1.07281815, 1.30220651],\n",
       "        [0.99088079, 0.95472894, 1.20279698, ..., 1.8598465 ,\n",
       "         1.14947824, 1.21614439],\n",
       "        [0.98669372, 0.93348804, 1.26928999, ..., 2.17757198,\n",
       "         1.14676551, 1.23546935],\n",
       "        [1.0197282 , 0.90322051, 1.2368321 , ..., 1.86403326,\n",
       "         1.07481438, 1.16428568]],\n",
       "\n",
       "       ...,\n",
       "\n",
       "       [[1.        , 1.        , 1.        , ..., 1.        ,\n",
       "         1.        , 1.        ],\n",
       "        [1.05310307, 1.0359016 , 0.98956581, ..., 1.15107689,\n",
       "         0.95697151, 0.9561954 ],\n",
       "        [1.02631974, 1.01914969, 0.97817618, ..., 1.34617404,\n",
       "         1.02181419, 0.90334311],\n",
       "        [1.12442839, 1.15807503, 1.02920164, ..., 1.11478099,\n",
       "         0.94376937, 0.9042411 ],\n",
       "        [1.18776288, 1.17792482, 1.00496645, ..., 1.01517472,\n",
       "         0.91895497, 0.85893044],\n",
       "        [1.17642064, 1.19847846, 1.18641951, ..., 1.2216482 ,\n",
       "         0.89255726, 1.01174717]],\n",
       "\n",
       "       [[1.        , 1.        , 1.        , ..., 1.        ,\n",
       "         1.        , 1.        ],\n",
       "        [1.0074792 , 1.03481841, 1.04143923, ..., 0.9042657 ,\n",
       "         0.95559694, 0.9176059 ],\n",
       "        [1.02787418, 1.0402231 , 0.97311143, ..., 0.9427555 ,\n",
       "         1.11376969, 0.91449316],\n",
       "        [1.00225557, 0.96575527, 1.14767459, ..., 1.03031782,\n",
       "         1.27370487, 1.00725412],\n",
       "        [1.03588475, 0.98833644, 1.01518007, ..., 1.15612185,\n",
       "         1.38870566, 0.98137103],\n",
       "        [0.99914929, 0.97099002, 1.05030848, ..., 1.32655411,\n",
       "         1.55971403, 0.88668991]],\n",
       "\n",
       "       [[1.        , 1.        , 1.        , ..., 1.        ,\n",
       "         1.        , 1.        ],\n",
       "        [1.07516777, 1.00841497, 1.18446544, ..., 1.02573566,\n",
       "         1.02842781, 1.12884133],\n",
       "        [1.05179193, 1.06514707, 1.30007142, ..., 1.14059819,\n",
       "         1.28851172, 1.31918859],\n",
       "        [1.08354601, 1.03194471, 1.11969282, ..., 1.1215175 ,\n",
       "         1.24625282, 1.15150876],\n",
       "        [1.09711804, 1.02774562, 0.98176302, ..., 1.03324568,\n",
       "         1.30208138, 1.04859572],\n",
       "        [1.10318093, 1.05643829, 1.10541278, ..., 1.04746198,\n",
       "         1.53074512, 1.14474787]]])"
      ]
     },
     "execution_count": 42,
     "metadata": {},
     "output_type": "execute_result"
    }
   ],
   "source": [
    "\"\"\"\n",
    "Simulate asset prices\n",
    "\"\"\"\n",
    "\n",
    "num_sim = 5000\n",
    "dt = 1.0\n",
    "horizon = 5.0\n",
    "mu = mu\n",
    "cov_mat = cov_mat\n",
    "\n",
    "time_points = np.arange(0.0, horizon + 0.01, dt)\n",
    "asset_prices = simulate_asset_prices(mu, cov_mat, horizon, dt, num_sim)\n",
    "asset_prices"
   ]
  },
  {
   "cell_type": "code",
   "execution_count": 53,
   "id": "9dac4e0e",
   "metadata": {},
   "outputs": [
    {
     "data": {
      "text/plain": [
       "(5000, 6, 10)"
      ]
     },
     "execution_count": 53,
     "metadata": {},
     "output_type": "execute_result"
    }
   ],
   "source": [
    "asset_prices.shape"
   ]
  },
  {
   "cell_type": "code",
   "execution_count": 44,
   "id": "84d8b4b5",
   "metadata": {},
   "outputs": [],
   "source": [
    "asset_1 = asset_prices[:,5:6,:1]\n",
    "asset_2 = asset_prices[:,5:6,1:2]\n",
    "asset_3 = asset_prices[:,5:6,2:3]\n",
    "asset_4 = asset_prices[:,5:6,3:4]\n",
    "asset_5 = asset_prices[:,5:6,4:5]\n",
    "asset_6 = asset_prices[:,5:6,5:6]\n",
    "asset_7 = asset_prices[:,5:6,6:7]\n",
    "asset_8 = asset_prices[:,5:6,7:8]\n",
    "asset_9 = asset_prices[:,5:6,8:9]\n",
    "asset_10 = asset_prices[:,5:6,9:10]\n",
    "A1 = asset_1[:,0,0]\n",
    "A2 = asset_2[:,0,0]\n",
    "A3 = asset_3[:,0,0]\n",
    "A4 = asset_4[:,0,0]\n",
    "a5 = asset_5[:,0,0]\n",
    "a6 = asset_6[:,0,0]\n",
    "a7 = asset_7[:,0,0]\n",
    "a8 = asset_8[:,0,0]\n",
    "a9 = asset_9[:,0,0]\n",
    "a10 = asset_10[:,0,0]\n",
    "data1 = [A1,A2,A3,A4,a5,a6,a7,a8,a9,a10]"
   ]
  },
  {
   "cell_type": "code",
   "execution_count": 68,
   "id": "70dea711",
   "metadata": {},
   "outputs": [
    {
     "data": {
      "text/plain": [
       "[array([1.06122717, 1.02744337, 1.0197282 , ..., 1.17642064, 0.99914929,\n",
       "        1.10318093]),\n",
       " array([1.03367157, 1.05032956, 0.90322051, ..., 1.19847846, 0.97099002,\n",
       "        1.05643829]),\n",
       " array([1.46402043, 1.93023978, 1.2368321 , ..., 1.18641951, 1.05030848,\n",
       "        1.10541278]),\n",
       " array([0.92924046, 1.37574961, 1.22668228, ..., 0.94573248, 0.95381284,\n",
       "        1.5674609 ]),\n",
       " array([1.70595256, 2.44484793, 1.56875639, ..., 1.09915473, 0.77922232,\n",
       "        1.44738407]),\n",
       " array([1.24836186, 3.19732959, 2.72485492, ..., 0.85627205, 0.92008826,\n",
       "        2.27238625]),\n",
       " array([2.47395656, 3.4793093 , 1.84035288, ..., 1.26567093, 1.0251357 ,\n",
       "        1.36979714]),\n",
       " array([1.23098877, 2.2450346 , 1.86403326, ..., 1.2216482 , 1.32655411,\n",
       "        1.04746198]),\n",
       " array([0.87163526, 1.24423118, 1.07481438, ..., 0.89255726, 1.55971403,\n",
       "        1.53074512]),\n",
       " array([1.31628926, 1.77389028, 1.16428568, ..., 1.01174717, 0.88668991,\n",
       "        1.14474787])]"
      ]
     },
     "execution_count": 68,
     "metadata": {},
     "output_type": "execute_result"
    }
   ],
   "source": [
    "data1"
   ]
  },
  {
   "cell_type": "code",
   "execution_count": 66,
   "id": "fceb910c",
   "metadata": {},
   "outputs": [
    {
     "data": {
      "text/plain": [
       "Text(0, 0.5, 'Prices')"
      ]
     },
     "execution_count": 66,
     "metadata": {},
     "output_type": "execute_result"
    },
    {
     "data": {
      "image/png": "[encoded data removed]",
      "text/plain": [
       "<Figure size 432x288 with 1 Axes>"
      ]
     },
     "metadata": {},
     "output_type": "display_data"
    }
   ],
   "source": [
    "fig = plt.figure()\n",
    "ax = fig.add_subplot(111)\n",
    "ax.boxplot(data1)\n",
    "ax.set_figuresiz\n",
    "ax.set_title('Price Distributions', fontsize=14, fontweight='bold')\n",
    "ax.set_xlabel('Assets')\n",
    "ax.set_ylabel('Prices')"
   ]
  },
  {
   "cell_type": "code",
   "execution_count": 75,
   "id": "82a8584d",
   "metadata": {},
   "outputs": [
    {
     "data": {
      "text/html": [
       "<div>\n",
       "<style scoped>\n",
       "    .dataframe tbody tr th:only-of-type {\n",
       "        vertical-align: middle;\n",
       "    }\n",
       "\n",
       "    .dataframe tbody tr th {\n",
       "        vertical-align: top;\n",
       "    }\n",
       "\n",
       "    .dataframe thead th {\n",
       "        text-align: right;\n",
       "    }\n",
       "</style>\n",
       "<table border=\"1\" class=\"dataframe\">\n",
       "  <thead>\n",
       "    <tr style=\"text-align: right;\">\n",
       "      <th></th>\n",
       "      <th>1</th>\n",
       "      <th>2</th>\n",
       "      <th>3</th>\n",
       "      <th>4</th>\n",
       "      <th>5</th>\n",
       "      <th>6</th>\n",
       "      <th>7</th>\n",
       "      <th>8</th>\n",
       "      <th>9</th>\n",
       "      <th>10</th>\n",
       "    </tr>\n",
       "  </thead>\n",
       "  <tbody>\n",
       "    <tr>\n",
       "      <th>0</th>\n",
       "      <td>1.061227</td>\n",
       "      <td>1.033672</td>\n",
       "      <td>1.464020</td>\n",
       "      <td>0.929240</td>\n",
       "      <td>1.705953</td>\n",
       "      <td>1.248362</td>\n",
       "      <td>2.473957</td>\n",
       "      <td>1.230989</td>\n",
       "      <td>0.871635</td>\n",
       "      <td>1.316289</td>\n",
       "    </tr>\n",
       "    <tr>\n",
       "      <th>1</th>\n",
       "      <td>1.027443</td>\n",
       "      <td>1.050330</td>\n",
       "      <td>1.930240</td>\n",
       "      <td>1.375750</td>\n",
       "      <td>2.444848</td>\n",
       "      <td>3.197330</td>\n",
       "      <td>3.479309</td>\n",
       "      <td>2.245035</td>\n",
       "      <td>1.244231</td>\n",
       "      <td>1.773890</td>\n",
       "    </tr>\n",
       "    <tr>\n",
       "      <th>2</th>\n",
       "      <td>1.019728</td>\n",
       "      <td>0.903221</td>\n",
       "      <td>1.236832</td>\n",
       "      <td>1.226682</td>\n",
       "      <td>1.568756</td>\n",
       "      <td>2.724855</td>\n",
       "      <td>1.840353</td>\n",
       "      <td>1.864033</td>\n",
       "      <td>1.074814</td>\n",
       "      <td>1.164286</td>\n",
       "    </tr>\n",
       "    <tr>\n",
       "      <th>3</th>\n",
       "      <td>1.123616</td>\n",
       "      <td>1.249501</td>\n",
       "      <td>1.472099</td>\n",
       "      <td>1.400007</td>\n",
       "      <td>1.587047</td>\n",
       "      <td>1.938956</td>\n",
       "      <td>2.106129</td>\n",
       "      <td>1.355111</td>\n",
       "      <td>1.153097</td>\n",
       "      <td>1.349309</td>\n",
       "    </tr>\n",
       "    <tr>\n",
       "      <th>4</th>\n",
       "      <td>1.259549</td>\n",
       "      <td>1.254260</td>\n",
       "      <td>1.471624</td>\n",
       "      <td>1.022251</td>\n",
       "      <td>1.379965</td>\n",
       "      <td>1.847527</td>\n",
       "      <td>1.982366</td>\n",
       "      <td>1.743330</td>\n",
       "      <td>1.391609</td>\n",
       "      <td>1.612310</td>\n",
       "    </tr>\n",
       "    <tr>\n",
       "      <th>...</th>\n",
       "      <td>...</td>\n",
       "      <td>...</td>\n",
       "      <td>...</td>\n",
       "      <td>...</td>\n",
       "      <td>...</td>\n",
       "      <td>...</td>\n",
       "      <td>...</td>\n",
       "      <td>...</td>\n",
       "      <td>...</td>\n",
       "      <td>...</td>\n",
       "    </tr>\n",
       "    <tr>\n",
       "      <th>4995</th>\n",
       "      <td>1.197666</td>\n",
       "      <td>1.096933</td>\n",
       "      <td>1.293657</td>\n",
       "      <td>1.362577</td>\n",
       "      <td>1.390485</td>\n",
       "      <td>1.198399</td>\n",
       "      <td>1.058596</td>\n",
       "      <td>1.518709</td>\n",
       "      <td>0.922718</td>\n",
       "      <td>1.020736</td>\n",
       "    </tr>\n",
       "    <tr>\n",
       "      <th>4996</th>\n",
       "      <td>1.023216</td>\n",
       "      <td>1.025281</td>\n",
       "      <td>1.341431</td>\n",
       "      <td>1.163503</td>\n",
       "      <td>1.911335</td>\n",
       "      <td>1.884094</td>\n",
       "      <td>1.975489</td>\n",
       "      <td>1.149850</td>\n",
       "      <td>0.679165</td>\n",
       "      <td>1.489990</td>\n",
       "    </tr>\n",
       "    <tr>\n",
       "      <th>4997</th>\n",
       "      <td>1.176421</td>\n",
       "      <td>1.198478</td>\n",
       "      <td>1.186420</td>\n",
       "      <td>0.945732</td>\n",
       "      <td>1.099155</td>\n",
       "      <td>0.856272</td>\n",
       "      <td>1.265671</td>\n",
       "      <td>1.221648</td>\n",
       "      <td>0.892557</td>\n",
       "      <td>1.011747</td>\n",
       "    </tr>\n",
       "    <tr>\n",
       "      <th>4998</th>\n",
       "      <td>0.999149</td>\n",
       "      <td>0.970990</td>\n",
       "      <td>1.050308</td>\n",
       "      <td>0.953813</td>\n",
       "      <td>0.779222</td>\n",
       "      <td>0.920088</td>\n",
       "      <td>1.025136</td>\n",
       "      <td>1.326554</td>\n",
       "      <td>1.559714</td>\n",
       "      <td>0.886690</td>\n",
       "    </tr>\n",
       "    <tr>\n",
       "      <th>4999</th>\n",
       "      <td>1.103181</td>\n",
       "      <td>1.056438</td>\n",
       "      <td>1.105413</td>\n",
       "      <td>1.567461</td>\n",
       "      <td>1.447384</td>\n",
       "      <td>2.272386</td>\n",
       "      <td>1.369797</td>\n",
       "      <td>1.047462</td>\n",
       "      <td>1.530745</td>\n",
       "      <td>1.144748</td>\n",
       "    </tr>\n",
       "  </tbody>\n",
       "</table>\n",
       "<p>5000 rows × 10 columns</p>\n",
       "</div>"
      ],
      "text/plain": [
       "             1         2         3         4         5         6         7  \\\n",
       "0     1.061227  1.033672  1.464020  0.929240  1.705953  1.248362  2.473957   \n",
       "1     1.027443  1.050330  1.930240  1.375750  2.444848  3.197330  3.479309   \n",
       "2     1.019728  0.903221  1.236832  1.226682  1.568756  2.724855  1.840353   \n",
       "3     1.123616  1.249501  1.472099  1.400007  1.587047  1.938956  2.106129   \n",
       "4     1.259549  1.254260  1.471624  1.022251  1.379965  1.847527  1.982366   \n",
       "...        ...       ...       ...       ...       ...       ...       ...   \n",
       "4995  1.197666  1.096933  1.293657  1.362577  1.390485  1.198399  1.058596   \n",
       "4996  1.023216  1.025281  1.341431  1.163503  1.911335  1.884094  1.975489   \n",
       "4997  1.176421  1.198478  1.186420  0.945732  1.099155  0.856272  1.265671   \n",
       "4998  0.999149  0.970990  1.050308  0.953813  0.779222  0.920088  1.025136   \n",
       "4999  1.103181  1.056438  1.105413  1.567461  1.447384  2.272386  1.369797   \n",
       "\n",
       "             8         9        10  \n",
       "0     1.230989  0.871635  1.316289  \n",
       "1     2.245035  1.244231  1.773890  \n",
       "2     1.864033  1.074814  1.164286  \n",
       "3     1.355111  1.153097  1.349309  \n",
       "4     1.743330  1.391609  1.612310  \n",
       "...        ...       ...       ...  \n",
       "4995  1.518709  0.922718  1.020736  \n",
       "4996  1.149850  0.679165  1.489990  \n",
       "4997  1.221648  0.892557  1.011747  \n",
       "4998  1.326554  1.559714  0.886690  \n",
       "4999  1.047462  1.530745  1.144748  \n",
       "\n",
       "[5000 rows x 10 columns]"
      ]
     },
     "execution_count": 75,
     "metadata": {},
     "output_type": "execute_result"
    }
   ],
   "source": [
    "# Expected Covariance in 5 years\n",
    "\n",
    "asset_prices_y5 = np.stack((A1,A2,A3,A4,a5,a6,a7,a8,a9,a10), axis=1)\n",
    "asset_names = ['1','2','3','4','5','6','7','8','9','10']\n",
    "asset_prices_y5_named = pd.DataFrame(asset_prices_y5, columns=asset_names)\n",
    "asset_prices_y5_named"
   ]
  },
  {
   "cell_type": "code",
   "execution_count": 76,
   "id": "8cc9f181",
   "metadata": {},
   "outputs": [
    {
     "data": {
      "text/plain": [
       "array([[ 0.0083056 ,  0.0073873 ,  0.00352156,  0.0083995 , -0.00376653,\n",
       "        -0.00771391, -0.01508905, -0.00468105, -0.00312513, -0.00222128],\n",
       "       [ 0.0073873 ,  0.0190215 ,  0.03018038,  0.02581674,  0.01504082,\n",
       "         0.02366036,  0.02583922,  0.00601882,  0.00480571,  0.01129624],\n",
       "       [ 0.00352156,  0.03018038,  0.13212866,  0.07882512,  0.1274145 ,\n",
       "         0.18384522,  0.19434326,  0.06545981,  0.03389789,  0.0667652 ],\n",
       "       [ 0.0083995 ,  0.02581674,  0.07882512,  0.09508523,  0.07618135,\n",
       "         0.14957014,  0.10411557,  0.0262611 ,  0.01812143,  0.03976532],\n",
       "       [-0.00376653,  0.01504082,  0.1274145 ,  0.07618135,  0.25205762,\n",
       "         0.28876664,  0.35878552,  0.09049381,  0.06168801,  0.10436019],\n",
       "       [-0.00771391,  0.02366036,  0.18384522,  0.14957014,  0.28876664,\n",
       "         0.72107999,  0.52612385,  0.14760987,  0.10327918,  0.14950095],\n",
       "       [-0.01508905,  0.02583922,  0.19434326,  0.10411557,  0.35878552,\n",
       "         0.52612385,  0.84606566,  0.16471759,  0.11310742,  0.1634591 ],\n",
       "       [-0.00468105,  0.00601882,  0.06545981,  0.0262611 ,  0.09049381,\n",
       "         0.14760987,  0.16471759,  0.21006896,  0.04385683,  0.04759802],\n",
       "       [-0.00312513,  0.00480571,  0.03389789,  0.01812143,  0.06168801,\n",
       "         0.10327918,  0.11310742,  0.04385683,  0.09787597,  0.0336587 ],\n",
       "       [-0.00222128,  0.01129624,  0.0667652 ,  0.03976532,  0.10436019,\n",
       "         0.14950095,  0.1634591 ,  0.04759802,  0.0336587 ,  0.06848254]])"
      ]
     },
     "execution_count": 76,
     "metadata": {},
     "output_type": "execute_result"
    }
   ],
   "source": [
    "asset_prices_y5_cov_mat = np.cov(asset_prices_y5_named.values.T)\n",
    "asset_prices_y5_cov_mat"
   ]
  },
  {
   "cell_type": "markdown",
   "id": "ee828391",
   "metadata": {},
   "source": [
    "Asset 5 and 6 are equities and asset 7 private equity so that could make sense"
   ]
  },
  {
   "cell_type": "code",
   "execution_count": 77,
   "id": "e45d8e6d",
   "metadata": {},
   "outputs": [],
   "source": [
    "\"\"\"\n",
    "Buy and hold strategy \n",
    "\"\"\"\n",
    "\n",
    "port_w = np.ones(len(mu)) / len(mu)\n",
    "\n",
    "buy_and_hold_index = asset_prices @ port_w"
   ]
  },
  {
   "cell_type": "code",
   "execution_count": 78,
   "id": "f5eaee47",
   "metadata": {},
   "outputs": [
    {
     "data": {
      "text/plain": [
       "array([[1.        , 1.26758873, 1.24123278, 1.21134757, 1.20048019,\n",
       "        1.33353439],\n",
       "       [1.        , 1.14810706, 1.16027005, 1.26324004, 1.60090739,\n",
       "        1.97684052],\n",
       "       [1.        , 1.24824598, 1.39412209, 1.40979887, 1.53951193,\n",
       "        1.46235606],\n",
       "       ...,\n",
       "       [1.        , 0.98324697, 1.03995636, 1.08666078, 0.99907173,\n",
       "        1.08541014],\n",
       "       [1.        , 0.97869061, 0.977055  , 1.08653778, 1.02369153,\n",
       "        1.0471665 ],\n",
       "       [1.        , 1.13155475, 1.32932162, 1.26134702, 1.16523117,\n",
       "        1.36450153]])"
      ]
     },
     "execution_count": 78,
     "metadata": {},
     "output_type": "execute_result"
    }
   ],
   "source": [
    "buy_and_hold_index"
   ]
  },
  {
   "cell_type": "code",
   "execution_count": 73,
   "id": "f35e5f3e",
   "metadata": {},
   "outputs": [
    {
     "data": {
      "text/plain": [
       "(5000, 6)"
      ]
     },
     "execution_count": 73,
     "metadata": {},
     "output_type": "execute_result"
    }
   ],
   "source": [
    "buy_and_hold_index.shape"
   ]
  },
  {
   "cell_type": "code",
   "execution_count": 82,
   "id": "24d0b589",
   "metadata": {},
   "outputs": [
    {
     "data": {
      "text/html": [
       "<div>\n",
       "<style scoped>\n",
       "    .dataframe tbody tr th:only-of-type {\n",
       "        vertical-align: middle;\n",
       "    }\n",
       "\n",
       "    .dataframe tbody tr th {\n",
       "        vertical-align: top;\n",
       "    }\n",
       "\n",
       "    .dataframe thead th {\n",
       "        text-align: right;\n",
       "    }\n",
       "</style>\n",
       "<table border=\"1\" class=\"dataframe\">\n",
       "  <thead>\n",
       "    <tr style=\"text-align: right;\">\n",
       "      <th></th>\n",
       "      <th>Year 0</th>\n",
       "      <th>Year 1</th>\n",
       "      <th>Year 2</th>\n",
       "      <th>Year 3</th>\n",
       "      <th>Year 4</th>\n",
       "      <th>Year 5</th>\n",
       "    </tr>\n",
       "  </thead>\n",
       "  <tbody>\n",
       "    <tr>\n",
       "      <th>0</th>\n",
       "      <td>1.0</td>\n",
       "      <td>1.267589</td>\n",
       "      <td>1.241233</td>\n",
       "      <td>1.211348</td>\n",
       "      <td>1.200480</td>\n",
       "      <td>1.333534</td>\n",
       "    </tr>\n",
       "    <tr>\n",
       "      <th>1</th>\n",
       "      <td>1.0</td>\n",
       "      <td>1.148107</td>\n",
       "      <td>1.160270</td>\n",
       "      <td>1.263240</td>\n",
       "      <td>1.600907</td>\n",
       "      <td>1.976841</td>\n",
       "    </tr>\n",
       "    <tr>\n",
       "      <th>2</th>\n",
       "      <td>1.0</td>\n",
       "      <td>1.248246</td>\n",
       "      <td>1.394122</td>\n",
       "      <td>1.409799</td>\n",
       "      <td>1.539512</td>\n",
       "      <td>1.462356</td>\n",
       "    </tr>\n",
       "    <tr>\n",
       "      <th>3</th>\n",
       "      <td>1.0</td>\n",
       "      <td>1.053674</td>\n",
       "      <td>1.230074</td>\n",
       "      <td>1.317095</td>\n",
       "      <td>1.417388</td>\n",
       "      <td>1.473487</td>\n",
       "    </tr>\n",
       "    <tr>\n",
       "      <th>4</th>\n",
       "      <td>1.0</td>\n",
       "      <td>1.075166</td>\n",
       "      <td>1.221948</td>\n",
       "      <td>1.409492</td>\n",
       "      <td>1.317668</td>\n",
       "      <td>1.496479</td>\n",
       "    </tr>\n",
       "    <tr>\n",
       "      <th>...</th>\n",
       "      <td>...</td>\n",
       "      <td>...</td>\n",
       "      <td>...</td>\n",
       "      <td>...</td>\n",
       "      <td>...</td>\n",
       "      <td>...</td>\n",
       "    </tr>\n",
       "    <tr>\n",
       "      <th>4995</th>\n",
       "      <td>1.0</td>\n",
       "      <td>1.058244</td>\n",
       "      <td>1.032291</td>\n",
       "      <td>1.038140</td>\n",
       "      <td>1.068884</td>\n",
       "      <td>1.206048</td>\n",
       "    </tr>\n",
       "    <tr>\n",
       "      <th>4996</th>\n",
       "      <td>1.0</td>\n",
       "      <td>1.185874</td>\n",
       "      <td>1.297608</td>\n",
       "      <td>1.326396</td>\n",
       "      <td>1.198449</td>\n",
       "      <td>1.364335</td>\n",
       "    </tr>\n",
       "    <tr>\n",
       "      <th>4997</th>\n",
       "      <td>1.0</td>\n",
       "      <td>0.983247</td>\n",
       "      <td>1.039956</td>\n",
       "      <td>1.086661</td>\n",
       "      <td>0.999072</td>\n",
       "      <td>1.085410</td>\n",
       "    </tr>\n",
       "    <tr>\n",
       "      <th>4998</th>\n",
       "      <td>1.0</td>\n",
       "      <td>0.978691</td>\n",
       "      <td>0.977055</td>\n",
       "      <td>1.086538</td>\n",
       "      <td>1.023692</td>\n",
       "      <td>1.047166</td>\n",
       "    </tr>\n",
       "    <tr>\n",
       "      <th>4999</th>\n",
       "      <td>1.0</td>\n",
       "      <td>1.131555</td>\n",
       "      <td>1.329322</td>\n",
       "      <td>1.261347</td>\n",
       "      <td>1.165231</td>\n",
       "      <td>1.364502</td>\n",
       "    </tr>\n",
       "  </tbody>\n",
       "</table>\n",
       "<p>5000 rows × 6 columns</p>\n",
       "</div>"
      ],
      "text/plain": [
       "      Year 0    Year 1    Year 2    Year 3    Year 4    Year 5\n",
       "0        1.0  1.267589  1.241233  1.211348  1.200480  1.333534\n",
       "1        1.0  1.148107  1.160270  1.263240  1.600907  1.976841\n",
       "2        1.0  1.248246  1.394122  1.409799  1.539512  1.462356\n",
       "3        1.0  1.053674  1.230074  1.317095  1.417388  1.473487\n",
       "4        1.0  1.075166  1.221948  1.409492  1.317668  1.496479\n",
       "...      ...       ...       ...       ...       ...       ...\n",
       "4995     1.0  1.058244  1.032291  1.038140  1.068884  1.206048\n",
       "4996     1.0  1.185874  1.297608  1.326396  1.198449  1.364335\n",
       "4997     1.0  0.983247  1.039956  1.086661  0.999072  1.085410\n",
       "4998     1.0  0.978691  0.977055  1.086538  1.023692  1.047166\n",
       "4999     1.0  1.131555  1.329322  1.261347  1.165231  1.364502\n",
       "\n",
       "[5000 rows x 6 columns]"
      ]
     },
     "execution_count": 82,
     "metadata": {},
     "output_type": "execute_result"
    }
   ],
   "source": [
    "# Presentation of portfolio return data\n",
    "col_names = ['Year 0','Year 1','Year 2','Year 3','Year 4','Year 5']\n",
    "buy_and_hold_index_table = pd.DataFrame(buy_and_hold_index, columns=col_names)\n",
    "buy_and_hold_index_table"
   ]
  },
  {
   "cell_type": "code",
   "execution_count": 95,
   "id": "9707d6de",
   "metadata": {},
   "outputs": [
    {
     "ename": "NameError",
     "evalue": "name 'portfolio_variance' is not defined",
     "output_type": "error",
     "traceback": [
      "\u001b[0;31m---------------------------------------------------------------------------\u001b[0m",
      "\u001b[0;31mNameError\u001b[0m                                 Traceback (most recent call last)",
      "Input \u001b[0;32mIn [95]\u001b[0m, in \u001b[0;36m<cell line: 21>\u001b[0;34m()\u001b[0m\n\u001b[1;32m     23\u001b[0m     target_cons \u001b[38;5;241m=\u001b[39m {\u001b[38;5;124m'\u001b[39m\u001b[38;5;124mtype\u001b[39m\u001b[38;5;124m'\u001b[39m: \u001b[38;5;124m'\u001b[39m\u001b[38;5;124meq\u001b[39m\u001b[38;5;124m'\u001b[39m,\n\u001b[1;32m     24\u001b[0m                    \u001b[38;5;124m'\u001b[39m\u001b[38;5;124mfun\u001b[39m\u001b[38;5;124m'\u001b[39m : \u001b[38;5;28;01mlambda\u001b[39;00m x: np\u001b[38;5;241m.\u001b[39maverage(prices_5y \u001b[38;5;241m@\u001b[39m x) \u001b[38;5;241m-\u001b[39m target_return}\n\u001b[1;32m     27\u001b[0m     x0 \u001b[38;5;241m=\u001b[39m np\u001b[38;5;241m.\u001b[39mones(\u001b[38;5;241m10\u001b[39m) \u001b[38;5;241m/\u001b[39m \u001b[38;5;241m10.0\u001b[39m\n\u001b[0;32m---> 28\u001b[0m     res \u001b[38;5;241m=\u001b[39m optimize\u001b[38;5;241m.\u001b[39mminimize(\u001b[43mportfolio_variance\u001b[49m, x0\u001b[38;5;241m=\u001b[39mx0, args\u001b[38;5;241m=\u001b[39m(cov_mat_5y,),\n\u001b[1;32m     29\u001b[0m                                  method\u001b[38;5;241m=\u001b[39m\u001b[38;5;124m'\u001b[39m\u001b[38;5;124mSLSQP\u001b[39m\u001b[38;5;124m'\u001b[39m,\n\u001b[1;32m     30\u001b[0m                                  constraints\u001b[38;5;241m=\u001b[39m[sum_to_one_cons, no_short_cons, target_cons], \n\u001b[1;32m     31\u001b[0m                                  options\u001b[38;5;241m=\u001b[39m{\u001b[38;5;124m'\u001b[39m\u001b[38;5;124mftol\u001b[39m\u001b[38;5;124m'\u001b[39m: \u001b[38;5;241m1e-9\u001b[39m, \u001b[38;5;124m'\u001b[39m\u001b[38;5;124mdisp\u001b[39m\u001b[38;5;124m'\u001b[39m: \u001b[38;5;28;01mTrue\u001b[39;00m}, bounds\u001b[38;5;241m=\u001b[39mbounds)\n\u001b[1;32m     33\u001b[0m     optimal_weights\u001b[38;5;241m.\u001b[39mappend(res\u001b[38;5;241m.\u001b[39mx)\n\u001b[1;32m     35\u001b[0m optimal_weights \u001b[38;5;241m=\u001b[39m np\u001b[38;5;241m.\u001b[39marray(optimal_weights)\n",
      "\u001b[0;31mNameError\u001b[0m: name 'portfolio_variance' is not defined"
     ]
    }
   ],
   "source": [
    "# Define portfolio return\n",
    "\n",
    "buy_and_hold_index_table\n",
    "prices_5y = buy_and_hold_index_table['Year 5']\n",
    "cov_mat_5y = np.cov(prices_5y, rowvar=False)\n",
    "\n",
    "# Define Relevant Constraints\n",
    "\n",
    "sum_to_one_cons = {'type': 'eq',\n",
    "                   'fun' : lambda x: np.sum(x) - 1.0}\n",
    "\n",
    "no_short_cons = {'type': 'ineq',\n",
    "                 'fun' : lambda x: x}\n",
    "\n",
    "target_returns = np.arange(1.268294, 1.544342, 0.005) # this will depend on the returns of the simulated data. \n",
    "# target_returns = np.arange(1.3, 1.526, 0.025)\n",
    "\n",
    "# Define Optimal Weights\n",
    "\n",
    "optimal_weights = list()\n",
    "for target_return in target_returns:\n",
    "    # define constraint \n",
    "    target_cons = {'type': 'eq',\n",
    "                   'fun' : lambda x: np.average(prices_5y @ x) - target_return}\n",
    "\n",
    "\n",
    "    x0 = np.ones(10) / 10.0\n",
    "    res = optimize.minimize(portfolio_variance, x0=x0, args=(cov_mat_5y,),\n",
    "                                 method='SLSQP',\n",
    "                                 constraints=[sum_to_one_cons, no_short_cons, target_cons], \n",
    "                                 options={'ftol': 1e-9, 'disp': True}, bounds=bounds)\n",
    "    \n",
    "    optimal_weights.append(res.x)\n",
    "    \n",
    "optimal_weights = np.array(optimal_weights)"
   ]
  },
  {
   "cell_type": "code",
   "execution_count": 18,
   "id": "1de2ab3f",
   "metadata": {},
   "outputs": [
    {
     "ename": "NameError",
     "evalue": "name 'fan_chart' is not defined",
     "output_type": "error",
     "traceback": [
      "\u001b[0;31m---------------------------------------------------------------------------\u001b[0m",
      "\u001b[0;31mNameError\u001b[0m                                 Traceback (most recent call last)",
      "Input \u001b[0;32mIn [18]\u001b[0m, in \u001b[0;36m<cell line: 11>\u001b[0;34m()\u001b[0m\n\u001b[1;32m      5\u001b[0m \u001b[38;5;124;03m\"\"\"\u001b[39;00m\n\u001b[1;32m      6\u001b[0m \u001b[38;5;124;03mPlot fan chart\u001b[39;00m\n\u001b[1;32m      7\u001b[0m \u001b[38;5;124;03m\"\"\"\u001b[39;00m\n\u001b[1;32m      9\u001b[0m fig, ax \u001b[38;5;241m=\u001b[39m plt\u001b[38;5;241m.\u001b[39msubplots(\u001b[38;5;241m1\u001b[39m, \u001b[38;5;241m2\u001b[39m, figsize\u001b[38;5;241m=\u001b[39m(\u001b[38;5;241m16\u001b[39m, \u001b[38;5;241m6\u001b[39m))\n\u001b[0;32m---> 11\u001b[0m \u001b[43mfan_chart\u001b[49m(time_points,\n\u001b[1;32m     12\u001b[0m           percentiles_buy_and_hold,\n\u001b[1;32m     13\u001b[0m           color\u001b[38;5;241m=\u001b[39mdefault_colors[\u001b[38;5;124m'\u001b[39m\u001b[38;5;124mcyan\u001b[39m\u001b[38;5;124m'\u001b[39m],\n\u001b[1;32m     14\u001b[0m           color_median\u001b[38;5;241m=\u001b[39mdefault_colors[\u001b[38;5;124m'\u001b[39m\u001b[38;5;124mdark_blue\u001b[39m\u001b[38;5;124m'\u001b[39m],\n\u001b[1;32m     15\u001b[0m           labels\u001b[38;5;241m=\u001b[39m[\u001b[38;5;124m'\u001b[39m\u001b[38;5;124m99\u001b[39m\u001b[38;5;124m%\u001b[39m\u001b[38;5;124m CI\u001b[39m\u001b[38;5;124m'\u001b[39m, \u001b[38;5;124m'\u001b[39m\u001b[38;5;124m98\u001b[39m\u001b[38;5;124m%\u001b[39m\u001b[38;5;124m CI\u001b[39m\u001b[38;5;124m'\u001b[39m, \u001b[38;5;124m'\u001b[39m\u001b[38;5;124m95\u001b[39m\u001b[38;5;124m%\u001b[39m\u001b[38;5;124m CI\u001b[39m\u001b[38;5;124m'\u001b[39m, \u001b[38;5;124m'\u001b[39m\u001b[38;5;124m90\u001b[39m\u001b[38;5;124m%\u001b[39m\u001b[38;5;124m CI\u001b[39m\u001b[38;5;124m'\u001b[39m, \u001b[38;5;124m'\u001b[39m\u001b[38;5;124m80\u001b[39m\u001b[38;5;124m%\u001b[39m\u001b[38;5;124m CI\u001b[39m\u001b[38;5;124m'\u001b[39m, \u001b[38;5;124m'\u001b[39m\u001b[38;5;124mMedian\u001b[39m\u001b[38;5;124m'\u001b[39m],\n\u001b[1;32m     16\u001b[0m           ax\u001b[38;5;241m=\u001b[39max[\u001b[38;5;241m0\u001b[39m])\n\u001b[1;32m     18\u001b[0m ax[\u001b[38;5;241m0\u001b[39m]\u001b[38;5;241m.\u001b[39mset_xlabel(\u001b[38;5;124m\"\u001b[39m\u001b[38;5;124mYear\u001b[39m\u001b[38;5;124m\"\u001b[39m, size\u001b[38;5;241m=\u001b[39m\u001b[38;5;241m15\u001b[39m)\n\u001b[1;32m     19\u001b[0m ax[\u001b[38;5;241m0\u001b[39m]\u001b[38;5;241m.\u001b[39mset_ylabel(\u001b[38;5;124m\"\u001b[39m\u001b[38;5;124mIndex value\u001b[39m\u001b[38;5;124m\"\u001b[39m, size\u001b[38;5;241m=\u001b[39m\u001b[38;5;241m15\u001b[39m)\n",
      "\u001b[0;31mNameError\u001b[0m: name 'fan_chart' is not defined"
     ]
    },
    {
     "data": {
      "image/png": "[encoded data removed]",
      "text/plain": [
       "<Figure size 1152x432 with 2 Axes>"
      ]
     },
     "metadata": {},
     "output_type": "display_data"
    }
   ],
   "source": [
    "# calculate percentiles\n",
    "percentiles_buy_and_hold = np.percentile(buy_and_hold_index, [0.5, 1.0, 2.5, 5, 10, 50, 90, 95, 97.5, 99.0, 99.5],\n",
    "                                         axis=0)\n",
    "\n",
    "\"\"\"\n",
    "Plot fan chart\n",
    "\"\"\"\n",
    "\n",
    "fig, ax = plt.subplots(1, 2, figsize=(16, 6))\n",
    "\n",
    "fan_chart(time_points,\n",
    "          percentiles_buy_and_hold,\n",
    "          color=default_colors['cyan'],\n",
    "          color_median=default_colors['dark_blue'],\n",
    "          labels=['99% CI', '98% CI', '95% CI', '90% CI', '80% CI', 'Median'],\n",
    "          ax=ax[0])\n",
    "\n",
    "ax[0].set_xlabel(\"Year\", size=15)\n",
    "ax[0].set_ylabel(\"Index value\", size=15)\n",
    "ax[0].set_title(\"Buy and Hold\", size=15)\n",
    "ax[0].set_ylim([0.5, 3.0])\n",
    "ax[0].legend(loc='upper center', bbox_to_anchor=(0.5, -0.15), ncol=5, fontsize=12);"
   ]
  },
  {
   "cell_type": "code",
   "execution_count": null,
   "id": "33e98fd9",
   "metadata": {},
   "outputs": [],
   "source": [
    "np.mean(buy_and_hold_index[:, 5])"
   ]
  },
  {
   "cell_type": "code",
   "execution_count": 19,
   "id": "396f8a11",
   "metadata": {},
   "outputs": [
    {
     "data": {
      "text/plain": [
       "1.3420552096123481"
      ]
     },
     "execution_count": 19,
     "metadata": {},
     "output_type": "execute_result"
    }
   ],
   "source": [
    "np.median(buy_and_hold_index[:, 5])"
   ]
  },
  {
   "cell_type": "markdown",
   "id": "b18e28fb",
   "metadata": {},
   "source": [
    "Transactions Costs with Asset 5"
   ]
  },
  {
   "cell_type": "code",
   "execution_count": 67,
   "id": "5f918519",
   "metadata": {},
   "outputs": [],
   "source": [
    "# Starting Wealth\n",
    "a0 = 500000"
   ]
  },
  {
   "cell_type": "code",
   "execution_count": 89,
   "id": "71927cf2",
   "metadata": {},
   "outputs": [],
   "source": [
    "# Defining array of prices of all simulations each year for asset 5\n",
    "a5_y0 = asset_prices[:,0:1,4:5]\n",
    "a5_y1 = asset_prices[:,1:2,4:5]\n",
    "a5_y2 = asset_prices[:,2:3,4:5]\n",
    "a5_y3 = asset_prices[:,3:4,4:5]\n",
    "a5_y4 = asset_prices[:,4:5,4:5]\n",
    "a5_y5 = asset_prices[:,5:6,4:5]\n",
    "\n",
    "a5_y0_mean = np.mean(a5_y0)\n",
    "a5_y1_mean = np.mean(a5_y1)\n",
    "a5_y2_mean = np.mean(a5_y2)\n",
    "a5_y3_mean = np.mean(a5_y3)\n",
    "a5_y4_mean = np.mean(a5_y4)\n",
    "a5_y5_mean = np.mean(a5_y5)\n",
    "\n",
    "# Transactions Cost\n",
    "k = 0.02"
   ]
  },
  {
   "cell_type": "code",
   "execution_count": 69,
   "id": "31d95e03",
   "metadata": {},
   "outputs": [],
   "source": [
    "# Defining the \n",
    "a5_y0_cost = (a5_y0_mean*a0-a0)*k\n",
    "a5_y1_cost = (a5_y1_mean*a0-a0)*k\n",
    "a5_y2_cost = (a5_y2_mean*a0-a0)*k\n",
    "a5_y3_cost = (a5_y3_mean*a0-a0)*k\n",
    "a5_y4_cost = (a5_y4_mean*a0-a0)*k\n",
    "a5_y5_cost = (a5_y5_mean*a0-a0)*k"
   ]
  },
  {
   "cell_type": "code",
   "execution_count": 70,
   "id": "b899a125",
   "metadata": {},
   "outputs": [],
   "source": [
    "x = [0,1,2,3,4,5]\n",
    "y = [a5_y0_cost,a5_y1_cost,a5_y2_cost,a5_y3_cost,a5_y4_cost,a5_y5_cost]"
   ]
  },
  {
   "cell_type": "code",
   "execution_count": 71,
   "id": "bf4cbc8b",
   "metadata": {},
   "outputs": [
    {
     "data": {
      "text/plain": [
       "Text(0.5, 1.0, 'Transactions Costs as a Function of Returns')"
      ]
     },
     "execution_count": 71,
     "metadata": {},
     "output_type": "execute_result"
    },
    {
     "data": {
      "image/png": "[encoded data removed]",
      "text/plain": [
       "<Figure size 432x288 with 1 Axes>"
      ]
     },
     "metadata": {
      "needs_background": "light"
     },
     "output_type": "display_data"
    }
   ],
   "source": [
    "plt.plot(x,y)\n",
    "plt.xlabel('Years')\n",
    "plt.ylabel('Transactions Costs')\n",
    "plt.title('Transactions Costs as a Function of Returns', fontweight='bold')"
   ]
  },
  {
   "cell_type": "markdown",
   "id": "544db695",
   "metadata": {},
   "source": [
    "Utility Function Part"
   ]
  },
  {
   "cell_type": "code",
   "execution_count": 87,
   "id": "e43ac4d3",
   "metadata": {},
   "outputs": [
    {
     "ename": "NameError",
     "evalue": "name 'a5_y0_mean' is not defined",
     "output_type": "error",
     "traceback": [
      "\u001b[0;31m---------------------------------------------------------------------------\u001b[0m",
      "\u001b[0;31mNameError\u001b[0m                                 Traceback (most recent call last)",
      "Input \u001b[0;32mIn [87]\u001b[0m, in \u001b[0;36m<cell line: 1>\u001b[0;34m()\u001b[0m\n\u001b[0;32m----> 1\u001b[0m x1 \u001b[38;5;241m=\u001b[39m [(\u001b[43ma5_y0_mean\u001b[49m\u001b[38;5;241m*\u001b[39ma0\u001b[38;5;241m-\u001b[39ma0),a5_y1_mean\u001b[38;5;241m*\u001b[39ma0\u001b[38;5;241m-\u001b[39ma0,a5_y2_mean\u001b[38;5;241m*\u001b[39ma0\u001b[38;5;241m-\u001b[39ma0,a5_y3_mean\u001b[38;5;241m*\u001b[39ma0\u001b[38;5;241m-\u001b[39ma0,a5_y4_mean\u001b[38;5;241m*\u001b[39ma0\u001b[38;5;241m-\u001b[39ma0,a5_y5_mean\u001b[38;5;241m*\u001b[39ma0\u001b[38;5;241m-\u001b[39ma0]\n\u001b[1;32m      2\u001b[0m y1 \u001b[38;5;241m=\u001b[39m [a5_y0_cost,a5_y1_cost,a5_y2_cost,a5_y3_cost,a5_y4_cost,a5_y5_cost]\n\u001b[1;32m      4\u001b[0m plt\u001b[38;5;241m.\u001b[39mplot(x1,y1)\n",
      "\u001b[0;31mNameError\u001b[0m: name 'a5_y0_mean' is not defined"
     ]
    }
   ],
   "source": [
    "\n",
    "\n",
    "x1 = [a5_y0_mean,a5_y1_mean*a0-a0,a5_y2_mean*a0-a0,a5_y3_mean*a0-a0,a5_y4_mean*a0-a0,a5_y5_mean*a0-a0]\n",
    "y1 = [a5_y0_cost,a5_y1_cost,a5_y2_cost,a5_y3_cost,a5_y4_cost,a5_y5_cost]\n",
    "\n",
    "plt.plot(x1,y1)\n",
    "plt.xlabel('Years')\n",
    "plt.ylabel('Transactions Costs')\n",
    "plt.title('Transactions Costs as a Function of Returns', fontweight='bold')"
   ]
  },
  {
   "cell_type": "code",
   "execution_count": null,
   "id": "c3b13bd5",
   "metadata": {},
   "outputs": [],
   "source": []
  }
 ],
 "metadata": {
  "kernelspec": {
   "display_name": "Python 3 (ipykernel)",
   "language": "python",
   "name": "python3"
  },
  "language_info": {
   "codemirror_mode": {
    "name": "ipython",
    "version": 3
   },
   "file_extension": ".py",
   "mimetype": "text/x-python",
   "name": "python",
   "nbconvert_exporter": "python",
   "pygments_lexer": "ipython3",
   "version": "3.9.12"
  }
 },
 "nbformat": 4,
 "nbformat_minor": 5
}
