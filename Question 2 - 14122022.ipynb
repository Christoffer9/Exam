{
 "cells": [
  {
   "cell_type": "code",
   "execution_count": 75,
   "id": "179bfcd6",
   "metadata": {
    "pycharm": {
     "name": "#%%\n"
    }
   },
   "outputs": [
    {
     "name": "stdout",
     "output_type": "stream",
     "text": [
      "The autoreload extension is already loaded. To reload it, use:\n",
      "  %reload_ext autoreload\n"
     ]
    }
   ],
   "source": [
    "import sys\n",
    "sys.path.insert(0,'C:\\\\users\\\\alexa\\\\python_for_the_financial_economist\\\\')\n",
    "\n",
    "\"\"\"\n",
    "Magic commands\n",
    "\"\"\"\n",
    "\n",
    "%load_ext autoreload\n",
    "%autoreload 2\n",
    "\n",
    "\"\"\"\n",
    "Load relevant packages\n",
    "\"\"\"\n",
    "\n",
    "import numpy as np\n",
    "import pandas as pd\n",
    "import matplotlib.pyplot as plt\n",
    "import matplotlib.ticker as mtick\n",
    "import seaborn as sns\n",
    "import datetime\n",
    "from scipy import stats\n",
    "from scipy.optimize import minimize\n",
    "from scipy import optimize\n",
    "import matplotlib.ticker as ticker\n",
    "\n",
    "from pandas_datareader.data import DataReader\n",
    "from pandas_datareader.famafrench import FamaFrenchReader, get_available_datasets\n",
    "\n",
    "from typing import Union, Tuple\n",
    "\n",
    "\"\"\"\n",
    "Own packages\n",
    "\"\"\"\n",
    "\n",
    "from codelib.statistics import calculate_cornish_fisher_percentile\n",
    "from codelib.portfolio_optimization.risk_budget import calculate_marginal_risks_std, calculate_risk_contributions_std\n",
    "from codelib.portfolio_optimization.risk_metrics import calculate_normal_cond_value_at_risk, calculate_normal_value_at_risk\n",
    "from codelib.portfolio_optimization.risk_metrics import calculate_normal_port_cond_value_at_risk, calculate_normal_port_value_at_risk\n",
    "from codelib.portfolio_optimization.risk_metrics import calculate_conditional_value_at_risk, calculate_value_at_risk\n",
    "from codelib.portfolio_optimization.risk_budget import calculate_marginal_risks_cvar, calculate_risk_contributions_cvar\n",
    "from codelib.portfolio_optimization.mean_variance import portfolio_mean, portfolio_std, portfolio_variance\n",
    "from codelib.portfolio_optimization.risk_budget import calculate_marginal_risks_std, calculate_risk_contributions_normal_var, calculate_marginal_sharpe\n",
    "from codelib.visualization.base import risk_waterfall_chart\n",
    "from codelib.portfolio_optimization.risk_metrics import drawdown, maxdrawdown\n",
    "\n",
    "from codelib.visualization.base import correlation_plot, fan_chart\n",
    "from codelib.visualization.layout import DefaultStyle, default_colors\n",
    "DefaultStyle();\n",
    "\n",
    "from codelib.statistics.moments import corr_to_cov_matrix, cov_to_corr_matrix\n",
    "from codelib.statistics.robust_covariance import marchencko_pastur_bounds, marchencko_pastur_density, fitting_error, crem_denoised_corr_mat\n",
    "\n",
    "from codelib.visualization.layout import DefaultStyle\n",
    "DefaultStyle();"
   ]
  },
  {
   "cell_type": "code",
   "execution_count": 76,
   "id": "2323a0f8",
   "metadata": {
    "pycharm": {
     "name": "#%%\n"
    }
   },
   "outputs": [
    {
     "data": {
      "text/plain": [
       "array([[ 0.001369 ,  0.001221 ,  0.0004403,  0.0011877, -0.0005661,\n",
       "        -0.0008029, -0.0015096, -0.000518 , -0.0003996, -0.0003478],\n",
       "       [ 0.001221 ,  0.003025 ,  0.003927 ,  0.003531 ,  0.001683 ,\n",
       "         0.002387 ,  0.002244 ,  0.00077  ,  0.000594 ,  0.001551 ],\n",
       "       [ 0.0004403,  0.003927 ,  0.014161 ,  0.0089131,  0.0127449,\n",
       "         0.0154938,  0.0145656,  0.006664 ,  0.0038556,  0.0078302],\n",
       "       [ 0.0011877,  0.003531 ,  0.0089131,  0.011449 ,  0.0081855,\n",
       "         0.0139314,  0.0087312,  0.002996 ,  0.0023112,  0.005029 ],\n",
       "       [-0.0005661,  0.001683 ,  0.0127449,  0.0081855,  0.023409 ,\n",
       "         0.0232407,  0.0249696,  0.008568 ,  0.0066096,  0.0115056],\n",
       "       [-0.0008029,  0.002387 ,  0.0154938,  0.0139314,  0.0232407,\n",
       "         0.047089 ,  0.0309876,  0.012152 ,  0.0093744,  0.0142786],\n",
       "       [-0.0015096,  0.002244 ,  0.0145656,  0.0087312,  0.0249696,\n",
       "         0.0309876,  0.041616 ,  0.011424 ,  0.0088128,  0.0134232],\n",
       "       [-0.000518 ,  0.00077  ,  0.006664 ,  0.002996 ,  0.008568 ,\n",
       "         0.012152 ,  0.011424 ,  0.0196   ,  0.004536 ,  0.005264 ],\n",
       "       [-0.0003996,  0.000594 ,  0.0038556,  0.0023112,  0.0066096,\n",
       "         0.0093744,  0.0088128,  0.004536 ,  0.011664 ,  0.0040608],\n",
       "       [-0.0003478,  0.001551 ,  0.0078302,  0.005029 ,  0.0115056,\n",
       "         0.0142786,  0.0134232,  0.005264 ,  0.0040608,  0.008836 ]])"
      ]
     },
     "execution_count": 76,
     "metadata": {},
     "output_type": "execute_result"
    }
   ],
   "source": [
    "\"\"\"\n",
    "Question 2\n",
    "\"\"\"\n",
    "\n",
    "# Covariance Matrix\n",
    "\n",
    "vols = np.array([0.037, 0.055, 0.119, 0.107, 0.153, 0.217, 0.204, 0.14, 0.108, 0.094])\n",
    "corr_mat = np.array([[1.0, 0.6, 0.1, 0.3, -0.1, -0.1, -0.2, -0.1, -0.1, -0.1],\n",
    "                     [0.6, 1.0, 0.6, 0.6, 0.2, 0.2, 0.2, 0.1, 0.1, 0.3],\n",
    "                     [0.1, 0.6, 1.0, 0.7, 0.7, 0.6, 0.6, 0.4, 0.3, 0.7],\n",
    "                     [0.3, 0.6, 0.7, 1.0, 0.5, 0.6, 0.4, 0.2, 0.2, 0.5],\n",
    "                     [-0.1, 0.2, 0.7, 0.5, 1.0, 0.7, 0.8, 0.4, 0.4, 0.8],\n",
    "                     [-0.1, 0.2, 0.6, 0.6, 0.7, 1.0, 0.7, 0.4, 0.4, 0.7],\n",
    "                     [-0.2, 0.2, 0.6, 0.4, 0.8, 0.7, 1.0, 0.4, 0.4, 0.7],\n",
    "                     [-0.1, 0.1, 0.4, 0.2, 0.4, 0.4, 0.4, 1.0, 0.3, 0.4],\n",
    "                     [-0.1, 0.1, 0.3, 0.2, 0.4, 0.4, 0.4, 0.3, 1.0, 0.4],\n",
    "                     [-0.1, 0.3, 0.7, 0.5, 0.8, 0.7, 0.7, 0.4, 0.4, 1.0]])\n",
    "\n",
    "cov_mat = np.outer(vols, vols) * corr_mat\n",
    "cov_mat"
   ]
  },
  {
   "cell_type": "code",
   "execution_count": 77,
   "id": "d5050b98",
   "metadata": {
    "pycharm": {
     "name": "#%%\n"
    }
   },
   "outputs": [],
   "source": [
    "# Mean\n",
    "\n",
    "mu = np.array([0.019, 0.022, 0.049, 0.043, 0.061, 0.083, 0.102, 0.056, 0.041, 0.038])-0.5*np.diag(cov_mat)"
   ]
  },
  {
   "cell_type": "code",
   "execution_count": 78,
   "id": "fba9e110",
   "metadata": {
    "pycharm": {
     "name": "#%%\n"
    }
   },
   "outputs": [],
   "source": [
    "# Defining a Function that Simulates Asset Prices\n",
    "\n",
    "def simulate_asset_prices(mu: np.ndarray, cov_mat: np.ndarray,\n",
    "                          horizon: float, dt: float, num_sim: int,\n",
    "                          transform_input: bool=False) -> np.ndarray:\n",
    "    \n",
    "    \"\"\"\n",
    "    Simulates asset prices\n",
    "    \n",
    "    Parameters\n",
    "    ----------\n",
    "    mu: \n",
    "        Expected log-returns. \n",
    "    cov_mat: \n",
    "        Covariance matrix of log-returns. \n",
    "    horizon: \n",
    "        Simulation horizon in years. \n",
    "    dt: \n",
    "        Time step. \n",
    "    num_sim: \n",
    "        Number of simulations. \n",
    "    transform_input: \n",
    "        Boolean indicating whether to transform mu and cov_mat to time_step. \n",
    "    \n",
    "    \n",
    "    Returns\n",
    "    -------\n",
    "    np.ndarray\n",
    "        Simulated asset prices  [num sim x num time steps x num_assets]. \n",
    "    \n",
    "    \n",
    "    \"\"\"\n",
    "    \n",
    "    if transform_input:\n",
    "        mu = mu * dt\n",
    "        cov_mat = cov_mat * dt\n",
    "        \n",
    "    num_assets = len(mu)\n",
    "    \n",
    "    num_periods = int(horizon / dt)\n",
    "    \n",
    "    # allocate memory\n",
    "    asset_prices = np.ones((num_sim, 1 + num_periods, num_assets))\n",
    "    \n",
    "    # simulate returns\n",
    "    log_ret = np.random.multivariate_normal(mu, cov_mat, size=(num_sim, num_periods))\n",
    "    \n",
    "    # transform returns to asset prices\n",
    "    asset_prices[:, 1:, :] = np.exp(np.cumsum(log_ret, axis=1))\n",
    "    \n",
    "    return asset_prices"
   ]
  },
  {
   "cell_type": "code",
   "execution_count": 79,
   "id": "4352ed58",
   "metadata": {
    "pycharm": {
     "name": "#%%\n"
    }
   },
   "outputs": [],
   "source": [
    "# Simulate Asset Prices\n",
    "\n",
    "num_sim = 5000\n",
    "dt = 1.0\n",
    "horizon = 5.0\n",
    "mu = mu\n",
    "cov_mat = cov_mat\n",
    "\n",
    "time_points = np.arange(0.0, horizon + 0.01, dt)\n",
    "asset_prices = simulate_asset_prices(mu, cov_mat, horizon, dt, num_sim)"
   ]
  },
  {
   "cell_type": "code",
   "execution_count": 102,
   "id": "3b2a3b33",
   "metadata": {
    "pycharm": {
     "name": "#%%\n"
    }
   },
   "outputs": [],
   "source": [
    "# Isolating Simulated Prices In Year 5 For Each Asset\n",
    "\n",
    "asset_0 = asset_prices[:,5:6,:1]\n",
    "asset_1 = asset_prices[:,5:6,:1]\n",
    "asset_2 = asset_prices[:,5:6,1:2]\n",
    "asset_3 = asset_prices[:,5:6,2:3]\n",
    "asset_4 = asset_prices[:,5:6,3:4]\n",
    "asset_5 = asset_prices[:,5:6,4:5]\n",
    "asset_6 = asset_prices[:,5:6,5:6]\n",
    "asset_7 = asset_prices[:,5:6,6:7]\n",
    "asset_8 = asset_prices[:,5:6,7:8]\n",
    "asset_9 = asset_prices[:,5:6,8:9]\n",
    "asset_10 = asset_prices[:,5:6,9:10]\n",
    "\n",
    "A0 = asset_0[:,0,0]\n",
    "A1 = asset_1[:,0,0]\n",
    "A2 = asset_2[:,0,0]\n",
    "A3 = asset_3[:,0,0]\n",
    "A4 = asset_4[:,0,0]\n",
    "a5 = asset_5[:,0,0]\n",
    "a6 = asset_6[:,0,0]\n",
    "a7 = asset_7[:,0,0]\n",
    "a8 = asset_8[:,0,0]\n",
    "a9 = asset_9[:,0,0]\n",
    "a10 = asset_10[:,0,0]\n",
    "\n",
    "price_distribution = [A0, A1,A2,A3,A4,a5,a6,a7,a8,a9,a10]"
   ]
  },
  {
   "cell_type": "code",
   "execution_count": 81,
   "id": "cf085934",
   "metadata": {
    "pycharm": {
     "name": "#%%\n"
    }
   },
   "outputs": [
    {
     "data": {
      "text/plain": [
       "Text(0, 0.5, 'Prices')"
      ]
     },
     "execution_count": 81,
     "metadata": {},
     "output_type": "execute_result"
    },
    {
     "data": {
      "image/png": "[encoded data removed]",
      "text/plain": [
       "<Figure size 864x576 with 1 Axes>"
      ]
     },
     "metadata": {},
     "output_type": "display_data"
    }
   ],
   "source": [
    "# Plotting the Price Distribution of Each Asset In Year 5\n",
    "\n",
    "sns.set(rc={'figure.figsize':(12,8)})\n",
    "ax = sns.boxplot(data=price_distribution)\n",
    "ax.set_xlim(0.5,10.5)\n",
    "ax.set_title('Price Distributions', fontsize=14, fontweight='bold')\n",
    "ax.set_xlabel('Assets')\n",
    "ax.set_ylabel('Prices')"
   ]
  },
  {
   "cell_type": "code",
   "execution_count": 82,
   "id": "7b2cc7c6",
   "metadata": {
    "pycharm": {
     "name": "#%%\n"
    }
   },
   "outputs": [
    {
     "data": {
      "text/plain": [
       "6479073.591168114"
      ]
     },
     "execution_count": 82,
     "metadata": {},
     "output_type": "execute_result"
    }
   ],
   "source": [
    "# Expected Value of Portfolio in Year 5\n",
    "\n",
    "\"\"\" Starting Value of Each Asset Holding \"\"\"\n",
    "\n",
    "a0 = 500000\n",
    "\n",
    "\"\"\" Expected Value \"\"\"\n",
    "\n",
    "E_a1 = np.mean(asset_1)*a0\n",
    "E_a2 = np.mean(asset_2)*a0\n",
    "E_a3 = np.mean(asset_3)*a0\n",
    "E_a4 = np.mean(asset_4)*a0\n",
    "E_a5 = np.mean(asset_5)*a0\n",
    "E_a6 = np.mean(asset_6)*a0\n",
    "E_a7 = np.mean(asset_7)*a0\n",
    "E_a8 = np.mean(asset_8)*a0\n",
    "E_a9 = np.mean(asset_9)*a0\n",
    "E_a10 = np.mean(asset_10)*a0\n",
    "\n",
    "expected_portfolio_value = [E_a1,E_a2,E_a3,E_a4,E_a5,E_a6,E_a7,E_a8,E_a9,E_a10]\n",
    "sum(expected_portfolio_value)"
   ]
  },
  {
   "cell_type": "code",
   "execution_count": 83,
   "id": "689262c1",
   "metadata": {
    "pycharm": {
     "name": "#%%\n"
    }
   },
   "outputs": [
    {
     "data": {
      "text/html": [
       "<div>\n",
       "<style scoped>\n",
       "    .dataframe tbody tr th:only-of-type {\n",
       "        vertical-align: middle;\n",
       "    }\n",
       "\n",
       "    .dataframe tbody tr th {\n",
       "        vertical-align: top;\n",
       "    }\n",
       "\n",
       "    .dataframe thead th {\n",
       "        text-align: right;\n",
       "    }\n",
       "</style>\n",
       "<table border=\"1\" class=\"dataframe\">\n",
       "  <thead>\n",
       "    <tr style=\"text-align: right;\">\n",
       "      <th></th>\n",
       "      <th>0</th>\n",
       "    </tr>\n",
       "  </thead>\n",
       "  <tbody>\n",
       "    <tr>\n",
       "      <th>0</th>\n",
       "      <td>549966.113600</td>\n",
       "    </tr>\n",
       "    <tr>\n",
       "      <th>1</th>\n",
       "      <td>557334.177260</td>\n",
       "    </tr>\n",
       "    <tr>\n",
       "      <th>2</th>\n",
       "      <td>636306.585188</td>\n",
       "    </tr>\n",
       "    <tr>\n",
       "      <th>3</th>\n",
       "      <td>617759.655962</td>\n",
       "    </tr>\n",
       "    <tr>\n",
       "      <th>4</th>\n",
       "      <td>671895.556405</td>\n",
       "    </tr>\n",
       "    <tr>\n",
       "      <th>5</th>\n",
       "      <td>751508.849323</td>\n",
       "    </tr>\n",
       "    <tr>\n",
       "      <th>6</th>\n",
       "      <td>818710.812701</td>\n",
       "    </tr>\n",
       "    <tr>\n",
       "      <th>7</th>\n",
       "      <td>659634.578112</td>\n",
       "    </tr>\n",
       "    <tr>\n",
       "      <th>8</th>\n",
       "      <td>613107.095350</td>\n",
       "    </tr>\n",
       "    <tr>\n",
       "      <th>9</th>\n",
       "      <td>602850.167267</td>\n",
       "    </tr>\n",
       "  </tbody>\n",
       "</table>\n",
       "</div>"
      ],
      "text/plain": [
       "               0\n",
       "0  549966.113600\n",
       "1  557334.177260\n",
       "2  636306.585188\n",
       "3  617759.655962\n",
       "4  671895.556405\n",
       "5  751508.849323\n",
       "6  818710.812701\n",
       "7  659634.578112\n",
       "8  613107.095350\n",
       "9  602850.167267"
      ]
     },
     "execution_count": 83,
     "metadata": {},
     "output_type": "execute_result"
    }
   ],
   "source": [
    "# Expected Value of Assets in Year 5\n",
    "\n",
    "expected_portfolio_value = [E_a1,E_a2,E_a3,E_a4,E_a5,E_a6,E_a7,E_a8,E_a9,E_a10]\n",
    "expected_asset_value = pd.DataFrame(expected_portfolio_value)\n",
    "expected_asset_value"
   ]
  },
  {
   "cell_type": "code",
   "execution_count": 166,
   "id": "8f78e68f",
   "metadata": {
    "pycharm": {
     "name": "#%%\n"
    }
   },
   "outputs": [
    {
     "data": {
      "text/plain": [
       "array([[ 0.0083251 ,  0.00762705,  0.00367056,  0.00866594, -0.00307201,\n",
       "        -0.00585672, -0.01190735, -0.00335901, -0.00217204, -0.00165504],\n",
       "       [ 0.00762705,  0.01883664,  0.02852827,  0.02530094,  0.01345943,\n",
       "         0.02180682,  0.01996069,  0.00579812,  0.005129  ,  0.01066356],\n",
       "       [ 0.00367056,  0.02852827,  0.1203368 ,  0.07463116,  0.11457492,\n",
       "         0.16119137,  0.15536855,  0.05731991,  0.03344907,  0.06131854],\n",
       "       [ 0.00866594,  0.02530094,  0.07463116,  0.09343208,  0.07435305,\n",
       "         0.13889356,  0.09237362,  0.02642601,  0.01921064,  0.0395039 ],\n",
       "       [-0.00307201,  0.01345943,  0.11457492,  0.07435305,  0.22173463,\n",
       "         0.24940716,  0.28137411,  0.07793043,  0.05637707,  0.09477668],\n",
       "       [-0.00585672,  0.02180682,  0.16119137,  0.13889356,  0.24940716,\n",
       "         0.58845762,  0.39992062,  0.12923302,  0.09202329,  0.13184495],\n",
       "       [-0.01190735,  0.01996069,  0.15536855,  0.09237362,  0.28137411,\n",
       "         0.39992062,  0.58464085,  0.12270283,  0.09007361,  0.12992614],\n",
       "       [-0.00335901,  0.00579812,  0.05731991,  0.02642601,  0.07793043,\n",
       "         0.12923302,  0.12270283,  0.17663583,  0.03880411,  0.04082406],\n",
       "       [-0.00217204,  0.005129  ,  0.03344907,  0.01921064,  0.05637707,\n",
       "         0.09202329,  0.09007361,  0.03880411,  0.09172086,  0.03084649],\n",
       "       [-0.00165504,  0.01066356,  0.06131854,  0.0395039 ,  0.09477668,\n",
       "         0.13184495,  0.12992614,  0.04082406,  0.03084649,  0.06387756]])"
      ]
     },
     "execution_count": 166,
     "metadata": {},
     "output_type": "execute_result"
    }
   ],
   "source": [
    "# Expected Covariance in 5 years\n",
    "\n",
    "asset_prices_y5 = np.stack((A1,A2,A3,A4,a5,a6,a7,a8,a9,a10), axis=1)\n",
    "asset_names = ['1','2','3','4','5','6','7','8','9','10']\n",
    "asset_prices_y5_named = pd.DataFrame(asset_prices_y5, columns=asset_names)\n",
    "asset_prices_y5_named\n",
    "\n",
    "asset_prices_y5_cov_mat = np.cov(asset_prices_y5_named.values.T)\n",
    "asset_prices_y5_cov_mat\n"
   ]
  },
  {
   "cell_type": "code",
   "execution_count": 101,
   "id": "ff9949bf",
   "metadata": {
    "pycharm": {
     "name": "#%%\n"
    }
   },
   "outputs": [
    {
     "data": {
      "text/plain": [
       "array([[540031.60367086, 489135.19052112, 380724.10245567, ...,\n",
       "        658806.5363696 , 394655.92276218, 397816.10263149],\n",
       "       [522893.89774875, 505234.43091338, 444243.86920171, ...,\n",
       "        627138.28278218, 415594.63235424, 573982.54095566],\n",
       "       [514692.2176109 , 568045.83273711, 997142.43377218, ...,\n",
       "        768205.17917685, 679171.37125368, 637075.71557372],\n",
       "       ...,\n",
       "       [619315.11463538, 628695.38816468, 700592.47273773, ...,\n",
       "        699917.21458915, 560796.80567372, 635749.68495876],\n",
       "       [539335.12383854, 587880.22371659, 751988.04399874, ...,\n",
       "        828239.31665076, 627640.12045595, 615686.98829413],\n",
       "       [672602.94820979, 685194.38733332, 701008.96066323, ...,\n",
       "        622544.22638634, 590138.1733654 , 650217.43978648]])"
      ]
     },
     "execution_count": 101,
     "metadata": {},
     "output_type": "execute_result"
    }
   ],
   "source": [
    "asset_wealth_y5 = asset_prices_y5*a0\n",
    "asset_wealth_y5"
   ]
  },
  {
   "cell_type": "code",
   "execution_count": 113,
   "id": "472452c3",
   "metadata": {},
   "outputs": [
    {
     "data": {
      "text/plain": [
       "549966.1136002507"
      ]
     },
     "execution_count": 113,
     "metadata": {},
     "output_type": "execute_result"
    }
   ],
   "source": [
    "np.mean(w_a1)"
   ]
  },
  {
   "cell_type": "code",
   "execution_count": 119,
   "id": "5de3e65a",
   "metadata": {
    "pycharm": {
     "name": "#%%\n"
    }
   },
   "outputs": [
    {
     "data": {
      "text/plain": [
       "Text(0, 0.5, 'Wealth (mio. Eur)')"
      ]
     },
     "execution_count": 119,
     "metadata": {},
     "output_type": "execute_result"
    },
    {
     "data": {
      "image/png": "[encoded data removed]",
      "text/plain": [
       "<Figure size 864x576 with 1 Axes>"
      ]
     },
     "metadata": {},
     "output_type": "display_data"
    }
   ],
   "source": [
    "# Define The Expected Distribution of Wealth in 5 Years\n",
    "\n",
    "w_a0 = A0*a0\n",
    "w_a1 = A1*a0\n",
    "w_a2 = A2*a0\n",
    "w_a3 = A3*a0\n",
    "w_a4 = A4*a0\n",
    "w_a5 = a5*a0\n",
    "w_a6 = a6*a0\n",
    "w_a7 = a7*a0\n",
    "w_a8 = a8*a0\n",
    "w_a9 = a9*a0\n",
    "w_a10 = a10*a0\n",
    "\n",
    "wealth_dist = [w_a0,w_a1,w_a2,w_a3,w_a4,w_a5,w_a6,w_a7,w_a8,w_a9,w_a10]\n",
    "\n",
    "sns.set(rc={'figure.figsize':(12,8)})\n",
    "ax = sns.boxplot(data=wealth_dist)\n",
    "ax.set_xlim(0.5,10.5)\n",
    "ax.set_title('Wealth Distributions After 5 Years', fontsize=14, fontweight='bold')\n",
    "ax.set_xlabel('Assets')\n",
    "ax.set_ylabel('Wealth (mio. Eur)')"
   ]
  },
  {
   "cell_type": "code",
   "execution_count": 87,
   "id": "7282d348",
   "metadata": {
    "pycharm": {
     "name": "#%%\n"
    }
   },
   "outputs": [
    {
     "data": {
      "text/plain": [
       "(5000, 6)"
      ]
     },
     "execution_count": 87,
     "metadata": {},
     "output_type": "execute_result"
    }
   ],
   "source": [
    "# Buy and hold strategy for equally weighted portfolio\n",
    "\n",
    "port_w = np.ones(10) / 10\n",
    "\n",
    "buy_and_hold_index = asset_prices @ port_w\n",
    "buy_and_hold_index_total = buy_and_hold_index * a0\n",
    "buy_and_hold_index_total.shape"
   ]
  },
  {
   "cell_type": "code",
   "execution_count": 129,
   "id": "c60df80c",
   "metadata": {
    "pycharm": {
     "name": "#%%\n"
    }
   },
   "outputs": [
    {
     "data": {
      "text/plain": [
       "(5000, 6)"
      ]
     },
     "execution_count": 129,
     "metadata": {},
     "output_type": "execute_result"
    }
   ],
   "source": [
    "# Buy and hold strategy for equally weighted portfolio\n",
    "\n",
    "port_w = np.ones(10) / 10\n",
    "\n",
    "buy_and_hold_index = asset_prices @ port_w\n",
    "buy_and_hold_index_total = buy_and_hold_index * a0\n",
    "buy_and_hold_index_total.shape"
   ]
  },
  {
   "cell_type": "code",
   "execution_count": 133,
   "id": "7230ad1c",
   "metadata": {
    "pycharm": {
     "name": "#%%\n"
    }
   },
   "outputs": [
    {
     "data": {
      "image/png": "[encoded data removed]",
      "text/plain": [
       "<Figure size 1152x432 with 2 Axes>"
      ]
     },
     "metadata": {},
     "output_type": "display_data"
    }
   ],
   "source": [
    "# calculate percentiles\n",
    "\n",
    "percentiles_buy_and_hold = np.percentile(buy_and_hold_index, [0.5, 1.0, 2.5, 5, 10, 50, 90, 95, 97.5, 99.0, 99.5],\n",
    "                                         axis=0)\n",
    "\"\"\"\n",
    "Plot fan chart\n",
    "\"\"\"\n",
    "\n",
    "fig, ax = plt.subplots(1,2, figsize=(16, 6))\n",
    "\n",
    "fan_chart(time_points,\n",
    "          percentiles_buy_and_hold,\n",
    "          color=default_colors['cyan'],\n",
    "          color_median=default_colors['dark_blue'],\n",
    "          labels=['99% CI', '98% CI', '95% CI', '90% CI', '80% CI', 'Median'],\n",
    "          ax=ax[0])\n",
    "\n",
    "ax[0].set_xlabel(\"Year\", size=15)\n",
    "ax[0].set_ylabel(\"Index value\", size=15)\n",
    "ax[0].set_title(\"Buy and Hold\", size=15)\n",
    "ax[0].set_ylim([0.5, 2.5])\n",
    "ax[0].legend(loc='upper center', bbox_to_anchor=(0.5, -0.15), ncol=5, fontsize=12);"
   ]
  },
  {
   "cell_type": "code",
   "execution_count": 134,
   "id": "48dd145a",
   "metadata": {
    "pycharm": {
     "name": "#%%\n"
    }
   },
   "outputs": [],
   "source": [
    "# Starting Wealth\n",
    "\n",
    "a0 = 500000"
   ]
  },
  {
   "cell_type": "code",
   "execution_count": 91,
   "id": "f8c585d0",
   "metadata": {
    "pycharm": {
     "name": "#%%\n"
    }
   },
   "outputs": [],
   "source": [
    "# Defining array of prices of all simulations each year for asset 5\n",
    "\n",
    "a5_y0 = asset_prices[:,0:1,4:5]\n",
    "a5_y1 = asset_prices[:,1:2,4:5]\n",
    "a5_y2 = asset_prices[:,2:3,4:5]\n",
    "a5_y3 = asset_prices[:,3:4,4:5]\n",
    "a5_y4 = asset_prices[:,4:5,4:5]\n",
    "a5_y5 = asset_prices[:,5:6,4:5]\n",
    "\n",
    "a5_y0_mean = np.mean(a5_y0)\n",
    "a5_y1_mean = np.mean(a5_y1)\n",
    "a5_y2_mean = np.mean(a5_y2)\n",
    "a5_y3_mean = np.mean(a5_y3)\n",
    "a5_y4_mean = np.mean(a5_y4)\n",
    "a5_y5_mean = np.mean(a5_y5)\n",
    "\n",
    "# Transactions Cost\n",
    "\n",
    "k = 0.02"
   ]
  },
  {
   "cell_type": "code",
   "execution_count": 92,
   "id": "b10eedb9",
   "metadata": {
    "pycharm": {
     "name": "#%%\n"
    }
   },
   "outputs": [],
   "source": [
    "# Defining The Total Cost Each Year Given The Absolut Return\n",
    "\n",
    "a5_y0_cost = (a5_y0_mean*a0-a0)*k\n",
    "a5_y1_cost = (a5_y1_mean*a0-a0)*k\n",
    "a5_y2_cost = (a5_y2_mean*a0-a0)*k\n",
    "a5_y3_cost = (a5_y3_mean*a0-a0)*k\n",
    "a5_y4_cost = (a5_y4_mean*a0-a0)*k\n",
    "a5_y5_cost = (a5_y5_mean*a0-a0)*k"
   ]
  },
  {
   "cell_type": "code",
   "execution_count": 164,
   "id": "b8fb99a3",
   "metadata": {
    "pycharm": {
     "name": "#%%\n"
    }
   },
   "outputs": [
    {
     "data": {
      "text/plain": [
       "Text(0.5, 1.0, 'Portfolio Transactions Costs as a Function of Excess Alpha')"
      ]
     },
     "execution_count": 164,
     "metadata": {},
     "output_type": "execute_result"
    },
    {
     "data": {
      "image/png": "[encoded data removed]",
      "text/plain": [
       "<Figure size 864x576 with 1 Axes>"
      ]
     },
     "metadata": {},
     "output_type": "display_data"
    }
   ],
   "source": [
    "# Plotting The Linear Function of Transactions Costs\n",
    "\n",
    "x = [0,1,2,3,4,5]\n",
    "y = [a5_y0_cost,a5_y1_cost,a5_y2_cost,a5_y3_cost,a5_y4_cost,a5_y5_cost]\n",
    "\n",
    "plt.plot(x,y)\n",
    "plt.xlabel('Years')\n",
    "plt.ylabel('Transactions Costs')\n",
    "plt.title('Portfolio Transactions Costs as a Function of Excess Alpha', fontweight='bold')"
   ]
  },
  {
   "cell_type": "code",
   "execution_count": 163,
   "id": "c066f313",
   "metadata": {},
   "outputs": [
    {
     "data": {
      "text/plain": [
       "Text(0.5, 1.0, 'Transactions Costs as a Function of Alpha')"
      ]
     },
     "execution_count": 163,
     "metadata": {},
     "output_type": "execute_result"
    },
    {
     "data": {
      "image/png": "[encoded data removed]",
      "text/plain": [
       "<Figure size 864x576 with 1 Axes>"
      ]
     },
     "metadata": {},
     "output_type": "display_data"
    }
   ],
   "source": [
    "y_2 =[0,2000,4000,6000,8000,10000]\n",
    "x_1 = [0,100000,200000,300000,400000,500000]\n",
    "plt.plot(x_1,y_2)\n",
    "\n",
    "plt.xlabel('Alpha')\n",
    "plt.ylabel('Transactions Costs')\n",
    "plt.title('Transactions Costs as a Function of Alpha', fontweight='bold')"
   ]
  },
  {
   "cell_type": "code",
   "execution_count": 94,
   "id": "070740fe",
   "metadata": {
    "pycharm": {
     "name": "#%%\n"
    }
   },
   "outputs": [
    {
     "data": {
      "text/html": [
       "<div>\n",
       "<style scoped>\n",
       "    .dataframe tbody tr th:only-of-type {\n",
       "        vertical-align: middle;\n",
       "    }\n",
       "\n",
       "    .dataframe tbody tr th {\n",
       "        vertical-align: top;\n",
       "    }\n",
       "\n",
       "    .dataframe thead th {\n",
       "        text-align: right;\n",
       "    }\n",
       "</style>\n",
       "<table border=\"1\" class=\"dataframe\">\n",
       "  <thead>\n",
       "    <tr style=\"text-align: right;\">\n",
       "      <th></th>\n",
       "      <th>Year 0</th>\n",
       "      <th>Year 1</th>\n",
       "      <th>Year 2</th>\n",
       "      <th>Year 3</th>\n",
       "      <th>Year 4</th>\n",
       "      <th>Year 5</th>\n",
       "    </tr>\n",
       "  </thead>\n",
       "  <tbody>\n",
       "    <tr>\n",
       "      <th>0</th>\n",
       "      <td>1.0</td>\n",
       "      <td>0.857185</td>\n",
       "      <td>0.847466</td>\n",
       "      <td>0.905754</td>\n",
       "      <td>0.835334</td>\n",
       "      <td>0.940347</td>\n",
       "    </tr>\n",
       "    <tr>\n",
       "      <th>1</th>\n",
       "      <td>1.0</td>\n",
       "      <td>1.030165</td>\n",
       "      <td>1.212898</td>\n",
       "      <td>1.079307</td>\n",
       "      <td>0.983624</td>\n",
       "      <td>0.952253</td>\n",
       "    </tr>\n",
       "    <tr>\n",
       "      <th>2</th>\n",
       "      <td>1.0</td>\n",
       "      <td>1.096335</td>\n",
       "      <td>1.421446</td>\n",
       "      <td>1.313295</td>\n",
       "      <td>1.450083</td>\n",
       "      <td>1.738887</td>\n",
       "    </tr>\n",
       "    <tr>\n",
       "      <th>3</th>\n",
       "      <td>1.0</td>\n",
       "      <td>0.955885</td>\n",
       "      <td>0.942475</td>\n",
       "      <td>1.170252</td>\n",
       "      <td>1.181021</td>\n",
       "      <td>1.076715</td>\n",
       "    </tr>\n",
       "    <tr>\n",
       "      <th>4</th>\n",
       "      <td>1.0</td>\n",
       "      <td>1.159673</td>\n",
       "      <td>1.146995</td>\n",
       "      <td>1.308391</td>\n",
       "      <td>1.453397</td>\n",
       "      <td>1.679376</td>\n",
       "    </tr>\n",
       "    <tr>\n",
       "      <th>...</th>\n",
       "      <td>...</td>\n",
       "      <td>...</td>\n",
       "      <td>...</td>\n",
       "      <td>...</td>\n",
       "      <td>...</td>\n",
       "      <td>...</td>\n",
       "    </tr>\n",
       "    <tr>\n",
       "      <th>4995</th>\n",
       "      <td>1.0</td>\n",
       "      <td>1.050698</td>\n",
       "      <td>1.179059</td>\n",
       "      <td>1.103940</td>\n",
       "      <td>1.371926</td>\n",
       "      <td>1.452366</td>\n",
       "    </tr>\n",
       "    <tr>\n",
       "      <th>4996</th>\n",
       "      <td>1.0</td>\n",
       "      <td>0.947323</td>\n",
       "      <td>0.951300</td>\n",
       "      <td>0.965322</td>\n",
       "      <td>1.072051</td>\n",
       "      <td>1.222614</td>\n",
       "    </tr>\n",
       "    <tr>\n",
       "      <th>4997</th>\n",
       "      <td>1.0</td>\n",
       "      <td>1.090376</td>\n",
       "      <td>1.133449</td>\n",
       "      <td>1.223169</td>\n",
       "      <td>1.169527</td>\n",
       "      <td>1.322513</td>\n",
       "    </tr>\n",
       "    <tr>\n",
       "      <th>4998</th>\n",
       "      <td>1.0</td>\n",
       "      <td>1.111496</td>\n",
       "      <td>1.192039</td>\n",
       "      <td>1.232748</td>\n",
       "      <td>1.326850</td>\n",
       "      <td>1.453286</td>\n",
       "    </tr>\n",
       "    <tr>\n",
       "      <th>4999</th>\n",
       "      <td>1.0</td>\n",
       "      <td>1.083986</td>\n",
       "      <td>1.209425</td>\n",
       "      <td>1.631858</td>\n",
       "      <td>1.614510</td>\n",
       "      <td>1.568057</td>\n",
       "    </tr>\n",
       "  </tbody>\n",
       "</table>\n",
       "<p>5000 rows × 6 columns</p>\n",
       "</div>"
      ],
      "text/plain": [
       "      Year 0    Year 1    Year 2    Year 3    Year 4    Year 5\n",
       "0        1.0  0.857185  0.847466  0.905754  0.835334  0.940347\n",
       "1        1.0  1.030165  1.212898  1.079307  0.983624  0.952253\n",
       "2        1.0  1.096335  1.421446  1.313295  1.450083  1.738887\n",
       "3        1.0  0.955885  0.942475  1.170252  1.181021  1.076715\n",
       "4        1.0  1.159673  1.146995  1.308391  1.453397  1.679376\n",
       "...      ...       ...       ...       ...       ...       ...\n",
       "4995     1.0  1.050698  1.179059  1.103940  1.371926  1.452366\n",
       "4996     1.0  0.947323  0.951300  0.965322  1.072051  1.222614\n",
       "4997     1.0  1.090376  1.133449  1.223169  1.169527  1.322513\n",
       "4998     1.0  1.111496  1.192039  1.232748  1.326850  1.453286\n",
       "4999     1.0  1.083986  1.209425  1.631858  1.614510  1.568057\n",
       "\n",
       "[5000 rows x 6 columns]"
      ]
     },
     "execution_count": 94,
     "metadata": {},
     "output_type": "execute_result"
    }
   ],
   "source": [
    "# Presentation of Portfolio Return Data\n",
    "\n",
    "col_names = ['Year 0','Year 1','Year 2','Year 3','Year 4','Year 5']\n",
    "buy_and_hold_index_table = pd.DataFrame(buy_and_hold_index, columns=col_names)\n",
    "buy_and_hold_index_table"
   ]
  },
  {
   "cell_type": "code",
   "execution_count": 95,
   "id": "ace2f0f1",
   "metadata": {
    "pycharm": {
     "name": "#%%\n"
    }
   },
   "outputs": [
    {
     "name": "stdout",
     "output_type": "stream",
     "text": [
      "Optimization terminated successfully    (Exit mode 0)\n",
      "            Current function value: 0.018339180054121086\n",
      "            Iterations: 19\n",
      "            Function evaluations: 209\n",
      "            Gradient evaluations: 19\n",
      "Optimization terminated successfully    (Exit mode 0)\n",
      "            Current function value: 0.0198377722080067\n",
      "            Iterations: 19\n",
      "            Function evaluations: 209\n",
      "            Gradient evaluations: 19\n",
      "Optimization terminated successfully    (Exit mode 0)\n",
      "            Current function value: 0.021427157749698923\n",
      "            Iterations: 20\n",
      "            Function evaluations: 220\n",
      "            Gradient evaluations: 20\n",
      "Optimization terminated successfully    (Exit mode 0)\n",
      "            Current function value: 0.023107337188546448\n",
      "            Iterations: 19\n",
      "            Function evaluations: 209\n",
      "            Gradient evaluations: 19\n",
      "Optimization terminated successfully    (Exit mode 0)\n",
      "            Current function value: 0.024878309970370452\n",
      "            Iterations: 19\n",
      "            Function evaluations: 209\n",
      "            Gradient evaluations: 19\n",
      "Optimization terminated successfully    (Exit mode 0)\n",
      "            Current function value: 0.02674007652624421\n",
      "            Iterations: 19\n",
      "            Function evaluations: 209\n",
      "            Gradient evaluations: 19\n",
      "Optimization terminated successfully    (Exit mode 0)\n",
      "            Current function value: 0.02869263680547849\n",
      "            Iterations: 19\n",
      "            Function evaluations: 209\n",
      "            Gradient evaluations: 19\n",
      "Optimization terminated successfully    (Exit mode 0)\n",
      "            Current function value: 0.03073598997579628\n",
      "            Iterations: 18\n",
      "            Function evaluations: 198\n",
      "            Gradient evaluations: 18\n",
      "Optimization terminated successfully    (Exit mode 0)\n",
      "            Current function value: 0.032870137636653356\n",
      "            Iterations: 16\n",
      "            Function evaluations: 176\n",
      "            Gradient evaluations: 16\n",
      "Optimization terminated successfully    (Exit mode 0)\n",
      "            Current function value: 0.035095078515712905\n",
      "            Iterations: 14\n",
      "            Function evaluations: 154\n",
      "            Gradient evaluations: 14\n",
      "Optimization terminated successfully    (Exit mode 0)\n",
      "            Current function value: 0.03741081298198769\n",
      "            Iterations: 13\n",
      "            Function evaluations: 143\n",
      "            Gradient evaluations: 13\n",
      "Optimization terminated successfully    (Exit mode 0)\n",
      "            Current function value: 0.03981734070333473\n",
      "            Iterations: 15\n",
      "            Function evaluations: 165\n",
      "            Gradient evaluations: 15\n",
      "Optimization terminated successfully    (Exit mode 0)\n",
      "            Current function value: 0.04231466210343236\n",
      "            Iterations: 15\n",
      "            Function evaluations: 166\n",
      "            Gradient evaluations: 15\n",
      "Optimization terminated successfully    (Exit mode 0)\n",
      "            Current function value: 0.04490277782708056\n",
      "            Iterations: 15\n",
      "            Function evaluations: 165\n",
      "            Gradient evaluations: 15\n",
      "Optimization terminated successfully    (Exit mode 0)\n",
      "            Current function value: 0.04758168647906755\n",
      "            Iterations: 16\n",
      "            Function evaluations: 176\n",
      "            Gradient evaluations: 16\n",
      "Optimization terminated successfully    (Exit mode 0)\n",
      "            Current function value: 0.0503513887967154\n",
      "            Iterations: 18\n",
      "            Function evaluations: 198\n",
      "            Gradient evaluations: 18\n",
      "Optimization terminated successfully    (Exit mode 0)\n",
      "            Current function value: 0.053211885003333986\n",
      "            Iterations: 17\n",
      "            Function evaluations: 187\n",
      "            Gradient evaluations: 17\n",
      "Optimization terminated successfully    (Exit mode 0)\n",
      "            Current function value: 0.05616317452181014\n",
      "            Iterations: 16\n",
      "            Function evaluations: 176\n",
      "            Gradient evaluations: 16\n",
      "Optimization terminated successfully    (Exit mode 0)\n",
      "            Current function value: 0.05920525756829261\n",
      "            Iterations: 16\n",
      "            Function evaluations: 176\n",
      "            Gradient evaluations: 16\n",
      "Optimization terminated successfully    (Exit mode 0)\n",
      "            Current function value: 0.06233813437264675\n",
      "            Iterations: 17\n",
      "            Function evaluations: 187\n",
      "            Gradient evaluations: 17\n",
      "Optimization terminated successfully    (Exit mode 0)\n",
      "            Current function value: 0.06556180477523336\n",
      "            Iterations: 17\n",
      "            Function evaluations: 188\n",
      "            Gradient evaluations: 17\n"
     ]
    }
   ],
   "source": [
    "# Define Optimal Portfolio Weights\n",
    "\n",
    "buy_and_hold_index_table\n",
    "prices_5y = asset_prices[:,5]\n",
    "cov_mat_5y = np.cov(prices_5y, rowvar=False)\n",
    "\n",
    "\"\"\"\n",
    "Define relevant constraints\n",
    "\"\"\"\n",
    "sum_to_one_cons = {'type': 'eq',\n",
    "                   'fun' : lambda x: np.sum(x) - 1.0}\n",
    "\n",
    "no_short_cons = {'type': 'ineq',\n",
    "                 'fun' : lambda x: x}\n",
    "\n",
    "# alternatively use \n",
    "bounds = [(0.0, 1.0)] * 10\n",
    "\n",
    "target_returns = np.arange(1.2, 1.3, 0.005) # this will depend on the returns of the simulated data. \n",
    "# target_returns = np.arange(1.3, 1.526, 0.025)\n",
    "\n",
    "\"\"\"\n",
    "Find optimal weights\n",
    "\"\"\"\n",
    "\n",
    "optimal_weights = list()\n",
    "for target_return in target_returns:\n",
    "    # define constraint \n",
    "    target_cons = {'type': 'eq',\n",
    "                   'fun' : lambda x: np.average(prices_5y @ x) - target_return}\n",
    "\n",
    "\n",
    "    x0 = np.ones(10) / 10.0\n",
    "    res = optimize.minimize(portfolio_variance, x0=x0, args=(cov_mat_5y,),\n",
    "                                 method='SLSQP',\n",
    "                                 constraints=[sum_to_one_cons, no_short_cons, target_cons], \n",
    "                                 options={'ftol': 1e-9, 'disp': True}, bounds=bounds)\n",
    "    \n",
    "    optimal_weights.append(res.x)\n",
    "    \n",
    "optimal_weights = np.array(optimal_weights)"
   ]
  },
  {
   "cell_type": "code",
   "execution_count": 136,
   "id": "c0bee477",
   "metadata": {
    "pycharm": {
     "name": "#%%\n"
    }
   },
   "outputs": [
    {
     "data": {
      "image/png": "[encoded data removed]",
      "text/plain": [
       "<Figure size 1152x432 with 1 Axes>"
      ]
     },
     "metadata": {},
     "output_type": "display_data"
    }
   ],
   "source": [
    "# Plotting The Optimal Weights Using Mean-Variance\n",
    "\n",
    "fig, ax = plt.subplots(figsize=(16, 6))\n",
    "\n",
    "ax.stackplot(target_returns, optimal_weights.T, labels=np.arange(1,11));\n",
    "ax.set_xlabel(\"Target price level\")\n",
    "ax.set_ylabel(\"Portfolio weights\")\n",
    "ax.set_title(\"Optimal weights, mean-variance at 5Y horizon\")\n",
    "ax.legend(loc='center', bbox_to_anchor=(0.5, -0.3), fancybox=True, shadow=True, ncol=5);"
   ]
  },
  {
   "cell_type": "code",
   "execution_count": 97,
   "id": "ebfc4acc",
   "metadata": {
    "pycharm": {
     "name": "#%%\n"
    }
   },
   "outputs": [
    {
     "ename": "SyntaxError",
     "evalue": "EOL while scanning string literal (991909541.py, line 5)",
     "output_type": "error",
     "traceback": [
      "\u001b[0;36m  Input \u001b[0;32mIn [97]\u001b[0;36m\u001b[0m\n\u001b[0;31m    'percentiles_constant_mix = np.percentile(constant_mix_index, [0.5, 1.0, 2.5, 5, 10, 50, 90, 95, 97.5, 99.0, 99.5],\u001b[0m\n\u001b[0m                                                                                                                       ^\u001b[0m\n\u001b[0;31mSyntaxError\u001b[0m\u001b[0;31m:\u001b[0m EOL while scanning string literal\n"
     ]
    }
   ],
   "source": [
    "# calculate percentiles\n",
    "percentiles_buy_and_hold = np.percentile(buy_and_hold_index, [0.5, 1.0, 2.5, 5, 10, 50, 90, 95, 97.5, 99.0, 99.5],\n",
    "                                         axis=0)\n",
    "\n",
    "'percentiles_constant_mix = np.percentile(constant_mix_index, [0.5, 1.0, 2.5, 5, 10, 50, 90, 95, 97.5, 99.0, 99.5],\n",
    "                                         'axis=0)\n",
    "\n",
    "\"\"\"\n",
    "Plot fan chart\n",
    "\"\"\"\n",
    "\n",
    "fig, ax = plt.subplots(1, 2, figsize=(16, 6))\n",
    "\n",
    "fan_chart(time_points,\n",
    "          percentiles_buy_and_hold,\n",
    "          color=default_colors['cyan'],\n",
    "          color_median=default_colors['dark_blue'],\n",
    "          labels=['99% CI', '98% CI', '95% CI', '90% CI', '80% CI', 'Median'],\n",
    "          ax=ax[0])\n",
    "\n",
    "ax[0].set_xlabel(\"Year\", size=15)\n",
    "ax[0].set_ylabel(\"Index value\", size=15)\n",
    "ax[0].set_title(\"Buy and Hold\", size=15)\n",
    "ax[0].set_ylim([0.5, 3.0])\n",
    "ax[0].legend(loc='upper center', bbox_to_anchor=(0.5, -0.15), ncol=5, fontsize=12);\n",
    "\n",
    "'fan_chart(time_points,\n",
    "          'percentiles_constant_mix,\n",
    "          'color=default_colors['red'],\n",
    "          'color_median=default_colors['dark_blue'],\n",
    "          'labels=['99% CI', '98% CI', '95% CI', '90% CI', '80% CI', 'Median'],\n",
    "          'ax=ax[1])\n",
    "\n",
    "'ax[1].set_xlabel(\"Year\", size=15)\n",
    "'ax[1].set_title(\"Constant Mix\", size=15)\n",
    "'ax[1].set_ylim([0.5, 3.0])\n",
    "'ax[1].legend(loc='upper center', bbox_to_anchor=(0.5, -0.15), ncol=5, fontsize=12);"
   ]
  },
  {
   "cell_type": "code",
   "execution_count": null,
   "id": "1df27f73",
   "metadata": {
    "pycharm": {
     "name": "#%%\n"
    }
   },
   "outputs": [],
   "source": [
    "# calculate percentiles\n",
    "\n",
    "percentiles_buy_and_hold = np.percentile(buy_and_hold_index, [0.5, 1.0, 2.5, 5, 10, 50, 90, 95, 97.5, 99.0, 99.5],\n",
    "                                         axis=0)\n",
    "\n",
    "percentiles_constant_mix = np.percentile(constant_mix_index, [0.5, 1.0, 2.5, 5, 10, 50, 90, 95, 97.5, 99.0, 99.5],\n",
    "                                         axis=0)\n",
    "\n",
    "\"\"\"\n",
    "Plot fan chart\n",
    "\"\"\"\n",
    "\n",
    "fig, ax = plt.subplots(1, 2, figsize=(16, 6))\n",
    "\n",
    "fan_chart(time_points,\n",
    "          percentiles_buy_and_hold,\n",
    "          color=default_colors['cyan'],\n",
    "          color_median=default_colors['dark_blue'],\n",
    "          labels=['99% CI', '98% CI', '95% CI', '90% CI', '80% CI', 'Median'],\n",
    "          ax=ax[0])\n",
    "\n",
    "ax[0].set_xlabel(\"Year\", size=15)\n",
    "ax[0].set_ylabel(\"Index value\", size=15)\n",
    "ax[0].set_title(\"Buy and Hold\", size=15)\n",
    "ax[0].set_ylim([0.5, 3.0])\n",
    "ax[0].legend(loc='upper center', bbox_to_anchor=(0.5, -0.15), ncol=5, fontsize=12);\n",
    "\n",
    "fan_chart(time_points,\n",
    "          percentiles_constant_mix,\n",
    "          color=default_colors['red'],\n",
    "          color_median=default_colors['dark_blue'],\n",
    "          labels=['99% CI', '98% CI', '95% CI', '90% CI', '80% CI', 'Median'],\n",
    "          ax=ax[1])\n",
    "\n",
    "ax[1].set_xlabel(\"Year\", size=15)\n",
    "ax[1].set_title(\"Constant Mix\", size=15)\n",
    "ax[1].set_ylim([0.5, 3.0])\n",
    "ax[1].legend(loc='upper center', bbox_to_anchor=(0.5, -0.15), ncol=5, fontsize=12);"
   ]
  },
  {
   "cell_type": "code",
   "execution_count": null,
   "id": "56f62817",
   "metadata": {
    "pycharm": {
     "name": "#%%\n"
    }
   },
   "outputs": [],
   "source": [
    "# Defining Quadratic Utility Function \n",
    "\n",
    "def quadratic_utility(wealth: int) :\n",
    "    \n",
    "    \"\"\"\n",
    "    Function that returns the quadratic utility of a given allocation\n",
    "    \n",
    "    Parameters\n",
    "    ----------\n",
    "    weights: \n",
    "        Portfolio weights\n",
    "    mu: \n",
    "        Expected returns\n",
    "    cov_matrix: \n",
    "        Covariance matrix\n",
    "    risk_aversion: \n",
    "        Risk aversion parameter\n",
    "    \n",
    "    Returns\n",
    "    -------\n",
    "    float\n",
    "        Utility\n",
    "    \"\"\"\n",
    "    return (wealth**gamma)/gamma"
   ]
  },
  {
   "cell_type": "code",
   "execution_count": null,
   "id": "d6a8c06a",
   "metadata": {
    "pycharm": {
     "name": "#%%\n"
    }
   },
   "outputs": [],
   "source": []
  },
  {
   "cell_type": "code",
   "execution_count": null,
   "id": "1c441450",
   "metadata": {},
   "outputs": [],
   "source": []
  },
  {
   "cell_type": "code",
   "execution_count": null,
   "id": "aca4c69c",
   "metadata": {},
   "outputs": [],
   "source": []
  }
 ],
 "metadata": {
  "kernelspec": {
   "display_name": "Python 3 (ipykernel)",
   "language": "python",
   "name": "python3"
  },
  "language_info": {
   "codemirror_mode": {
    "name": "ipython",
    "version": 3
   },
   "file_extension": ".py",
   "mimetype": "text/x-python",
   "name": "python",
   "nbconvert_exporter": "python",
   "pygments_lexer": "ipython3",
   "version": "3.9.12"
  }
 },
 "nbformat": 4,
 "nbformat_minor": 5
}
