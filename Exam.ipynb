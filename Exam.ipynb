{
 "cells": [
  {
   "cell_type": "code",
   "execution_count": 1,
   "id": "f7aa97ba",
   "metadata": {},
   "outputs": [
    {
     "ename": "ModuleNotFoundError",
     "evalue": "No module named 'codelib.statistics'",
     "output_type": "error",
     "traceback": [
      "\u001b[0;31m---------------------------------------------------------------------------\u001b[0m",
      "\u001b[0;31mModuleNotFoundError\u001b[0m                       Traceback (most recent call last)",
      "Input \u001b[0;32mIn [1]\u001b[0m, in \u001b[0;36m<cell line: 32>\u001b[0;34m()\u001b[0m\n\u001b[1;32m     26\u001b[0m \u001b[38;5;28;01mfrom\u001b[39;00m \u001b[38;5;21;01mtyping\u001b[39;00m \u001b[38;5;28;01mimport\u001b[39;00m Union, List, Tuple\n\u001b[1;32m     28\u001b[0m \u001b[38;5;124;03m\"\"\"\u001b[39;00m\n\u001b[1;32m     29\u001b[0m \u001b[38;5;124;03mOwn packages\u001b[39;00m\n\u001b[1;32m     30\u001b[0m \u001b[38;5;124;03m\"\"\"\u001b[39;00m\n\u001b[0;32m---> 32\u001b[0m \u001b[38;5;28;01mfrom\u001b[39;00m \u001b[38;5;21;01mcodelib\u001b[39;00m\u001b[38;5;21;01m.\u001b[39;00m\u001b[38;5;21;01mstatistics\u001b[39;00m\u001b[38;5;21;01m.\u001b[39;00m\u001b[38;5;21;01mcovariance\u001b[39;00m \u001b[38;5;28;01mimport\u001b[39;00m corr_to_cov_matrix, form_block_corr_matrix, corr_to_cov_matrix, cov_to_corr_matrix\n\u001b[1;32m     34\u001b[0m \u001b[38;5;28;01mfrom\u001b[39;00m \u001b[38;5;21;01mcodelib\u001b[39;00m\u001b[38;5;21;01m.\u001b[39;00m\u001b[38;5;21;01mportfolio_optimization\u001b[39;00m\u001b[38;5;21;01m.\u001b[39;00m\u001b[38;5;21;01mmean_variance\u001b[39;00m \u001b[38;5;28;01mimport\u001b[39;00m portfolio_mean, portfolio_std, portfolio_variance\n\u001b[1;32m     35\u001b[0m \u001b[38;5;28;01mfrom\u001b[39;00m \u001b[38;5;21;01mcodelib\u001b[39;00m\u001b[38;5;21;01m.\u001b[39;00m\u001b[38;5;21;01mportfolio_optimization\u001b[39;00m\u001b[38;5;21;01m.\u001b[39;00m\u001b[38;5;21;01mrisk_budget\u001b[39;00m \u001b[38;5;28;01mimport\u001b[39;00m calculate_marginal_risks, calculate_risk_contributions, calculate_marginal_sharpe\n",
      "\u001b[0;31mModuleNotFoundError\u001b[0m: No module named 'codelib.statistics'"
     ]
    }
   ],
   "source": [
    "import sys\n",
    "sys.path.insert(0,'/Users/christoffer/Desktop/CBS/Cand.merc Finance & Investments/3. Semester/Python For The Financial Economist')\n",
    "\n",
    "\"\"\"\n",
    "Magic commands\n",
    "\"\"\"\n",
    "\n",
    "%load_ext autoreload\n",
    "%autoreload 2\n",
    "\n",
    "\"\"\"\n",
    "Load relevant packages\n",
    "\"\"\"\n",
    "\n",
    "import numpy as np\n",
    "import pandas as pd\n",
    "import seaborn as sns\n",
    "import matplotlib.pyplot as plt\n",
    "import matplotlib.ticker as ticker\n",
    "import datetime\n",
    "from scipy import stats\n",
    "from scipy import optimize\n",
    "from scipy.optimize import minimize\n",
    "\n",
    "# typehints\n",
    "from typing import Union, List, Tuple\n",
    "\n",
    "\"\"\"\n",
    "Own packages\n",
    "\"\"\"\n",
    "\n",
    "from codelib.statistics.covariance import corr_to_cov_matrix, form_block_corr_matrix, corr_to_cov_matrix, cov_to_corr_matrix\n",
    "\n",
    "from codelib.portfolio_optimization.mean_variance import portfolio_mean, portfolio_std, portfolio_variance\n",
    "from codelib.portfolio_optimization.risk_budget import calculate_marginal_risks, calculate_risk_contributions, calculate_marginal_sharpe\n",
    "\n",
    "from codelib.visualization.layout import DefaultStyle, default_colors\n",
    "DefaultStyle();\n",
    "\n",
    "from codelib.visualization.base import risk_waterfall_chart, correlation_plot, fan_chart\n",
    "\n",
    "# Views\n",
    "from codelib.portfolio_optimization.views import ProbabilitySolver, CorrelationView,MeanView, VolatilityView, weighted_percentile\n",
    "from codelib.portfolio_optimization.views import effective_sample_size_entropy, calculate_correlation, View\n",
    "from codelib.portfolio_optimization.views import calculate_correlation, calculate_variance, calculate_std, calculate_covariance\n",
    "\n",
    "\n",
    "# fixed income \n",
    "from codelib.fixed_income.curves.cir_curve import CIRCurve\n",
    "from codelib.fixed_income.cash_flows import CashFlow"
   ]
  },
  {
   "cell_type": "code",
   "execution_count": 207,
   "id": "494ab40d",
   "metadata": {},
   "outputs": [
    {
     "name": "stdout",
     "output_type": "stream",
     "text": [
      "Requirement already satisfied: codelib in /Users/christoffer/opt/anaconda3/lib/python3.9/site-packages (0.0.1)\n",
      "Note: you may need to restart the kernel to use updated packages.\n"
     ]
    }
   ],
   "source": [
    "pip install codelib"
   ]
  },
  {
   "cell_type": "markdown",
   "id": "2d36109d",
   "metadata": {},
   "source": [
    "## Question 2"
   ]
  },
  {
   "cell_type": "code",
   "execution_count": 4,
   "id": "d51bd385",
   "metadata": {},
   "outputs": [
    {
     "data": {
      "text/plain": [
       "array([[ 0.001369 ,  0.001221 ,  0.0004403,  0.0011877, -0.0005661,\n",
       "        -0.0008029, -0.0015096, -0.000518 , -0.0003996, -0.0003478],\n",
       "       [ 0.001221 ,  0.003025 ,  0.003927 ,  0.003531 ,  0.001683 ,\n",
       "         0.002387 ,  0.002244 ,  0.00077  ,  0.000594 ,  0.001551 ],\n",
       "       [ 0.0004403,  0.003927 ,  0.014161 ,  0.0089131,  0.0127449,\n",
       "         0.0154938,  0.0145656,  0.006664 ,  0.0038556,  0.0078302],\n",
       "       [ 0.0011877,  0.003531 ,  0.0089131,  0.011449 ,  0.0081855,\n",
       "         0.0139314,  0.0087312,  0.002996 ,  0.0023112,  0.005029 ],\n",
       "       [-0.0005661,  0.001683 ,  0.0127449,  0.0081855,  0.023409 ,\n",
       "         0.0232407,  0.0249696,  0.008568 ,  0.0066096,  0.0115056],\n",
       "       [-0.0008029,  0.002387 ,  0.0154938,  0.0139314,  0.0232407,\n",
       "         0.047089 ,  0.0309876,  0.012152 ,  0.0093744,  0.0142786],\n",
       "       [-0.0015096,  0.002244 ,  0.0145656,  0.0087312,  0.0249696,\n",
       "         0.0309876,  0.041616 ,  0.011424 ,  0.0088128,  0.0134232],\n",
       "       [-0.000518 ,  0.00077  ,  0.006664 ,  0.002996 ,  0.008568 ,\n",
       "         0.012152 ,  0.011424 ,  0.0196   ,  0.004536 ,  0.005264 ],\n",
       "       [-0.0003996,  0.000594 ,  0.0038556,  0.0023112,  0.0066096,\n",
       "         0.0093744,  0.0088128,  0.004536 ,  0.011664 ,  0.0040608],\n",
       "       [-0.0003478,  0.001551 ,  0.0078302,  0.005029 ,  0.0115056,\n",
       "         0.0142786,  0.0134232,  0.005264 ,  0.0040608,  0.008836 ]])"
      ]
     },
     "execution_count": 4,
     "metadata": {},
     "output_type": "execute_result"
    }
   ],
   "source": [
    "mu = np.array([0.019, 0.022, 0.049, 0.043, 0.061, 0.083, 0.102, 0.056, 0.041, 0.038])\n",
    "vols = np.array([0.037, 0.055, 0.119, 0.107, 0.153, 0.217, 0.204, 0.14, 0.108, 0.094])\n",
    "corr_mat = np.array([[1.0, 0.6, 0.1, 0.3, -0.1, -0.1, -0.2, -0.1, -0.1, -0.1],\n",
    "                     [0.6, 1.0, 0.6, 0.6, 0.2, 0.2, 0.2, 0.1, 0.1, 0.3],\n",
    "                     [0.1, 0.6, 1.0, 0.7, 0.7, 0.6, 0.6, 0.4, 0.3, 0.7],\n",
    "                     [0.3, 0.6, 0.7, 1.0, 0.5, 0.6, 0.4, 0.2, 0.2, 0.5],\n",
    "                     [-0.1, 0.2, 0.7, 0.5, 1.0, 0.7, 0.8, 0.4, 0.4, 0.8],\n",
    "                     [-0.1, 0.2, 0.6, 0.6, 0.7, 1.0, 0.7, 0.4, 0.4, 0.7],\n",
    "                     [-0.2, 0.2, 0.6, 0.4, 0.8, 0.7, 1.0, 0.4, 0.4, 0.7],\n",
    "                     [-0.1, 0.1, 0.4, 0.2, 0.4, 0.4, 0.4, 1.0, 0.3, 0.4],\n",
    "                     [-0.1, 0.1, 0.3, 0.2, 0.4, 0.4, 0.4, 0.3, 1.0, 0.4],\n",
    "                     [-0.1, 0.3, 0.7, 0.5, 0.8, 0.7, 0.7, 0.4, 0.4, 1.0]])\n",
    "\n",
    "cov_mat = np.outer(vols, vols) * corr_mat\n",
    "cov_mat"
   ]
  },
  {
   "cell_type": "code",
   "execution_count": 5,
   "id": "04d9d373",
   "metadata": {},
   "outputs": [],
   "source": [
    "def calculate_optimal_weights_alternative(mu: np.ndarray, cov_matrix: np.ndarray, risk_aversion: float) -> np.ndarray: \n",
    "    \n",
    "    \"\"\"\n",
    "    Function that calculates optimal port. weights\n",
    "    \n",
    "    Parameters\n",
    "    ----------\n",
    "    mu: \n",
    "        Expected returns\n",
    "    cov_matrix: \n",
    "        Covariance matrix\n",
    "    risk_aversion: \n",
    "        Risk aversion parameter\n",
    "    \n",
    "    Returns\n",
    "    -------\n",
    "    float\n",
    "        Optimal portfolio weights\n",
    "    \"\"\"\n",
    "    \n",
    "    ones = np.ones_like(mu)\n",
    "    sigma_inv = np.linalg.inv(cov_matrix)\n",
    "    \n",
    "    a = ones @  sigma_inv @ mu\n",
    "    b = ones @  sigma_inv @ ones\n",
    "    \n",
    "    r_inv = 1.0 / risk_aversion\n",
    "    \n",
    "    gamma = a / b - risk_aversion / b \n",
    "    \n",
    "    opt_weights = r_inv * sigma_inv @mu - r_inv * gamma * sigma_inv @ ones\n",
    "    \n",
    "    return opt_weights"
   ]
  },
  {
   "cell_type": "code",
   "execution_count": 6,
   "id": "a3c20c15",
   "metadata": {},
   "outputs": [
    {
     "name": "stdout",
     "output_type": "stream",
     "text": [
      "optimal weights: \n"
     ]
    },
    {
     "data": {
      "text/plain": [
       "array([ 1.340008  , -1.22071065,  0.31584251,  0.3366493 , -0.3598723 ,\n",
       "       -0.04895523,  0.60319508,  0.19529637,  0.1471628 , -0.30861588])"
      ]
     },
     "execution_count": 6,
     "metadata": {},
     "output_type": "execute_result"
    }
   ],
   "source": [
    "risk_aversion = 5\n",
    "print(\"optimal weights: \")\n",
    "w_opt = calculate_optimal_weights_alternative(mu, cov_mat, risk_aversion)\n",
    "w_opt"
   ]
  },
  {
   "cell_type": "code",
   "execution_count": 7,
   "id": "c15ea293",
   "metadata": {},
   "outputs": [],
   "source": [
    "def simulate_asset_prices(mu: np.ndarray, cov_mat: np.ndarray,\n",
    "                          horizon: float, dt: float, num_sim: int,\n",
    "                          transform_input: bool=False) -> np.ndarray:\n",
    "    \n",
    "    \"\"\"\n",
    "    Simulates asset prices\n",
    "    \n",
    "    Parameters\n",
    "    ----------\n",
    "    mu: \n",
    "        Expected log-returns. \n",
    "    cov_mat: \n",
    "        Covariance matrix of log-returns. \n",
    "    horizon: \n",
    "        Simulation horizon in years. \n",
    "    dt: \n",
    "        Time step. \n",
    "    num_sim: \n",
    "        Number of simulations. \n",
    "    transform_input: \n",
    "        Boolean indicating whether to transform mu and cov_mat to time_step. \n",
    "    \n",
    "    \n",
    "    Returns\n",
    "    -------\n",
    "    np.ndarray\n",
    "        Simulated asset prices  [num sim x num time steps x num_assets]. \n",
    "    \n",
    "    \n",
    "    \"\"\"\n",
    "    \n",
    "    if transform_input:\n",
    "        mu = mu * dt\n",
    "        cov_mat = cov_mat * dt\n",
    "        \n",
    "    num_assets = len(mu)\n",
    "    \n",
    "    num_periods = int(horizon / dt)\n",
    "    \n",
    "    # allocate memory\n",
    "    asset_prices = np.ones((num_sim, 1 + num_periods, num_assets))\n",
    "    \n",
    "    # simulate returns\n",
    "    log_ret = np.random.multivariate_normal(mu, cov_mat, size=(num_sim, num_periods))\n",
    "    \n",
    "    # transform returns to asset prices\n",
    "    asset_prices[:, 1:, :] = np.exp(np.cumsum(log_ret, axis=1))\n",
    "    \n",
    "    return asset_prices"
   ]
  },
  {
   "cell_type": "code",
   "execution_count": 41,
   "id": "714fe10a",
   "metadata": {},
   "outputs": [
    {
     "data": {
      "text/plain": [
       "array([[[1.        , 1.        , 1.        , ..., 1.        ,\n",
       "         1.        , 1.        ],\n",
       "        [1.00662639, 1.05388804, 1.01596272, ..., 0.92670001,\n",
       "         0.97402977, 1.10574782],\n",
       "        [1.03034615, 1.0719563 , 1.11220328, ..., 0.77772513,\n",
       "         1.01635289, 1.27132498],\n",
       "        [0.99233856, 0.98036374, 0.94949435, ..., 0.7285412 ,\n",
       "         1.15175193, 1.19935803],\n",
       "        [1.01469968, 1.02264968, 0.97637369, ..., 0.8427403 ,\n",
       "         1.08254401, 1.29085603],\n",
       "        [1.04178053, 1.09493288, 1.17416081, ..., 0.95774014,\n",
       "         0.99917634, 1.39076209]],\n",
       "\n",
       "       [[1.        , 1.        , 1.        , ..., 1.        ,\n",
       "         1.        , 1.        ],\n",
       "        [1.00026847, 1.06067461, 1.03839674, ..., 1.20295948,\n",
       "         1.14286027, 1.09689498],\n",
       "        [1.04791908, 1.14347727, 1.11249609, ..., 1.48896867,\n",
       "         1.31939746, 1.19884758],\n",
       "        [1.04489223, 1.23963143, 1.55990403, ..., 1.72892475,\n",
       "         1.14271927, 1.317403  ],\n",
       "        [1.04464303, 1.3649589 , 1.81352351, ..., 2.07787091,\n",
       "         1.20059721, 1.66224308],\n",
       "        [1.16124073, 1.47761193, 1.87037564, ..., 2.14158769,\n",
       "         1.23737735, 1.70443   ]],\n",
       "\n",
       "       [[1.        , 1.        , 1.        , ..., 1.        ,\n",
       "         1.        , 1.        ],\n",
       "        [0.99000375, 0.97083181, 0.93332091, ..., 0.9089844 ,\n",
       "         0.89512836, 0.90899464],\n",
       "        [1.01646398, 1.00415879, 0.93883602, ..., 0.92751153,\n",
       "         0.99755493, 0.95111764],\n",
       "        [1.03803778, 1.02927344, 1.166793  , ..., 1.08450463,\n",
       "         1.06834672, 1.13967205],\n",
       "        [1.09823555, 1.07006297, 1.21808712, ..., 1.35856584,\n",
       "         1.20017784, 1.19623445],\n",
       "        [1.08717237, 1.08881346, 1.28764012, ..., 1.00455865,\n",
       "         1.01261556, 1.33400418]],\n",
       "\n",
       "       ...,\n",
       "\n",
       "       [[1.        , 1.        , 1.        , ..., 1.        ,\n",
       "         1.        , 1.        ],\n",
       "        [1.01626331, 1.03755931, 1.20888462, ..., 1.21682123,\n",
       "         1.08420179, 1.26012664],\n",
       "        [1.01812855, 1.00469565, 1.11384313, ..., 1.29252257,\n",
       "         1.10341818, 1.21261803],\n",
       "        [1.01672815, 0.99847798, 1.08786773, ..., 1.29199682,\n",
       "         1.12058686, 1.31714878],\n",
       "        [1.04939439, 1.01163518, 1.28633594, ..., 1.5255393 ,\n",
       "         1.23313157, 1.52103035],\n",
       "        [1.10094454, 1.05332432, 1.36129995, ..., 1.54295376,\n",
       "         1.41071672, 1.60458868]],\n",
       "\n",
       "       [[1.        , 1.        , 1.        , ..., 1.        ,\n",
       "         1.        , 1.        ],\n",
       "        [1.02416901, 0.9553635 , 0.82659723, ..., 1.00604638,\n",
       "         0.82591224, 0.93892552],\n",
       "        [1.0946451 , 1.04944086, 0.81593394, ..., 1.29782264,\n",
       "         0.87834713, 0.93170144],\n",
       "        [1.11754191, 1.1108955 , 0.82616363, ..., 1.38293819,\n",
       "         0.92503463, 0.90539368],\n",
       "        [1.12606319, 1.14330463, 0.88064211, ..., 1.45577118,\n",
       "         0.96164387, 0.9951372 ],\n",
       "        [1.20852771, 1.24746481, 1.01971339, ..., 1.44797438,\n",
       "         0.89706799, 1.06749955]],\n",
       "\n",
       "       [[1.        , 1.        , 1.        , ..., 1.        ,\n",
       "         1.        , 1.        ],\n",
       "        [1.02610584, 1.0523795 , 1.11169931, ..., 0.89310878,\n",
       "         1.06612894, 1.01034493],\n",
       "        [1.03978838, 1.10302475, 1.26851844, ..., 0.85009174,\n",
       "         1.03025888, 1.09141168],\n",
       "        [1.11687635, 1.1814352 , 1.49259031, ..., 1.1076292 ,\n",
       "         1.20100248, 1.20987092],\n",
       "        [1.07720925, 1.12344756, 1.27894074, ..., 1.14433158,\n",
       "         1.39607977, 1.26615979],\n",
       "        [1.1153543 , 1.13899831, 1.2864446 , ..., 1.32254164,\n",
       "         1.47344988, 1.29219933]]])"
      ]
     },
     "execution_count": 41,
     "metadata": {},
     "output_type": "execute_result"
    }
   ],
   "source": [
    "\"\"\"\n",
    "Simulate asset prices\n",
    "\"\"\"\n",
    "\n",
    "num_sim = 5000\n",
    "dt = 1.0\n",
    "horizon = 5.0\n",
    "mu = mu\n",
    "cov_mat = cov_mat\n",
    "\n",
    "time_points = np.arange(0.0, horizon + 0.01, dt)\n",
    "asset_prices  = simulate_asset_prices(mu, cov_mat, horizon, dt, num_sim)\n",
    "asset_prices"
   ]
  },
  {
   "cell_type": "code",
   "execution_count": 42,
   "id": "9dac4e0e",
   "metadata": {},
   "outputs": [
    {
     "data": {
      "text/plain": [
       "(5000, 6, 10)"
      ]
     },
     "execution_count": 42,
     "metadata": {},
     "output_type": "execute_result"
    }
   ],
   "source": [
    "asset_prices.shape"
   ]
  },
  {
   "cell_type": "code",
   "execution_count": 43,
   "id": "84d8b4b5",
   "metadata": {},
   "outputs": [],
   "source": [
    "asset_1 = asset_prices[:,5:6,:1]\n",
    "asset_2 = asset_prices[:,5:6,1:2]\n",
    "asset_3 = asset_prices[:,5:6,2:3]\n",
    "asset_4 = asset_prices[:,5:6,3:4]\n",
    "asset_5 = asset_prices[:,5:6,4:5]\n",
    "asset_6 = asset_prices[:,5:6,5:6]\n",
    "asset_7 = asset_prices[:,5:6,6:7]\n",
    "asset_8 = asset_prices[:,5:6,7:8]\n",
    "asset_9 = asset_prices[:,5:6,8:9]\n",
    "asset_10 = asset_prices[:,5:6,9:10]\n",
    "A1 = asset_1[:,0,0]\n",
    "A2 = asset_2[:,0,0]\n",
    "A3 = asset_3[:,0,0]\n",
    "A4 = asset_4[:,0,0]\n",
    "a5 = asset_5[:,0,0]\n",
    "a6 = asset_6[:,0,0]\n",
    "a7 = asset_7[:,0,0]\n",
    "a8 = asset_8[:,0,0]\n",
    "a9 = asset_9[:,0,0]\n",
    "a10 = asset_10[:,0,0]\n",
    "data1 = [A1,A2,A3,A4,a5,a6,a7,a8,a9,a10]"
   ]
  },
  {
   "cell_type": "code",
   "execution_count": 44,
   "id": "fceb910c",
   "metadata": {},
   "outputs": [
    {
     "ename": "AttributeError",
     "evalue": "'dict' object has no attribute 'set_ylabel'",
     "output_type": "error",
     "traceback": [
      "\u001b[0;31m---------------------------------------------------------------------------\u001b[0m",
      "\u001b[0;31mAttributeError\u001b[0m                            Traceback (most recent call last)",
      "Input \u001b[0;32mIn [44]\u001b[0m, in \u001b[0;36m<cell line: 2>\u001b[0;34m()\u001b[0m\n\u001b[1;32m      1\u001b[0m ax\u001b[38;5;241m=\u001b[39mplt\u001b[38;5;241m.\u001b[39mboxplot(data1)\n\u001b[0;32m----> 2\u001b[0m \u001b[43max\u001b[49m\u001b[38;5;241;43m.\u001b[39;49m\u001b[43mset_ylabel\u001b[49m(\u001b[38;5;124m\"\u001b[39m\u001b[38;5;124mPrice\u001b[39m\u001b[38;5;124m\"\u001b[39m)\n\u001b[1;32m      3\u001b[0m ax\u001b[38;5;241m.\u001b[39mset_xlabel(\u001b[38;5;124m\"\u001b[39m\u001b[38;5;124mAssets\u001b[39m\u001b[38;5;124m\"\u001b[39m)\n",
      "\u001b[0;31mAttributeError\u001b[0m: 'dict' object has no attribute 'set_ylabel'"
     ]
    },
    {
     "data": {
      "image/png": "[encoded data removed]",
      "text/plain": [
       "<Figure size 432x288 with 1 Axes>"
      ]
     },
     "metadata": {
      "needs_background": "light"
     },
     "output_type": "display_data"
    }
   ],
   "source": [
    "ax=plt.boxplot(data1)\n",
    "ax.set_ylabel(\"Price\")\n",
    "ax.set_xlabel(\"Assets\")"
   ]
  },
  {
   "cell_type": "code",
   "execution_count": 45,
   "id": "e45d8e6d",
   "metadata": {},
   "outputs": [],
   "source": [
    "\"\"\"\n",
    "Buy and hold strategy \n",
    "\"\"\"\n",
    "\n",
    "port_w = np.ones(len(mu)) / len(mu)\n",
    "\n",
    "buy_and_hold_index = asset_prices @ port_w"
   ]
  },
  {
   "cell_type": "code",
   "execution_count": 46,
   "id": "f5eaee47",
   "metadata": {},
   "outputs": [
    {
     "data": {
      "text/plain": [
       "array([[1.        , 1.00766431, 1.09201184, 1.15075117, 1.17738555,\n",
       "        1.27619781],\n",
       "       [1.        , 1.1047231 , 1.16971809, 1.39863262, 1.67742337,\n",
       "        1.68890848],\n",
       "       [1.        , 0.97969635, 1.01625309, 1.35059293, 1.47299242,\n",
       "        1.4915514 ],\n",
       "       ...,\n",
       "       [1.        , 1.22477169, 1.19904264, 1.29217548, 1.57425289,\n",
       "        1.71136725],\n",
       "       [1.        , 0.91551916, 0.95923788, 0.94664209, 0.98242939,\n",
       "        1.06089573],\n",
       "       [1.        , 1.08584104, 1.14713148, 1.3650766 , 1.42400807,\n",
       "        1.47556088]])"
      ]
     },
     "execution_count": 46,
     "metadata": {},
     "output_type": "execute_result"
    }
   ],
   "source": [
    "buy_and_hold_index"
   ]
  },
  {
   "cell_type": "code",
   "execution_count": 47,
   "id": "f35e5f3e",
   "metadata": {},
   "outputs": [
    {
     "data": {
      "text/plain": [
       "(5000, 6)"
      ]
     },
     "execution_count": 47,
     "metadata": {},
     "output_type": "execute_result"
    }
   ],
   "source": [
    "buy_and_hold_index.shape"
   ]
  },
  {
   "cell_type": "code",
   "execution_count": 48,
   "id": "1de2ab3f",
   "metadata": {},
   "outputs": [
    {
     "ename": "NameError",
     "evalue": "name 'fan_chart' is not defined",
     "output_type": "error",
     "traceback": [
      "\u001b[0;31m---------------------------------------------------------------------------\u001b[0m",
      "\u001b[0;31mNameError\u001b[0m                                 Traceback (most recent call last)",
      "Input \u001b[0;32mIn [48]\u001b[0m, in \u001b[0;36m<cell line: 11>\u001b[0;34m()\u001b[0m\n\u001b[1;32m      5\u001b[0m \u001b[38;5;124;03m\"\"\"\u001b[39;00m\n\u001b[1;32m      6\u001b[0m \u001b[38;5;124;03mPlot fan chart\u001b[39;00m\n\u001b[1;32m      7\u001b[0m \u001b[38;5;124;03m\"\"\"\u001b[39;00m\n\u001b[1;32m      9\u001b[0m fig, ax \u001b[38;5;241m=\u001b[39m plt\u001b[38;5;241m.\u001b[39msubplots(\u001b[38;5;241m1\u001b[39m, \u001b[38;5;241m2\u001b[39m, figsize\u001b[38;5;241m=\u001b[39m(\u001b[38;5;241m16\u001b[39m, \u001b[38;5;241m6\u001b[39m))\n\u001b[0;32m---> 11\u001b[0m \u001b[43mfan_chart\u001b[49m(time_points,\n\u001b[1;32m     12\u001b[0m           percentiles_buy_and_hold,\n\u001b[1;32m     13\u001b[0m           color\u001b[38;5;241m=\u001b[39mdefault_colors[\u001b[38;5;124m'\u001b[39m\u001b[38;5;124mcyan\u001b[39m\u001b[38;5;124m'\u001b[39m],\n\u001b[1;32m     14\u001b[0m           color_median\u001b[38;5;241m=\u001b[39mdefault_colors[\u001b[38;5;124m'\u001b[39m\u001b[38;5;124mdark_blue\u001b[39m\u001b[38;5;124m'\u001b[39m],\n\u001b[1;32m     15\u001b[0m           labels\u001b[38;5;241m=\u001b[39m[\u001b[38;5;124m'\u001b[39m\u001b[38;5;124m99\u001b[39m\u001b[38;5;124m%\u001b[39m\u001b[38;5;124m CI\u001b[39m\u001b[38;5;124m'\u001b[39m, \u001b[38;5;124m'\u001b[39m\u001b[38;5;124m98\u001b[39m\u001b[38;5;124m%\u001b[39m\u001b[38;5;124m CI\u001b[39m\u001b[38;5;124m'\u001b[39m, \u001b[38;5;124m'\u001b[39m\u001b[38;5;124m95\u001b[39m\u001b[38;5;124m%\u001b[39m\u001b[38;5;124m CI\u001b[39m\u001b[38;5;124m'\u001b[39m, \u001b[38;5;124m'\u001b[39m\u001b[38;5;124m90\u001b[39m\u001b[38;5;124m%\u001b[39m\u001b[38;5;124m CI\u001b[39m\u001b[38;5;124m'\u001b[39m, \u001b[38;5;124m'\u001b[39m\u001b[38;5;124m80\u001b[39m\u001b[38;5;124m%\u001b[39m\u001b[38;5;124m CI\u001b[39m\u001b[38;5;124m'\u001b[39m, \u001b[38;5;124m'\u001b[39m\u001b[38;5;124mMedian\u001b[39m\u001b[38;5;124m'\u001b[39m],\n\u001b[1;32m     16\u001b[0m           ax\u001b[38;5;241m=\u001b[39max[\u001b[38;5;241m0\u001b[39m])\n\u001b[1;32m     18\u001b[0m ax[\u001b[38;5;241m0\u001b[39m]\u001b[38;5;241m.\u001b[39mset_xlabel(\u001b[38;5;124m\"\u001b[39m\u001b[38;5;124mYear\u001b[39m\u001b[38;5;124m\"\u001b[39m, size\u001b[38;5;241m=\u001b[39m\u001b[38;5;241m15\u001b[39m)\n\u001b[1;32m     19\u001b[0m ax[\u001b[38;5;241m0\u001b[39m]\u001b[38;5;241m.\u001b[39mset_ylabel(\u001b[38;5;124m\"\u001b[39m\u001b[38;5;124mIndex value\u001b[39m\u001b[38;5;124m\"\u001b[39m, size\u001b[38;5;241m=\u001b[39m\u001b[38;5;241m15\u001b[39m)\n",
      "\u001b[0;31mNameError\u001b[0m: name 'fan_chart' is not defined"
     ]
    },
    {
     "data": {
      "image/png": "[encoded data removed]",
      "text/plain": [
       "<Figure size 1152x432 with 2 Axes>"
      ]
     },
     "metadata": {
      "needs_background": "light"
     },
     "output_type": "display_data"
    }
   ],
   "source": [
    "# calculate percentiles\n",
    "percentiles_buy_and_hold = np.percentile(buy_and_hold_index, [0.5, 1.0, 2.5, 5, 10, 50, 90, 95, 97.5, 99.0, 99.5],\n",
    "                                         axis=0)\n",
    "\n",
    "\"\"\"\n",
    "Plot fan chart\n",
    "\"\"\"\n",
    "\n",
    "fig, ax = plt.subplots(1, 2, figsize=(16, 6))\n",
    "\n",
    "fan_chart(time_points,\n",
    "          percentiles_buy_and_hold,\n",
    "          color=default_colors['cyan'],\n",
    "          color_median=default_colors['dark_blue'],\n",
    "          labels=['99% CI', '98% CI', '95% CI', '90% CI', '80% CI', 'Median'],\n",
    "          ax=ax[0])\n",
    "\n",
    "ax[0].set_xlabel(\"Year\", size=15)\n",
    "ax[0].set_ylabel(\"Index value\", size=15)\n",
    "ax[0].set_title(\"Buy and Hold\", size=15)\n",
    "ax[0].set_ylim([0.5, 3.0])\n",
    "ax[0].legend(loc='upper center', bbox_to_anchor=(0.5, -0.15), ncol=5, fontsize=12);"
   ]
  },
  {
   "cell_type": "code",
   "execution_count": null,
   "id": "33e98fd9",
   "metadata": {},
   "outputs": [],
   "source": [
    "np.mean(buy_and_hold_index[:, 5])"
   ]
  },
  {
   "cell_type": "code",
   "execution_count": 49,
   "id": "396f8a11",
   "metadata": {},
   "outputs": [
    {
     "data": {
      "text/plain": [
       "1.3390268748185905"
      ]
     },
     "execution_count": 49,
     "metadata": {},
     "output_type": "execute_result"
    }
   ],
   "source": [
    "np.median(buy_and_hold_index[:, 5])"
   ]
  },
  {
   "cell_type": "markdown",
   "id": "b18e28fb",
   "metadata": {},
   "source": [
    "Transactions Costs"
   ]
  },
  {
   "cell_type": "code",
   "execution_count": 60,
   "id": "5f918519",
   "metadata": {},
   "outputs": [],
   "source": [
    "a0 = 500000"
   ]
  },
  {
   "cell_type": "code",
   "execution_count": 76,
   "id": "71927cf2",
   "metadata": {},
   "outputs": [],
   "source": [
    "a5_y0 = asset_prices[:,0:1,4:5]\n",
    "a5_y1 = asset_prices[:,1:2,4:5]\n",
    "a5_y2 = asset_prices[:,2:3,4:5]\n",
    "a5_y3 = asset_prices[:,3:4,4:5]\n",
    "a5_y4 = asset_prices[:,4:5,4:5]\n",
    "a5_y5 = asset_prices[:,5:6,4:5]"
   ]
  },
  {
   "cell_type": "code",
   "execution_count": 90,
   "id": "bd482aa6",
   "metadata": {},
   "outputs": [],
   "source": [
    "a5_y0_mean = np.mean(a5_y0)\n",
    "a5_y1_mean = np.mean(a5_y1)\n",
    "a5_y2_mean = np.mean(a5_y2)\n",
    "a5_y3_mean = np.mean(a5_y3)\n",
    "a5_y4_mean = np.mean(a5_y4)\n",
    "a5_y5_mean = np.mean(a5_y5)\n",
    "k = 0.02"
   ]
  },
  {
   "cell_type": "code",
   "execution_count": 109,
   "id": "31d95e03",
   "metadata": {},
   "outputs": [],
   "source": [
    "a5_y0_ret = (a5_y0_mean*a0-a0)*0.02\n",
    "a5_y1_ret = (a5_y1_mean*a0-a0)*0.02\n",
    "a5_y2_ret = (a5_y2_mean*a0-a0)*0.02\n",
    "a5_y3_ret = (a5_y3_mean*a0-a0)*0.02\n",
    "a5_y4_ret = (a5_y4_mean*a0-a0)*0.02\n",
    "a5_y5_ret = (a5_y5_mean*a0-a0)*0.02"
   ]
  },
  {
   "cell_type": "code",
   "execution_count": 114,
   "id": "ca24e5eb",
   "metadata": {},
   "outputs": [
    {
     "ename": "TypeError",
     "evalue": "array() takes from 1 to 2 positional arguments but 4 were given",
     "output_type": "error",
     "traceback": [
      "\u001b[0;31m---------------------------------------------------------------------------\u001b[0m",
      "\u001b[0;31mTypeError\u001b[0m                                 Traceback (most recent call last)",
      "Input \u001b[0;32mIn [114]\u001b[0m, in \u001b[0;36m<cell line: 1>\u001b[0;34m()\u001b[0m\n\u001b[0;32m----> 1\u001b[0m x \u001b[38;5;241m=\u001b[39m \u001b[43mnp\u001b[49m\u001b[38;5;241;43m.\u001b[39;49m\u001b[43marray\u001b[49m\u001b[43m(\u001b[49m\u001b[38;5;241;43m1\u001b[39;49m\u001b[43m,\u001b[49m\u001b[38;5;241;43m2\u001b[39;49m\u001b[43m,\u001b[49m\u001b[38;5;241;43m4\u001b[39;49m\u001b[43m,\u001b[49m\u001b[38;5;241;43m5\u001b[39;49m\u001b[43m)\u001b[49m\u001b[38;5;241m.\u001b[39mreshape((\u001b[38;5;241m-\u001b[39m\u001b[38;5;241m1\u001b[39m,\u001b[38;5;241m1\u001b[39m))\n\u001b[1;32m      2\u001b[0m y \u001b[38;5;241m=\u001b[39m np\u001b[38;5;241m.\u001b[39marray(a5_y0_ret,a5_y1_ret,a5_y2_ret,a5_y3_ret,a5_y4_ret,a5_y5_ret)\n",
      "\u001b[0;31mTypeError\u001b[0m: array() takes from 1 to 2 positional arguments but 4 were given"
     ]
    }
   ],
   "source": [
    "x = np.array(1,2,4,5).reshape((-1,1))\n",
    "y = np.array(a5_y0_ret,a5_y1_ret,a5_y2_ret,a5_y3_ret,a5_y4_ret,a5_y5_ret)"
   ]
  },
  {
   "cell_type": "code",
   "execution_count": null,
   "id": "b899a125",
   "metadata": {},
   "outputs": [],
   "source": []
  }
 ],
 "metadata": {
  "kernelspec": {
   "display_name": "Python 3 (ipykernel)",
   "language": "python",
   "name": "python3"
  },
  "language_info": {
   "codemirror_mode": {
    "name": "ipython",
    "version": 3
   },
   "file_extension": ".py",
   "mimetype": "text/x-python",
   "name": "python",
   "nbconvert_exporter": "python",
   "pygments_lexer": "ipython3",
   "version": "3.9.12"
  }
 },
 "nbformat": 4,
 "nbformat_minor": 5
}
