{
 "cells": [
  {
   "cell_type": "code",
   "execution_count": 106,
   "id": "f7aa97ba",
   "metadata": {},
   "outputs": [
    {
     "name": "stdout",
     "output_type": "stream",
     "text": [
      "The autoreload extension is already loaded. To reload it, use:\n",
      "  %reload_ext autoreload\n"
     ]
    }
   ],
   "source": [
    "import sys\n",
    "sys.path.insert(0,'/Users/christoffer/Desktop/CBS/Cand.merc Finance & Investments/3. Semester/Python For The Financial Economist')\n",
    "\n",
    "\"\"\"\n",
    "Magic commands\n",
    "\"\"\"\n",
    "\n",
    "%load_ext autoreload\n",
    "%autoreload 2\n",
    "\n",
    "\"\"\"\n",
    "Load relevant packages\n",
    "\"\"\"\n",
    "\n",
    "import numpy as np\n",
    "import pandas as pd\n",
    "import seaborn as sns\n",
    "import matplotlib.pyplot as plt\n",
    "import matplotlib.ticker as ticker\n",
    "import datetime\n",
    "from scipy import stats\n",
    "from scipy import optimize\n",
    "from scipy.optimize import minimize\n",
    "\n",
    "# typehints\n",
    "from typing import Union, List, Tuple\n",
    "\n"
   ]
  },
  {
   "cell_type": "code",
   "execution_count": 207,
   "id": "494ab40d",
   "metadata": {},
   "outputs": [
    {
     "name": "stdout",
     "output_type": "stream",
     "text": [
      "Requirement already satisfied: codelib in /Users/christoffer/opt/anaconda3/lib/python3.9/site-packages (0.0.1)\n",
      "Note: you may need to restart the kernel to use updated packages.\n"
     ]
    }
   ],
   "source": [
    "pip install codelib"
   ]
  },
  {
   "cell_type": "markdown",
   "id": "2d36109d",
   "metadata": {},
   "source": [
    "## Question 2"
   ]
  },
  {
   "cell_type": "code",
   "execution_count": 4,
   "id": "d51bd385",
   "metadata": {},
   "outputs": [
    {
     "data": {
      "text/plain": [
       "array([[ 0.001369 ,  0.001221 ,  0.0004403,  0.0011877, -0.0005661,\n",
       "        -0.0008029, -0.0015096, -0.000518 , -0.0003996, -0.0003478],\n",
       "       [ 0.001221 ,  0.003025 ,  0.003927 ,  0.003531 ,  0.001683 ,\n",
       "         0.002387 ,  0.002244 ,  0.00077  ,  0.000594 ,  0.001551 ],\n",
       "       [ 0.0004403,  0.003927 ,  0.014161 ,  0.0089131,  0.0127449,\n",
       "         0.0154938,  0.0145656,  0.006664 ,  0.0038556,  0.0078302],\n",
       "       [ 0.0011877,  0.003531 ,  0.0089131,  0.011449 ,  0.0081855,\n",
       "         0.0139314,  0.0087312,  0.002996 ,  0.0023112,  0.005029 ],\n",
       "       [-0.0005661,  0.001683 ,  0.0127449,  0.0081855,  0.023409 ,\n",
       "         0.0232407,  0.0249696,  0.008568 ,  0.0066096,  0.0115056],\n",
       "       [-0.0008029,  0.002387 ,  0.0154938,  0.0139314,  0.0232407,\n",
       "         0.047089 ,  0.0309876,  0.012152 ,  0.0093744,  0.0142786],\n",
       "       [-0.0015096,  0.002244 ,  0.0145656,  0.0087312,  0.0249696,\n",
       "         0.0309876,  0.041616 ,  0.011424 ,  0.0088128,  0.0134232],\n",
       "       [-0.000518 ,  0.00077  ,  0.006664 ,  0.002996 ,  0.008568 ,\n",
       "         0.012152 ,  0.011424 ,  0.0196   ,  0.004536 ,  0.005264 ],\n",
       "       [-0.0003996,  0.000594 ,  0.0038556,  0.0023112,  0.0066096,\n",
       "         0.0093744,  0.0088128,  0.004536 ,  0.011664 ,  0.0040608],\n",
       "       [-0.0003478,  0.001551 ,  0.0078302,  0.005029 ,  0.0115056,\n",
       "         0.0142786,  0.0134232,  0.005264 ,  0.0040608,  0.008836 ]])"
      ]
     },
     "execution_count": 4,
     "metadata": {},
     "output_type": "execute_result"
    }
   ],
   "source": [
    "mu = np.array([0.019, 0.022, 0.049, 0.043, 0.061, 0.083, 0.102, 0.056, 0.041, 0.038])\n",
    "vols = np.array([0.037, 0.055, 0.119, 0.107, 0.153, 0.217, 0.204, 0.14, 0.108, 0.094])\n",
    "corr_mat = np.array([[1.0, 0.6, 0.1, 0.3, -0.1, -0.1, -0.2, -0.1, -0.1, -0.1],\n",
    "                     [0.6, 1.0, 0.6, 0.6, 0.2, 0.2, 0.2, 0.1, 0.1, 0.3],\n",
    "                     [0.1, 0.6, 1.0, 0.7, 0.7, 0.6, 0.6, 0.4, 0.3, 0.7],\n",
    "                     [0.3, 0.6, 0.7, 1.0, 0.5, 0.6, 0.4, 0.2, 0.2, 0.5],\n",
    "                     [-0.1, 0.2, 0.7, 0.5, 1.0, 0.7, 0.8, 0.4, 0.4, 0.8],\n",
    "                     [-0.1, 0.2, 0.6, 0.6, 0.7, 1.0, 0.7, 0.4, 0.4, 0.7],\n",
    "                     [-0.2, 0.2, 0.6, 0.4, 0.8, 0.7, 1.0, 0.4, 0.4, 0.7],\n",
    "                     [-0.1, 0.1, 0.4, 0.2, 0.4, 0.4, 0.4, 1.0, 0.3, 0.4],\n",
    "                     [-0.1, 0.1, 0.3, 0.2, 0.4, 0.4, 0.4, 0.3, 1.0, 0.4],\n",
    "                     [-0.1, 0.3, 0.7, 0.5, 0.8, 0.7, 0.7, 0.4, 0.4, 1.0]])\n",
    "\n",
    "cov_mat = np.outer(vols, vols) * corr_mat\n",
    "cov_mat"
   ]
  },
  {
   "cell_type": "code",
   "execution_count": 5,
   "id": "04d9d373",
   "metadata": {},
   "outputs": [],
   "source": [
    "def calculate_optimal_weights_alternative(mu: np.ndarray, cov_matrix: np.ndarray, risk_aversion: float) -> np.ndarray: \n",
    "    \n",
    "    \"\"\"\n",
    "    Function that calculates optimal port. weights\n",
    "    \n",
    "    Parameters\n",
    "    ----------\n",
    "    mu: \n",
    "        Expected returns\n",
    "    cov_matrix: \n",
    "        Covariance matrix\n",
    "    risk_aversion: \n",
    "        Risk aversion parameter\n",
    "    \n",
    "    Returns\n",
    "    -------\n",
    "    float\n",
    "        Optimal portfolio weights\n",
    "    \"\"\"\n",
    "    \n",
    "    ones = np.ones_like(mu)\n",
    "    sigma_inv = np.linalg.inv(cov_matrix)\n",
    "    \n",
    "    a = ones @  sigma_inv @ mu\n",
    "    b = ones @  sigma_inv @ ones\n",
    "    \n",
    "    r_inv = 1.0 / risk_aversion\n",
    "    \n",
    "    gamma = a / b - risk_aversion / b \n",
    "    \n",
    "    opt_weights = r_inv * sigma_inv @mu - r_inv * gamma * sigma_inv @ ones\n",
    "    \n",
    "    return opt_weights"
   ]
  },
  {
   "cell_type": "code",
   "execution_count": 6,
   "id": "a3c20c15",
   "metadata": {},
   "outputs": [
    {
     "name": "stdout",
     "output_type": "stream",
     "text": [
      "optimal weights: \n"
     ]
    },
    {
     "data": {
      "text/plain": [
       "array([ 1.340008  , -1.22071065,  0.31584251,  0.3366493 , -0.3598723 ,\n",
       "       -0.04895523,  0.60319508,  0.19529637,  0.1471628 , -0.30861588])"
      ]
     },
     "execution_count": 6,
     "metadata": {},
     "output_type": "execute_result"
    }
   ],
   "source": [
    "risk_aversion = 5\n",
    "print(\"optimal weights: \")\n",
    "w_opt = calculate_optimal_weights_alternative(mu, cov_mat, risk_aversion)\n",
    "w_opt"
   ]
  },
  {
   "cell_type": "code",
   "execution_count": 7,
   "id": "c15ea293",
   "metadata": {},
   "outputs": [],
   "source": [
    "def simulate_asset_prices(mu: np.ndarray, cov_mat: np.ndarray,\n",
    "                          horizon: float, dt: float, num_sim: int,\n",
    "                          transform_input: bool=False) -> np.ndarray:\n",
    "    \n",
    "    \"\"\"\n",
    "    Simulates asset prices\n",
    "    \n",
    "    Parameters\n",
    "    ----------\n",
    "    mu: \n",
    "        Expected log-returns. \n",
    "    cov_mat: \n",
    "        Covariance matrix of log-returns. \n",
    "    horizon: \n",
    "        Simulation horizon in years. \n",
    "    dt: \n",
    "        Time step. \n",
    "    num_sim: \n",
    "        Number of simulations. \n",
    "    transform_input: \n",
    "        Boolean indicating whether to transform mu and cov_mat to time_step. \n",
    "    \n",
    "    \n",
    "    Returns\n",
    "    -------\n",
    "    np.ndarray\n",
    "        Simulated asset prices  [num sim x num time steps x num_assets]. \n",
    "    \n",
    "    \n",
    "    \"\"\"\n",
    "    \n",
    "    if transform_input:\n",
    "        mu = mu * dt\n",
    "        cov_mat = cov_mat * dt\n",
    "        \n",
    "    num_assets = len(mu)\n",
    "    \n",
    "    num_periods = int(horizon / dt)\n",
    "    \n",
    "    # allocate memory\n",
    "    asset_prices = np.ones((num_sim, 1 + num_periods, num_assets))\n",
    "    \n",
    "    # simulate returns\n",
    "    log_ret = np.random.multivariate_normal(mu, cov_mat, size=(num_sim, num_periods))\n",
    "    \n",
    "    # transform returns to asset prices\n",
    "    asset_prices[:, 1:, :] = np.exp(np.cumsum(log_ret, axis=1))\n",
    "    \n",
    "    return asset_prices"
   ]
  },
  {
   "cell_type": "code",
   "execution_count": 38,
   "id": "714fe10a",
   "metadata": {},
   "outputs": [
    {
     "data": {
      "text/plain": [
       "array([[[1.        , 1.        , 1.        , ..., 1.        ,\n",
       "         1.        , 1.        ],\n",
       "        [0.99459388, 0.98301396, 1.09642119, ..., 1.02053632,\n",
       "         1.00226316, 1.03535253],\n",
       "        [1.00002417, 1.01077223, 1.04189991, ..., 1.1753564 ,\n",
       "         0.95026597, 1.03197903],\n",
       "        [0.98351286, 0.98719996, 0.9616447 , ..., 1.16585272,\n",
       "         1.0194757 , 0.91589573],\n",
       "        [0.96774823, 0.93731068, 0.86627622, ..., 1.41250137,\n",
       "         0.98828788, 0.8748009 ],\n",
       "        [0.9327936 , 0.96438573, 0.80688368, ..., 1.22811211,\n",
       "         1.18581493, 0.88169878]],\n",
       "\n",
       "       [[1.        , 1.        , 1.        , ..., 1.        ,\n",
       "         1.        , 1.        ],\n",
       "        [1.04666279, 1.11026352, 1.40871676, ..., 1.24266548,\n",
       "         1.07359616, 1.1363814 ],\n",
       "        [1.06911495, 1.12325952, 1.33363968, ..., 1.19967595,\n",
       "         1.20943579, 1.04740014],\n",
       "        [1.06344135, 1.17395346, 1.36356399, ..., 1.19232033,\n",
       "         1.27724712, 1.19650804],\n",
       "        [1.14165565, 1.23873414, 1.31677505, ..., 1.10862789,\n",
       "         1.08832717, 1.12561923],\n",
       "        [1.18134455, 1.29827512, 1.50558211, ..., 1.4245347 ,\n",
       "         1.20118698, 1.38380258]],\n",
       "\n",
       "       [[1.        , 1.        , 1.        , ..., 1.        ,\n",
       "         1.        , 1.        ],\n",
       "        [0.98158347, 0.98145436, 0.87985908, ..., 0.85271987,\n",
       "         0.9686459 , 0.81351649],\n",
       "        [0.97737183, 0.97307913, 0.95132954, ..., 0.92642498,\n",
       "         0.90778557, 0.80281576],\n",
       "        [0.97619902, 1.03674987, 0.95229665, ..., 0.97021459,\n",
       "         1.01405919, 0.86163977],\n",
       "        [1.05185375, 1.08035379, 0.96210231, ..., 0.8676179 ,\n",
       "         0.89629978, 0.76841775],\n",
       "        [1.07590353, 1.12615965, 1.05394151, ..., 0.78631498,\n",
       "         0.99107655, 0.8203028 ]],\n",
       "\n",
       "       ...,\n",
       "\n",
       "       [[1.        , 1.        , 1.        , ..., 1.        ,\n",
       "         1.        , 1.        ],\n",
       "        [0.97744352, 0.95579231, 0.96144622, ..., 1.18297554,\n",
       "         1.08441518, 1.05460793],\n",
       "        [1.00523502, 1.01747828, 0.98358005, ..., 1.23736972,\n",
       "         1.08308036, 1.09983295],\n",
       "        [0.97049535, 1.0224913 , 0.93832967, ..., 1.30913014,\n",
       "         1.18204223, 1.21941464],\n",
       "        [0.98965476, 0.99220064, 0.85796249, ..., 1.57604004,\n",
       "         1.18476719, 1.24468192],\n",
       "        [0.92959464, 0.9491272 , 0.89887301, ..., 1.39776067,\n",
       "         1.27331061, 1.28291178]],\n",
       "\n",
       "       [[1.        , 1.        , 1.        , ..., 1.        ,\n",
       "         1.        , 1.        ],\n",
       "        [1.01744908, 1.01317297, 1.05382079, ..., 0.99927368,\n",
       "         0.9249646 , 1.0188528 ],\n",
       "        [1.06355053, 1.05869742, 1.13285896, ..., 0.98921519,\n",
       "         1.02460656, 1.149347  ],\n",
       "        [1.04555232, 0.98875259, 1.03213769, ..., 0.92345678,\n",
       "         1.18224408, 1.16527499],\n",
       "        [1.06500204, 1.05412691, 1.26501445, ..., 1.05147075,\n",
       "         1.04615959, 1.3630656 ],\n",
       "        [1.12088268, 1.13012983, 1.17221795, ..., 0.98581269,\n",
       "         1.12582025, 1.33346715]],\n",
       "\n",
       "       [[1.        , 1.        , 1.        , ..., 1.        ,\n",
       "         1.        , 1.        ],\n",
       "        [1.06430902, 1.07561283, 0.91997245, ..., 1.22752897,\n",
       "         1.07807679, 1.01625592],\n",
       "        [1.09977758, 1.03594514, 0.86967059, ..., 1.22097641,\n",
       "         0.93690201, 1.03660408],\n",
       "        [1.09112879, 1.0713394 , 0.84099554, ..., 1.04253525,\n",
       "         0.82932534, 0.9456693 ],\n",
       "        [1.07530511, 1.05503821, 0.80719584, ..., 1.05608612,\n",
       "         0.84596449, 0.9321567 ],\n",
       "        [1.10608939, 1.12423738, 0.81951711, ..., 0.92122747,\n",
       "         0.73831424, 0.91124659]]])"
      ]
     },
     "execution_count": 38,
     "metadata": {},
     "output_type": "execute_result"
    }
   ],
   "source": [
    "\"\"\"\n",
    "Simulate asset prices\n",
    "\"\"\"\n",
    "\n",
    "num_sim = 5000\n",
    "dt = 1.0\n",
    "horizon = 5.0\n",
    "mu = mu\n",
    "cov_mat = cov_mat\n",
    "\n",
    "time_points = np.arange(0.0, horizon + 0.01, dt)\n",
    "asset_prices = simulate_asset_prices(mu, cov_mat, horizon, dt, num_sim)\n",
    "asset_prices"
   ]
  },
  {
   "cell_type": "code",
   "execution_count": 39,
   "id": "9dac4e0e",
   "metadata": {},
   "outputs": [
    {
     "data": {
      "text/plain": [
       "(5000, 6, 10)"
      ]
     },
     "execution_count": 39,
     "metadata": {},
     "output_type": "execute_result"
    }
   ],
   "source": [
    "asset_prices.shape"
   ]
  },
  {
   "cell_type": "code",
   "execution_count": 40,
   "id": "84d8b4b5",
   "metadata": {},
   "outputs": [],
   "source": [
    "asset_1 = asset_prices[:,5:6,:1]\n",
    "asset_2 = asset_prices[:,5:6,1:2]\n",
    "asset_3 = asset_prices[:,5:6,2:3]\n",
    "asset_4 = asset_prices[:,5:6,3:4]\n",
    "asset_5 = asset_prices[:,5:6,4:5]\n",
    "asset_6 = asset_prices[:,5:6,5:6]\n",
    "asset_7 = asset_prices[:,5:6,6:7]\n",
    "asset_8 = asset_prices[:,5:6,7:8]\n",
    "asset_9 = asset_prices[:,5:6,8:9]\n",
    "asset_10 = asset_prices[:,5:6,9:10]\n",
    "A1 = asset_1[:,0,0]\n",
    "A2 = asset_2[:,0,0]\n",
    "A3 = asset_3[:,0,0]\n",
    "A4 = asset_4[:,0,0]\n",
    "a5 = asset_5[:,0,0]\n",
    "a6 = asset_6[:,0,0]\n",
    "a7 = asset_7[:,0,0]\n",
    "a8 = asset_8[:,0,0]\n",
    "a9 = asset_9[:,0,0]\n",
    "a10 = asset_10[:,0,0]\n",
    "data1 = [A1,A2,A3,A4,a5,a6,a7,a8,a9,a10]"
   ]
  },
  {
   "cell_type": "code",
   "execution_count": 41,
   "id": "fceb910c",
   "metadata": {},
   "outputs": [
    {
     "data": {
      "text/plain": [
       "Text(0, 0.5, 'Prices')"
      ]
     },
     "execution_count": 41,
     "metadata": {},
     "output_type": "execute_result"
    },
    {
     "data": {
      "image/png": "[encoded data removed]",
      "text/plain": [
       "<Figure size 432x288 with 1 Axes>"
      ]
     },
     "metadata": {
      "needs_background": "light"
     },
     "output_type": "display_data"
    }
   ],
   "source": [
    "fig = plt.figure()\n",
    "ax = fig.add_subplot(111)\n",
    "ax.boxplot(data1)\n",
    "ax.set_title('Price Distributions', fontsize=14, fontweight='bold')\n",
    "ax.set_xlabel('Assets')\n",
    "ax.set_ylabel('Prices')"
   ]
  },
  {
   "cell_type": "code",
   "execution_count": 108,
   "id": "89b1a424",
   "metadata": {},
   "outputs": [
    {
     "data": {
      "text/html": [
       "<div>\n",
       "<style scoped>\n",
       "    .dataframe tbody tr th:only-of-type {\n",
       "        vertical-align: middle;\n",
       "    }\n",
       "\n",
       "    .dataframe tbody tr th {\n",
       "        vertical-align: top;\n",
       "    }\n",
       "\n",
       "    .dataframe thead th {\n",
       "        text-align: right;\n",
       "    }\n",
       "</style>\n",
       "<table border=\"1\" class=\"dataframe\">\n",
       "  <thead>\n",
       "    <tr style=\"text-align: right;\">\n",
       "      <th></th>\n",
       "      <th>0</th>\n",
       "      <th>1</th>\n",
       "      <th>2</th>\n",
       "      <th>4</th>\n",
       "      <th>5</th>\n",
       "      <th>6</th>\n",
       "      <th>7</th>\n",
       "      <th>8</th>\n",
       "      <th>9</th>\n",
       "      <th>10</th>\n",
       "    </tr>\n",
       "  </thead>\n",
       "  <tbody>\n",
       "    <tr>\n",
       "      <th>0</th>\n",
       "      <td>0.932794</td>\n",
       "      <td>0.964386</td>\n",
       "      <td>0.806884</td>\n",
       "      <td>0.803795</td>\n",
       "      <td>0.748723</td>\n",
       "      <td>0.621806</td>\n",
       "      <td>1.136504</td>\n",
       "      <td>1.228112</td>\n",
       "      <td>1.185815</td>\n",
       "      <td>0.881699</td>\n",
       "    </tr>\n",
       "    <tr>\n",
       "      <th>1</th>\n",
       "      <td>1.181345</td>\n",
       "      <td>1.298275</td>\n",
       "      <td>1.505582</td>\n",
       "      <td>1.390617</td>\n",
       "      <td>1.482480</td>\n",
       "      <td>0.753251</td>\n",
       "      <td>0.981711</td>\n",
       "      <td>1.424535</td>\n",
       "      <td>1.201187</td>\n",
       "      <td>1.383803</td>\n",
       "    </tr>\n",
       "    <tr>\n",
       "      <th>2</th>\n",
       "      <td>1.075904</td>\n",
       "      <td>1.126160</td>\n",
       "      <td>1.053942</td>\n",
       "      <td>1.324544</td>\n",
       "      <td>1.026900</td>\n",
       "      <td>0.733573</td>\n",
       "      <td>0.807175</td>\n",
       "      <td>0.786315</td>\n",
       "      <td>0.991077</td>\n",
       "      <td>0.820303</td>\n",
       "    </tr>\n",
       "    <tr>\n",
       "      <th>3</th>\n",
       "      <td>1.126545</td>\n",
       "      <td>0.960192</td>\n",
       "      <td>1.204293</td>\n",
       "      <td>1.234025</td>\n",
       "      <td>2.158573</td>\n",
       "      <td>2.447420</td>\n",
       "      <td>2.308540</td>\n",
       "      <td>2.525723</td>\n",
       "      <td>1.380446</td>\n",
       "      <td>1.640206</td>\n",
       "    </tr>\n",
       "    <tr>\n",
       "      <th>4</th>\n",
       "      <td>1.106542</td>\n",
       "      <td>1.156159</td>\n",
       "      <td>1.624865</td>\n",
       "      <td>1.529945</td>\n",
       "      <td>1.896278</td>\n",
       "      <td>2.230701</td>\n",
       "      <td>2.030820</td>\n",
       "      <td>0.926146</td>\n",
       "      <td>1.033307</td>\n",
       "      <td>1.436603</td>\n",
       "    </tr>\n",
       "    <tr>\n",
       "      <th>...</th>\n",
       "      <td>...</td>\n",
       "      <td>...</td>\n",
       "      <td>...</td>\n",
       "      <td>...</td>\n",
       "      <td>...</td>\n",
       "      <td>...</td>\n",
       "      <td>...</td>\n",
       "      <td>...</td>\n",
       "      <td>...</td>\n",
       "      <td>...</td>\n",
       "    </tr>\n",
       "    <tr>\n",
       "      <th>4995</th>\n",
       "      <td>1.062305</td>\n",
       "      <td>1.334715</td>\n",
       "      <td>2.041705</td>\n",
       "      <td>1.726774</td>\n",
       "      <td>1.840788</td>\n",
       "      <td>3.312763</td>\n",
       "      <td>4.021894</td>\n",
       "      <td>1.555676</td>\n",
       "      <td>1.396412</td>\n",
       "      <td>1.521397</td>\n",
       "    </tr>\n",
       "    <tr>\n",
       "      <th>4996</th>\n",
       "      <td>1.260304</td>\n",
       "      <td>1.215758</td>\n",
       "      <td>1.065819</td>\n",
       "      <td>1.079690</td>\n",
       "      <td>1.022374</td>\n",
       "      <td>1.251345</td>\n",
       "      <td>1.260001</td>\n",
       "      <td>2.237750</td>\n",
       "      <td>1.168393</td>\n",
       "      <td>1.003193</td>\n",
       "    </tr>\n",
       "    <tr>\n",
       "      <th>4997</th>\n",
       "      <td>0.929595</td>\n",
       "      <td>0.949127</td>\n",
       "      <td>0.898873</td>\n",
       "      <td>0.826171</td>\n",
       "      <td>0.900865</td>\n",
       "      <td>1.557373</td>\n",
       "      <td>1.014859</td>\n",
       "      <td>1.397761</td>\n",
       "      <td>1.273311</td>\n",
       "      <td>1.282912</td>\n",
       "    </tr>\n",
       "    <tr>\n",
       "      <th>4998</th>\n",
       "      <td>1.120883</td>\n",
       "      <td>1.130130</td>\n",
       "      <td>1.172218</td>\n",
       "      <td>0.976825</td>\n",
       "      <td>1.229116</td>\n",
       "      <td>0.914997</td>\n",
       "      <td>1.839553</td>\n",
       "      <td>0.985813</td>\n",
       "      <td>1.125820</td>\n",
       "      <td>1.333467</td>\n",
       "    </tr>\n",
       "    <tr>\n",
       "      <th>4999</th>\n",
       "      <td>1.106089</td>\n",
       "      <td>1.124237</td>\n",
       "      <td>0.819517</td>\n",
       "      <td>1.017212</td>\n",
       "      <td>0.727982</td>\n",
       "      <td>1.153235</td>\n",
       "      <td>1.099583</td>\n",
       "      <td>0.921227</td>\n",
       "      <td>0.738314</td>\n",
       "      <td>0.911247</td>\n",
       "    </tr>\n",
       "  </tbody>\n",
       "</table>\n",
       "<p>5000 rows × 10 columns</p>\n",
       "</div>"
      ],
      "text/plain": [
       "             0         1         2         4         5         6         7  \\\n",
       "0     0.932794  0.964386  0.806884  0.803795  0.748723  0.621806  1.136504   \n",
       "1     1.181345  1.298275  1.505582  1.390617  1.482480  0.753251  0.981711   \n",
       "2     1.075904  1.126160  1.053942  1.324544  1.026900  0.733573  0.807175   \n",
       "3     1.126545  0.960192  1.204293  1.234025  2.158573  2.447420  2.308540   \n",
       "4     1.106542  1.156159  1.624865  1.529945  1.896278  2.230701  2.030820   \n",
       "...        ...       ...       ...       ...       ...       ...       ...   \n",
       "4995  1.062305  1.334715  2.041705  1.726774  1.840788  3.312763  4.021894   \n",
       "4996  1.260304  1.215758  1.065819  1.079690  1.022374  1.251345  1.260001   \n",
       "4997  0.929595  0.949127  0.898873  0.826171  0.900865  1.557373  1.014859   \n",
       "4998  1.120883  1.130130  1.172218  0.976825  1.229116  0.914997  1.839553   \n",
       "4999  1.106089  1.124237  0.819517  1.017212  0.727982  1.153235  1.099583   \n",
       "\n",
       "             8         9        10  \n",
       "0     1.228112  1.185815  0.881699  \n",
       "1     1.424535  1.201187  1.383803  \n",
       "2     0.786315  0.991077  0.820303  \n",
       "3     2.525723  1.380446  1.640206  \n",
       "4     0.926146  1.033307  1.436603  \n",
       "...        ...       ...       ...  \n",
       "4995  1.555676  1.396412  1.521397  \n",
       "4996  2.237750  1.168393  1.003193  \n",
       "4997  1.397761  1.273311  1.282912  \n",
       "4998  0.985813  1.125820  1.333467  \n",
       "4999  0.921227  0.738314  0.911247  \n",
       "\n",
       "[5000 rows x 10 columns]"
      ]
     },
     "execution_count": 108,
     "metadata": {},
     "output_type": "execute_result"
    }
   ],
   "source": [
    "# Expected Covariance in 5 years\n",
    "\n",
    "asset_prices_y5 = np.stack((A1,A2,A3,A4,a5,a6,a7,a8,a9,a10), axis=1)\n",
    "asset_names = ['0','1','2','4','5','6','7','8','9','10']\n",
    "asset_prices_y5_named = pd.DataFrame(asset_prices_y5, columns=asset_names)\n",
    "asset_prices_y5_named"
   ]
  },
  {
   "cell_type": "code",
   "execution_count": 111,
   "id": "6dedc51a",
   "metadata": {},
   "outputs": [
    {
     "data": {
      "image/png": "[encoded data removed]",
      "text/plain": [
       "<Figure size 720x720 with 2 Axes>"
      ]
     },
     "metadata": {},
     "output_type": "display_data"
    }
   ],
   "source": [
    "asset_prices_y5_cov_mat = np.cov(asset_prices_y5_named.values.T)\n",
    "plt.figure(figsize=(10,10))\n",
    "sns.set(font_scale=1.5)\n",
    "hm = sns.heatmap(asset_prices_y5_cov_mat,\n",
    "                 cbar=True,\n",
    "                 annot=True,\n",
    "                 square=True,\n",
    "                 fmt='.2f',\n",
    "                 annot_kws={'size': 12},\n",
    "                 cmap='coolwarm',                 \n",
    "                 yticklabels=asset_names,\n",
    "                 xticklabels=asset_names)\n",
    "plt.title('Covariance matrix showing correlation coefficients', size = 18)\n",
    "plt.tight_layout()\n",
    "plt.show()"
   ]
  },
  {
   "cell_type": "markdown",
   "id": "f11d70de",
   "metadata": {},
   "source": [
    "Asset 5 and 6 are equities and asset 7 private equity so that could make sense"
   ]
  },
  {
   "cell_type": "code",
   "execution_count": 42,
   "id": "e45d8e6d",
   "metadata": {},
   "outputs": [],
   "source": [
    "\"\"\"\n",
    "Buy and hold strategy \n",
    "\"\"\"\n",
    "\n",
    "port_w = np.ones(len(mu)) / len(mu)\n",
    "\n",
    "buy_and_hold_index = asset_prices @ port_w"
   ]
  },
  {
   "cell_type": "code",
   "execution_count": 43,
   "id": "f5eaee47",
   "metadata": {},
   "outputs": [
    {
     "data": {
      "text/plain": [
       "array([[1.        , 1.03696453, 1.01612669, 0.9624774 , 0.9368424 ,\n",
       "        0.9310517 ],\n",
       "       [1.        , 1.1853877 , 1.14357767, 1.20319204, 1.13064779,\n",
       "        1.26027845],\n",
       "       [1.        , 0.88417424, 0.86407753, 0.91263497, 0.91027985,\n",
       "        0.97458917],\n",
       "       ...,\n",
       "       [1.        , 0.99880266, 1.06334057, 1.12257998, 1.11486845,\n",
       "        1.10308472],\n",
       "       [1.        , 0.99775177, 1.09885319, 1.06872963, 1.25012875,\n",
       "        1.18288215],\n",
       "       [1.        , 1.0270269 , 1.07144286, 0.96405872, 0.96875706,\n",
       "        0.96186443]])"
      ]
     },
     "execution_count": 43,
     "metadata": {},
     "output_type": "execute_result"
    }
   ],
   "source": [
    "buy_and_hold_index"
   ]
  },
  {
   "cell_type": "code",
   "execution_count": 44,
   "id": "f35e5f3e",
   "metadata": {},
   "outputs": [
    {
     "data": {
      "text/plain": [
       "(5000, 6)"
      ]
     },
     "execution_count": 44,
     "metadata": {},
     "output_type": "execute_result"
    }
   ],
   "source": [
    "buy_and_hold_index.shape"
   ]
  },
  {
   "cell_type": "code",
   "execution_count": 45,
   "id": "a321bd4c",
   "metadata": {},
   "outputs": [
    {
     "data": {
      "text/html": [
       "<div>\n",
       "<style scoped>\n",
       "    .dataframe tbody tr th:only-of-type {\n",
       "        vertical-align: middle;\n",
       "    }\n",
       "\n",
       "    .dataframe tbody tr th {\n",
       "        vertical-align: top;\n",
       "    }\n",
       "\n",
       "    .dataframe thead th {\n",
       "        text-align: right;\n",
       "    }\n",
       "</style>\n",
       "<table border=\"1\" class=\"dataframe\">\n",
       "  <thead>\n",
       "    <tr style=\"text-align: right;\">\n",
       "      <th></th>\n",
       "      <th>Year 0</th>\n",
       "      <th>Year 1</th>\n",
       "      <th>Year 2</th>\n",
       "      <th>Year 3</th>\n",
       "      <th>Year 4</th>\n",
       "      <th>Year 5</th>\n",
       "    </tr>\n",
       "  </thead>\n",
       "  <tbody>\n",
       "    <tr>\n",
       "      <th>0</th>\n",
       "      <td>1.0</td>\n",
       "      <td>1.036965</td>\n",
       "      <td>1.016127</td>\n",
       "      <td>0.962477</td>\n",
       "      <td>0.936842</td>\n",
       "      <td>0.931052</td>\n",
       "    </tr>\n",
       "    <tr>\n",
       "      <th>1</th>\n",
       "      <td>1.0</td>\n",
       "      <td>1.185388</td>\n",
       "      <td>1.143578</td>\n",
       "      <td>1.203192</td>\n",
       "      <td>1.130648</td>\n",
       "      <td>1.260278</td>\n",
       "    </tr>\n",
       "    <tr>\n",
       "      <th>2</th>\n",
       "      <td>1.0</td>\n",
       "      <td>0.884174</td>\n",
       "      <td>0.864078</td>\n",
       "      <td>0.912635</td>\n",
       "      <td>0.910280</td>\n",
       "      <td>0.974589</td>\n",
       "    </tr>\n",
       "    <tr>\n",
       "      <th>3</th>\n",
       "      <td>1.0</td>\n",
       "      <td>1.049872</td>\n",
       "      <td>1.167875</td>\n",
       "      <td>1.268978</td>\n",
       "      <td>1.600078</td>\n",
       "      <td>1.698596</td>\n",
       "    </tr>\n",
       "    <tr>\n",
       "      <th>4</th>\n",
       "      <td>1.0</td>\n",
       "      <td>0.931174</td>\n",
       "      <td>1.107885</td>\n",
       "      <td>1.208757</td>\n",
       "      <td>1.462804</td>\n",
       "      <td>1.497137</td>\n",
       "    </tr>\n",
       "    <tr>\n",
       "      <th>...</th>\n",
       "      <td>...</td>\n",
       "      <td>...</td>\n",
       "      <td>...</td>\n",
       "      <td>...</td>\n",
       "      <td>...</td>\n",
       "      <td>...</td>\n",
       "    </tr>\n",
       "    <tr>\n",
       "      <th>4995</th>\n",
       "      <td>1.0</td>\n",
       "      <td>1.029452</td>\n",
       "      <td>1.082143</td>\n",
       "      <td>1.471884</td>\n",
       "      <td>1.634144</td>\n",
       "      <td>1.981443</td>\n",
       "    </tr>\n",
       "    <tr>\n",
       "      <th>4996</th>\n",
       "      <td>1.0</td>\n",
       "      <td>0.923105</td>\n",
       "      <td>0.941635</td>\n",
       "      <td>0.953589</td>\n",
       "      <td>1.089534</td>\n",
       "      <td>1.256463</td>\n",
       "    </tr>\n",
       "    <tr>\n",
       "      <th>4997</th>\n",
       "      <td>1.0</td>\n",
       "      <td>0.998803</td>\n",
       "      <td>1.063341</td>\n",
       "      <td>1.122580</td>\n",
       "      <td>1.114868</td>\n",
       "      <td>1.103085</td>\n",
       "    </tr>\n",
       "    <tr>\n",
       "      <th>4998</th>\n",
       "      <td>1.0</td>\n",
       "      <td>0.997752</td>\n",
       "      <td>1.098853</td>\n",
       "      <td>1.068730</td>\n",
       "      <td>1.250129</td>\n",
       "      <td>1.182882</td>\n",
       "    </tr>\n",
       "    <tr>\n",
       "      <th>4999</th>\n",
       "      <td>1.0</td>\n",
       "      <td>1.027027</td>\n",
       "      <td>1.071443</td>\n",
       "      <td>0.964059</td>\n",
       "      <td>0.968757</td>\n",
       "      <td>0.961864</td>\n",
       "    </tr>\n",
       "  </tbody>\n",
       "</table>\n",
       "<p>5000 rows × 6 columns</p>\n",
       "</div>"
      ],
      "text/plain": [
       "      Year 0    Year 1    Year 2    Year 3    Year 4    Year 5\n",
       "0        1.0  1.036965  1.016127  0.962477  0.936842  0.931052\n",
       "1        1.0  1.185388  1.143578  1.203192  1.130648  1.260278\n",
       "2        1.0  0.884174  0.864078  0.912635  0.910280  0.974589\n",
       "3        1.0  1.049872  1.167875  1.268978  1.600078  1.698596\n",
       "4        1.0  0.931174  1.107885  1.208757  1.462804  1.497137\n",
       "...      ...       ...       ...       ...       ...       ...\n",
       "4995     1.0  1.029452  1.082143  1.471884  1.634144  1.981443\n",
       "4996     1.0  0.923105  0.941635  0.953589  1.089534  1.256463\n",
       "4997     1.0  0.998803  1.063341  1.122580  1.114868  1.103085\n",
       "4998     1.0  0.997752  1.098853  1.068730  1.250129  1.182882\n",
       "4999     1.0  1.027027  1.071443  0.964059  0.968757  0.961864\n",
       "\n",
       "[5000 rows x 6 columns]"
      ]
     },
     "execution_count": 45,
     "metadata": {},
     "output_type": "execute_result"
    }
   ],
   "source": [
    "# Presentation of portfolio return data\n",
    "\n",
    "buy_and_hold_index_table = pd.DataFrame(buy_and_hold_index, columns=col_names)\n",
    "buy_and_hold_index_table"
   ]
  },
  {
   "cell_type": "code",
   "execution_count": 46,
   "id": "1de2ab3f",
   "metadata": {},
   "outputs": [
    {
     "ename": "NameError",
     "evalue": "name 'fan_chart' is not defined",
     "output_type": "error",
     "traceback": [
      "\u001b[0;31m---------------------------------------------------------------------------\u001b[0m",
      "\u001b[0;31mNameError\u001b[0m                                 Traceback (most recent call last)",
      "Input \u001b[0;32mIn [46]\u001b[0m, in \u001b[0;36m<cell line: 11>\u001b[0;34m()\u001b[0m\n\u001b[1;32m      5\u001b[0m \u001b[38;5;124;03m\"\"\"\u001b[39;00m\n\u001b[1;32m      6\u001b[0m \u001b[38;5;124;03mPlot fan chart\u001b[39;00m\n\u001b[1;32m      7\u001b[0m \u001b[38;5;124;03m\"\"\"\u001b[39;00m\n\u001b[1;32m      9\u001b[0m fig, ax \u001b[38;5;241m=\u001b[39m plt\u001b[38;5;241m.\u001b[39msubplots(\u001b[38;5;241m1\u001b[39m, \u001b[38;5;241m2\u001b[39m, figsize\u001b[38;5;241m=\u001b[39m(\u001b[38;5;241m16\u001b[39m, \u001b[38;5;241m6\u001b[39m))\n\u001b[0;32m---> 11\u001b[0m \u001b[43mfan_chart\u001b[49m(time_points,\n\u001b[1;32m     12\u001b[0m           percentiles_buy_and_hold,\n\u001b[1;32m     13\u001b[0m           color\u001b[38;5;241m=\u001b[39mdefault_colors[\u001b[38;5;124m'\u001b[39m\u001b[38;5;124mcyan\u001b[39m\u001b[38;5;124m'\u001b[39m],\n\u001b[1;32m     14\u001b[0m           color_median\u001b[38;5;241m=\u001b[39mdefault_colors[\u001b[38;5;124m'\u001b[39m\u001b[38;5;124mdark_blue\u001b[39m\u001b[38;5;124m'\u001b[39m],\n\u001b[1;32m     15\u001b[0m           labels\u001b[38;5;241m=\u001b[39m[\u001b[38;5;124m'\u001b[39m\u001b[38;5;124m99\u001b[39m\u001b[38;5;124m%\u001b[39m\u001b[38;5;124m CI\u001b[39m\u001b[38;5;124m'\u001b[39m, \u001b[38;5;124m'\u001b[39m\u001b[38;5;124m98\u001b[39m\u001b[38;5;124m%\u001b[39m\u001b[38;5;124m CI\u001b[39m\u001b[38;5;124m'\u001b[39m, \u001b[38;5;124m'\u001b[39m\u001b[38;5;124m95\u001b[39m\u001b[38;5;124m%\u001b[39m\u001b[38;5;124m CI\u001b[39m\u001b[38;5;124m'\u001b[39m, \u001b[38;5;124m'\u001b[39m\u001b[38;5;124m90\u001b[39m\u001b[38;5;124m%\u001b[39m\u001b[38;5;124m CI\u001b[39m\u001b[38;5;124m'\u001b[39m, \u001b[38;5;124m'\u001b[39m\u001b[38;5;124m80\u001b[39m\u001b[38;5;124m%\u001b[39m\u001b[38;5;124m CI\u001b[39m\u001b[38;5;124m'\u001b[39m, \u001b[38;5;124m'\u001b[39m\u001b[38;5;124mMedian\u001b[39m\u001b[38;5;124m'\u001b[39m],\n\u001b[1;32m     16\u001b[0m           ax\u001b[38;5;241m=\u001b[39max[\u001b[38;5;241m0\u001b[39m])\n\u001b[1;32m     18\u001b[0m ax[\u001b[38;5;241m0\u001b[39m]\u001b[38;5;241m.\u001b[39mset_xlabel(\u001b[38;5;124m\"\u001b[39m\u001b[38;5;124mYear\u001b[39m\u001b[38;5;124m\"\u001b[39m, size\u001b[38;5;241m=\u001b[39m\u001b[38;5;241m15\u001b[39m)\n\u001b[1;32m     19\u001b[0m ax[\u001b[38;5;241m0\u001b[39m]\u001b[38;5;241m.\u001b[39mset_ylabel(\u001b[38;5;124m\"\u001b[39m\u001b[38;5;124mIndex value\u001b[39m\u001b[38;5;124m\"\u001b[39m, size\u001b[38;5;241m=\u001b[39m\u001b[38;5;241m15\u001b[39m)\n",
      "\u001b[0;31mNameError\u001b[0m: name 'fan_chart' is not defined"
     ]
    },
    {
     "data": {
      "image/png": "[encoded data removed]",
      "text/plain": [
       "<Figure size 1152x432 with 2 Axes>"
      ]
     },
     "metadata": {
      "needs_background": "light"
     },
     "output_type": "display_data"
    }
   ],
   "source": [
    "# calculate percentiles\n",
    "percentiles_buy_and_hold = np.percentile(buy_and_hold_index, [0.5, 1.0, 2.5, 5, 10, 50, 90, 95, 97.5, 99.0, 99.5],\n",
    "                                         axis=0)\n",
    "\n",
    "\"\"\"\n",
    "Plot fan chart\n",
    "\"\"\"\n",
    "\n",
    "fig, ax = plt.subplots(1, 2, figsize=(16, 6))\n",
    "\n",
    "fan_chart(time_points,\n",
    "          percentiles_buy_and_hold,\n",
    "          color=default_colors['cyan'],\n",
    "          color_median=default_colors['dark_blue'],\n",
    "          labels=['99% CI', '98% CI', '95% CI', '90% CI', '80% CI', 'Median'],\n",
    "          ax=ax[0])\n",
    "\n",
    "ax[0].set_xlabel(\"Year\", size=15)\n",
    "ax[0].set_ylabel(\"Index value\", size=15)\n",
    "ax[0].set_title(\"Buy and Hold\", size=15)\n",
    "ax[0].set_ylim([0.5, 3.0])\n",
    "ax[0].legend(loc='upper center', bbox_to_anchor=(0.5, -0.15), ncol=5, fontsize=12);"
   ]
  },
  {
   "cell_type": "code",
   "execution_count": 47,
   "id": "33e98fd9",
   "metadata": {},
   "outputs": [
    {
     "data": {
      "text/plain": [
       "1.3729274476235944"
      ]
     },
     "execution_count": 47,
     "metadata": {},
     "output_type": "execute_result"
    }
   ],
   "source": [
    "np.mean(buy_and_hold_index[:, 5])"
   ]
  },
  {
   "cell_type": "code",
   "execution_count": 48,
   "id": "396f8a11",
   "metadata": {},
   "outputs": [
    {
     "data": {
      "text/plain": [
       "1.3304575573465829"
      ]
     },
     "execution_count": 48,
     "metadata": {},
     "output_type": "execute_result"
    }
   ],
   "source": [
    "np.median(buy_and_hold_index[:, 5])"
   ]
  },
  {
   "cell_type": "markdown",
   "id": "b18e28fb",
   "metadata": {},
   "source": [
    "Transactions Costs with Asset 5"
   ]
  },
  {
   "cell_type": "code",
   "execution_count": 67,
   "id": "5f918519",
   "metadata": {},
   "outputs": [],
   "source": [
    "# Starting Wealth\n",
    "a0 = 500000"
   ]
  },
  {
   "cell_type": "code",
   "execution_count": 68,
   "id": "71927cf2",
   "metadata": {},
   "outputs": [],
   "source": [
    "# Defining array of prices of all simulations each year for asset 5\n",
    "a5_y0 = asset_prices[:,0:1,4:5]\n",
    "a5_y1 = asset_prices[:,1:2,4:5]\n",
    "a5_y2 = asset_prices[:,2:3,4:5]\n",
    "a5_y3 = asset_prices[:,3:4,4:5]\n",
    "a5_y4 = asset_prices[:,4:5,4:5]\n",
    "a5_y5 = asset_prices[:,5:6,4:5]\n",
    "\n",
    "a5_y0_mean = np.mean(a5_y0)\n",
    "a5_y1_mean = np.mean(a5_y1)\n",
    "a5_y2_mean = np.mean(a5_y2)\n",
    "a5_y3_mean = np.mean(a5_y3)\n",
    "a5_y4_mean = np.mean(a5_y4)\n",
    "a5_y5_mean = np.mean(a5_y5)\n",
    "\n",
    "# Transactions Cost\n",
    "k = 0.02"
   ]
  },
  {
   "cell_type": "code",
   "execution_count": 69,
   "id": "31d95e03",
   "metadata": {},
   "outputs": [],
   "source": [
    "# Defining the \n",
    "a5_y0_cost = (a5_y0_mean*a0-a0)*k\n",
    "a5_y1_cost = (a5_y1_mean*a0-a0)*k\n",
    "a5_y2_cost = (a5_y2_mean*a0-a0)*k\n",
    "a5_y3_cost = (a5_y3_mean*a0-a0)*k\n",
    "a5_y4_cost = (a5_y4_mean*a0-a0)*k\n",
    "a5_y5_cost = (a5_y5_mean*a0-a0)*k"
   ]
  },
  {
   "cell_type": "code",
   "execution_count": 70,
   "id": "b899a125",
   "metadata": {},
   "outputs": [],
   "source": [
    "x = [0,1,2,3,4,5]\n",
    "y = [a5_y0_cost,a5_y1_cost,a5_y2_cost,a5_y3_cost,a5_y4_cost,a5_y5_cost]"
   ]
  },
  {
   "cell_type": "code",
   "execution_count": 71,
   "id": "af23306d",
   "metadata": {},
   "outputs": [
    {
     "data": {
      "text/plain": [
       "Text(0.5, 1.0, 'Transactions Costs as a Function of Returns')"
      ]
     },
     "execution_count": 71,
     "metadata": {},
     "output_type": "execute_result"
    },
    {
     "data": {
      "image/png": "[encoded data removed]",
      "text/plain": [
       "<Figure size 432x288 with 1 Axes>"
      ]
     },
     "metadata": {
      "needs_background": "light"
     },
     "output_type": "display_data"
    }
   ],
   "source": [
    "plt.plot(x,y)\n",
    "plt.xlabel('Years')\n",
    "plt.ylabel('Transactions Costs')\n",
    "plt.title('Transactions Costs as a Function of Returns', fontweight='bold')"
   ]
  },
  {
   "cell_type": "markdown",
   "id": "2ed64946",
   "metadata": {},
   "source": [
    "Utility Function Part"
   ]
  },
  {
   "cell_type": "code",
   "execution_count": null,
   "id": "76e45c8c",
   "metadata": {},
   "outputs": [],
   "source": []
  }
 ],
 "metadata": {
  "kernelspec": {
   "display_name": "Python 3 (ipykernel)",
   "language": "python",
   "name": "python3"
  },
  "language_info": {
   "codemirror_mode": {
    "name": "ipython",
    "version": 3
   },
   "file_extension": ".py",
   "mimetype": "text/x-python",
   "name": "python",
   "nbconvert_exporter": "python",
   "pygments_lexer": "ipython3",
   "version": "3.9.12"
  }
 },
 "nbformat": 4,
 "nbformat_minor": 5
}
