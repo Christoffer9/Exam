{
 "cells": [
  {
   "cell_type": "code",
   "execution_count": 42,
   "id": "179bfcd6",
   "metadata": {
    "pycharm": {
     "name": "#%%\n"
    }
   },
   "outputs": [
    {
     "name": "stdout",
     "output_type": "stream",
     "text": [
      "The autoreload extension is already loaded. To reload it, use:\n",
      "  %reload_ext autoreload\n"
     ]
    }
   ],
   "source": [
    "import sys\n",
    "sys.path.insert(0,'C:\\\\users\\\\alexa\\\\python_for_the_financial_economist\\\\')\n",
    "\n",
    "\"\"\"\n",
    "Magic commands\n",
    "\"\"\"\n",
    "\n",
    "%load_ext autoreload\n",
    "%autoreload 2\n",
    "\n",
    "\"\"\"\n",
    "Load relevant packages\n",
    "\"\"\"\n",
    "\n",
    "import numpy as np\n",
    "import pandas as pd\n",
    "import matplotlib.pyplot as plt\n",
    "import matplotlib.ticker as mtick\n",
    "import seaborn as sns\n",
    "import datetime\n",
    "from scipy import stats\n",
    "from scipy.optimize import minimize\n",
    "from scipy import optimize\n",
    "import matplotlib.ticker as ticker\n",
    "\n",
    "from pandas_datareader.data import DataReader\n",
    "from pandas_datareader.famafrench import FamaFrenchReader, get_available_datasets\n",
    "\n",
    "from typing import Union, Tuple\n",
    "\n",
    "\"\"\"\n",
    "Own packages\n",
    "\"\"\"\n",
    "\n",
    "from codelib.statistics import calculate_cornish_fisher_percentile\n",
    "from codelib.portfolio_optimization.risk_budget import calculate_marginal_risks_std, calculate_risk_contributions_std\n",
    "from codelib.portfolio_optimization.risk_metrics import calculate_normal_cond_value_at_risk, calculate_normal_value_at_risk\n",
    "from codelib.portfolio_optimization.risk_metrics import calculate_normal_port_cond_value_at_risk, calculate_normal_port_value_at_risk\n",
    "from codelib.portfolio_optimization.risk_metrics import calculate_conditional_value_at_risk, calculate_value_at_risk\n",
    "from codelib.portfolio_optimization.risk_budget import calculate_marginal_risks_cvar, calculate_risk_contributions_cvar\n",
    "from codelib.portfolio_optimization.mean_variance import portfolio_mean, portfolio_std, portfolio_variance\n",
    "from codelib.portfolio_optimization.risk_budget import calculate_marginal_risks_std, calculate_risk_contributions_normal_var, calculate_marginal_sharpe\n",
    "from codelib.visualization.base import risk_waterfall_chart\n",
    "from codelib.portfolio_optimization.risk_metrics import drawdown, maxdrawdown\n",
    "\n",
    "from codelib.visualization.base import correlation_plot, fan_chart\n",
    "from codelib.visualization.layout import DefaultStyle, default_colors\n",
    "DefaultStyle();\n",
    "\n",
    "from codelib.statistics.moments import corr_to_cov_matrix, cov_to_corr_matrix\n",
    "from codelib.statistics.robust_covariance import marchencko_pastur_bounds, marchencko_pastur_density, fitting_error, crem_denoised_corr_mat\n",
    "\n",
    "from codelib.visualization.layout import DefaultStyle\n",
    "DefaultStyle();"
   ]
  },
  {
   "cell_type": "code",
   "execution_count": 43,
   "id": "2323a0f8",
   "metadata": {
    "pycharm": {
     "name": "#%%\n"
    }
   },
   "outputs": [
    {
     "data": {
      "text/plain": [
       "array([[ 0.001369 ,  0.001221 ,  0.0004403,  0.0011877, -0.0005661,\n",
       "        -0.0008029, -0.0015096, -0.000518 , -0.0003996, -0.0003478],\n",
       "       [ 0.001221 ,  0.003025 ,  0.003927 ,  0.003531 ,  0.001683 ,\n",
       "         0.002387 ,  0.002244 ,  0.00077  ,  0.000594 ,  0.001551 ],\n",
       "       [ 0.0004403,  0.003927 ,  0.014161 ,  0.0089131,  0.0127449,\n",
       "         0.0154938,  0.0145656,  0.006664 ,  0.0038556,  0.0078302],\n",
       "       [ 0.0011877,  0.003531 ,  0.0089131,  0.011449 ,  0.0081855,\n",
       "         0.0139314,  0.0087312,  0.002996 ,  0.0023112,  0.005029 ],\n",
       "       [-0.0005661,  0.001683 ,  0.0127449,  0.0081855,  0.023409 ,\n",
       "         0.0232407,  0.0249696,  0.008568 ,  0.0066096,  0.0115056],\n",
       "       [-0.0008029,  0.002387 ,  0.0154938,  0.0139314,  0.0232407,\n",
       "         0.047089 ,  0.0309876,  0.012152 ,  0.0093744,  0.0142786],\n",
       "       [-0.0015096,  0.002244 ,  0.0145656,  0.0087312,  0.0249696,\n",
       "         0.0309876,  0.041616 ,  0.011424 ,  0.0088128,  0.0134232],\n",
       "       [-0.000518 ,  0.00077  ,  0.006664 ,  0.002996 ,  0.008568 ,\n",
       "         0.012152 ,  0.011424 ,  0.0196   ,  0.004536 ,  0.005264 ],\n",
       "       [-0.0003996,  0.000594 ,  0.0038556,  0.0023112,  0.0066096,\n",
       "         0.0093744,  0.0088128,  0.004536 ,  0.011664 ,  0.0040608],\n",
       "       [-0.0003478,  0.001551 ,  0.0078302,  0.005029 ,  0.0115056,\n",
       "         0.0142786,  0.0134232,  0.005264 ,  0.0040608,  0.008836 ]])"
      ]
     },
     "execution_count": 43,
     "metadata": {},
     "output_type": "execute_result"
    }
   ],
   "source": [
    "\"\"\"\n",
    "Question 2\n",
    "\"\"\"\n",
    "\n",
    "# Covariance Matrix\n",
    "\n",
    "vols = np.array([0.037, 0.055, 0.119, 0.107, 0.153, 0.217, 0.204, 0.14, 0.108, 0.094])\n",
    "corr_mat = np.array([[1.0, 0.6, 0.1, 0.3, -0.1, -0.1, -0.2, -0.1, -0.1, -0.1],\n",
    "                     [0.6, 1.0, 0.6, 0.6, 0.2, 0.2, 0.2, 0.1, 0.1, 0.3],\n",
    "                     [0.1, 0.6, 1.0, 0.7, 0.7, 0.6, 0.6, 0.4, 0.3, 0.7],\n",
    "                     [0.3, 0.6, 0.7, 1.0, 0.5, 0.6, 0.4, 0.2, 0.2, 0.5],\n",
    "                     [-0.1, 0.2, 0.7, 0.5, 1.0, 0.7, 0.8, 0.4, 0.4, 0.8],\n",
    "                     [-0.1, 0.2, 0.6, 0.6, 0.7, 1.0, 0.7, 0.4, 0.4, 0.7],\n",
    "                     [-0.2, 0.2, 0.6, 0.4, 0.8, 0.7, 1.0, 0.4, 0.4, 0.7],\n",
    "                     [-0.1, 0.1, 0.4, 0.2, 0.4, 0.4, 0.4, 1.0, 0.3, 0.4],\n",
    "                     [-0.1, 0.1, 0.3, 0.2, 0.4, 0.4, 0.4, 0.3, 1.0, 0.4],\n",
    "                     [-0.1, 0.3, 0.7, 0.5, 0.8, 0.7, 0.7, 0.4, 0.4, 1.0]])\n",
    "\n",
    "cov_mat = np.outer(vols, vols) * corr_mat\n",
    "cov_mat"
   ]
  },
  {
   "cell_type": "code",
   "execution_count": 44,
   "id": "d5050b98",
   "metadata": {
    "pycharm": {
     "name": "#%%\n"
    }
   },
   "outputs": [],
   "source": [
    "# Mean\n",
    "\n",
    "mu = np.array([0.019, 0.022, 0.049, 0.043, 0.061, 0.083, 0.102, 0.056, 0.041, 0.038])-0.5*np.diag(cov_mat)"
   ]
  },
  {
   "cell_type": "code",
   "execution_count": 45,
   "id": "fba9e110",
   "metadata": {
    "pycharm": {
     "name": "#%%\n"
    }
   },
   "outputs": [],
   "source": [
    "# Defining a Function that Simulates Asset Prices\n",
    "\n",
    "def simulate_asset_prices(mu: np.ndarray, cov_mat: np.ndarray,\n",
    "                          horizon: float, dt: float, num_sim: int,\n",
    "                          transform_input: bool=False) -> np.ndarray:\n",
    "    \n",
    "    \"\"\"\n",
    "    Simulates asset prices\n",
    "    \n",
    "    Parameters\n",
    "    ----------\n",
    "    mu: \n",
    "        Expected log-returns. \n",
    "    cov_mat: \n",
    "        Covariance matrix of log-returns. \n",
    "    horizon: \n",
    "        Simulation horizon in years. \n",
    "    dt: \n",
    "        Time step. \n",
    "    num_sim: \n",
    "        Number of simulations. \n",
    "    transform_input: \n",
    "        Boolean indicating whether to transform mu and cov_mat to time_step. \n",
    "    \n",
    "    \n",
    "    Returns\n",
    "    -------\n",
    "    np.ndarray\n",
    "        Simulated asset prices  [num sim x num time steps x num_assets]. \n",
    "    \n",
    "    \n",
    "    \"\"\"\n",
    "    \n",
    "    if transform_input:\n",
    "        mu = mu * dt\n",
    "        cov_mat = cov_mat * dt\n",
    "        \n",
    "    num_assets = len(mu)\n",
    "    \n",
    "    num_periods = int(horizon / dt)\n",
    "    \n",
    "    # allocate memory\n",
    "    asset_prices = np.ones((num_sim, 1 + num_periods, num_assets))\n",
    "    \n",
    "    # simulate returns\n",
    "    log_ret = np.random.multivariate_normal(mu, cov_mat, size=(num_sim, num_periods))\n",
    "    \n",
    "    # transform returns to asset prices\n",
    "    asset_prices[:, 1:, :] = np.exp(np.cumsum(log_ret, axis=1))\n",
    "    \n",
    "    return asset_prices"
   ]
  },
  {
   "cell_type": "code",
   "execution_count": 46,
   "id": "4352ed58",
   "metadata": {
    "pycharm": {
     "name": "#%%\n"
    }
   },
   "outputs": [],
   "source": [
    "# Simulate Asset Prices\n",
    "\n",
    "num_sim = 5000\n",
    "dt = 1.0\n",
    "horizon = 5.0\n",
    "mu = mu\n",
    "cov_mat = cov_mat\n",
    "\n",
    "time_points = np.arange(0.0, horizon + 0.01, dt)\n",
    "asset_prices = simulate_asset_prices(mu, cov_mat, horizon, dt, num_sim)"
   ]
  },
  {
   "cell_type": "code",
   "execution_count": 47,
   "id": "3b2a3b33",
   "metadata": {
    "pycharm": {
     "name": "#%%\n"
    }
   },
   "outputs": [],
   "source": [
    "# Isolating Simulated Prices In Year 5 For Each Asset\n",
    "\n",
    "asset_0 = asset_prices[:,5:6,:1]\n",
    "asset_1 = asset_prices[:,5:6,:1]\n",
    "asset_2 = asset_prices[:,5:6,1:2]\n",
    "asset_3 = asset_prices[:,5:6,2:3]\n",
    "asset_4 = asset_prices[:,5:6,3:4]\n",
    "asset_5 = asset_prices[:,5:6,4:5]\n",
    "asset_6 = asset_prices[:,5:6,5:6]\n",
    "asset_7 = asset_prices[:,5:6,6:7]\n",
    "asset_8 = asset_prices[:,5:6,7:8]\n",
    "asset_9 = asset_prices[:,5:6,8:9]\n",
    "asset_10 = asset_prices[:,5:6,9:10]\n",
    "\n",
    "A0 = asset_0[:,0,0]\n",
    "A1 = asset_1[:,0,0]\n",
    "A2 = asset_2[:,0,0]\n",
    "A3 = asset_3[:,0,0]\n",
    "A4 = asset_4[:,0,0]\n",
    "a5 = asset_5[:,0,0]\n",
    "a6 = asset_6[:,0,0]\n",
    "a7 = asset_7[:,0,0]\n",
    "a8 = asset_8[:,0,0]\n",
    "a9 = asset_9[:,0,0]\n",
    "a10 = asset_10[:,0,0]\n",
    "\n",
    "price_distribution = [A0, A1,A2,A3,A4,a5,a6,a7,a8,a9,a10]"
   ]
  },
  {
   "cell_type": "code",
   "execution_count": 48,
   "id": "cf085934",
   "metadata": {
    "pycharm": {
     "name": "#%%\n"
    }
   },
   "outputs": [
    {
     "data": {
      "text/plain": [
       "Text(0, 0.5, 'Prices')"
      ]
     },
     "execution_count": 48,
     "metadata": {},
     "output_type": "execute_result"
    },
    {
     "data": {
      "image/png": "[encoded data removed]",
      "text/plain": [
       "<Figure size 864x576 with 1 Axes>"
      ]
     },
     "metadata": {},
     "output_type": "display_data"
    }
   ],
   "source": [
    "# Plotting the Price Distribution of Each Asset In Year 5\n",
    "\n",
    "sns.set(rc={'figure.figsize':(12,8)})\n",
    "ax = sns.boxplot(data=price_distribution)\n",
    "ax.set_xlim(0.5,10.5)\n",
    "ax.set_title('Price Distributions', fontsize=14, fontweight='bold')\n",
    "ax.set_xlabel('Assets')\n",
    "ax.set_ylabel('Prices')"
   ]
  },
  {
   "cell_type": "code",
   "execution_count": 49,
   "id": "7b2cc7c6",
   "metadata": {
    "pycharm": {
     "name": "#%%\n"
    }
   },
   "outputs": [
    {
     "data": {
      "text/plain": [
       "6498462.303796251"
      ]
     },
     "execution_count": 49,
     "metadata": {},
     "output_type": "execute_result"
    }
   ],
   "source": [
    "# Expected Value of Portfolio in Year 5\n",
    "\n",
    "\"\"\" Starting Value of Each Asset Holding \"\"\"\n",
    "\n",
    "a0 = 500000\n",
    "\n",
    "\"\"\" Expected Value \"\"\"\n",
    "\n",
    "E_a1 = np.mean(asset_1)*a0\n",
    "E_a2 = np.mean(asset_2)*a0\n",
    "E_a3 = np.mean(asset_3)*a0\n",
    "E_a4 = np.mean(asset_4)*a0\n",
    "E_a5 = np.mean(asset_5)*a0\n",
    "E_a6 = np.mean(asset_6)*a0\n",
    "E_a7 = np.mean(asset_7)*a0\n",
    "E_a8 = np.mean(asset_8)*a0\n",
    "E_a9 = np.mean(asset_9)*a0\n",
    "E_a10 = np.mean(asset_10)*a0\n",
    "\n",
    "expected_portfolio_value = [E_a1,E_a2,E_a3,E_a4,E_a5,E_a6,E_a7,E_a8,E_a9,E_a10]\n",
    "sum(expected_portfolio_value)"
   ]
  },
  {
   "cell_type": "code",
   "execution_count": 50,
   "id": "689262c1",
   "metadata": {
    "pycharm": {
     "name": "#%%\n"
    }
   },
   "outputs": [
    {
     "data": {
      "text/html": [
       "<div>\n",
       "<style scoped>\n",
       "    .dataframe tbody tr th:only-of-type {\n",
       "        vertical-align: middle;\n",
       "    }\n",
       "\n",
       "    .dataframe tbody tr th {\n",
       "        vertical-align: top;\n",
       "    }\n",
       "\n",
       "    .dataframe thead th {\n",
       "        text-align: right;\n",
       "    }\n",
       "</style>\n",
       "<table border=\"1\" class=\"dataframe\">\n",
       "  <thead>\n",
       "    <tr style=\"text-align: right;\">\n",
       "      <th></th>\n",
       "      <th>0</th>\n",
       "    </tr>\n",
       "  </thead>\n",
       "  <tbody>\n",
       "    <tr>\n",
       "      <th>0</th>\n",
       "      <td>550040.917710</td>\n",
       "    </tr>\n",
       "    <tr>\n",
       "      <th>1</th>\n",
       "      <td>558683.345431</td>\n",
       "    </tr>\n",
       "    <tr>\n",
       "      <th>2</th>\n",
       "      <td>639149.416536</td>\n",
       "    </tr>\n",
       "    <tr>\n",
       "      <th>3</th>\n",
       "      <td>621704.656852</td>\n",
       "    </tr>\n",
       "    <tr>\n",
       "      <th>4</th>\n",
       "      <td>673084.540604</td>\n",
       "    </tr>\n",
       "    <tr>\n",
       "      <th>5</th>\n",
       "      <td>752410.690993</td>\n",
       "    </tr>\n",
       "    <tr>\n",
       "      <th>6</th>\n",
       "      <td>830659.288303</td>\n",
       "    </tr>\n",
       "    <tr>\n",
       "      <th>7</th>\n",
       "      <td>656814.641683</td>\n",
       "    </tr>\n",
       "    <tr>\n",
       "      <th>8</th>\n",
       "      <td>612445.778004</td>\n",
       "    </tr>\n",
       "    <tr>\n",
       "      <th>9</th>\n",
       "      <td>603469.027680</td>\n",
       "    </tr>\n",
       "  </tbody>\n",
       "</table>\n",
       "</div>"
      ],
      "text/plain": [
       "               0\n",
       "0  550040.917710\n",
       "1  558683.345431\n",
       "2  639149.416536\n",
       "3  621704.656852\n",
       "4  673084.540604\n",
       "5  752410.690993\n",
       "6  830659.288303\n",
       "7  656814.641683\n",
       "8  612445.778004\n",
       "9  603469.027680"
      ]
     },
     "execution_count": 50,
     "metadata": {},
     "output_type": "execute_result"
    }
   ],
   "source": [
    "# Expected Value of Assets in Year 5\n",
    "\n",
    "expected_portfolio_value = [E_a1,E_a2,E_a3,E_a4,E_a5,E_a6,E_a7,E_a8,E_a9,E_a10]\n",
    "expected_asset_value = pd.DataFrame(expected_portfolio_value)\n",
    "expected_asset_value"
   ]
  },
  {
   "cell_type": "code",
   "execution_count": 51,
   "id": "8f78e68f",
   "metadata": {
    "pycharm": {
     "name": "#%%\n"
    }
   },
   "outputs": [
    {
     "data": {
      "text/plain": [
       "array([[ 0.00834515,  0.00773093,  0.00352739,  0.00860978, -0.00363997,\n",
       "        -0.00651007, -0.01286213, -0.0031054 , -0.00199341, -0.00199559],\n",
       "       [ 0.00773093,  0.01896641,  0.02799606,  0.02494661,  0.01278147,\n",
       "         0.01844675,  0.02175705,  0.00523145,  0.00433601,  0.01032978],\n",
       "       [ 0.00352739,  0.02799606,  0.11705254,  0.07197333,  0.10729829,\n",
       "         0.14629758,  0.15386199,  0.05505087,  0.02863524,  0.05984539],\n",
       "       [ 0.00860978,  0.02494661,  0.07197333,  0.09221734,  0.06789002,\n",
       "         0.13078076,  0.08922144,  0.02463161,  0.01711576,  0.0380407 ],\n",
       "       [-0.00363997,  0.01278147,  0.10729829,  0.06789002,  0.21248601,\n",
       "         0.23920985,  0.28493445,  0.07893145,  0.05151793,  0.09350079],\n",
       "       [-0.00651007,  0.01844675,  0.14629758,  0.13078076,  0.23920985,\n",
       "         0.58327375,  0.40845555,  0.12110035,  0.08314913,  0.13231036],\n",
       "       [-0.01286213,  0.02175705,  0.15386199,  0.08922144,  0.28493445,\n",
       "         0.40845555,  0.6335195 ,  0.13106262,  0.08654321,  0.13871189],\n",
       "       [-0.0031054 ,  0.00523145,  0.05505087,  0.02463161,  0.07893145,\n",
       "         0.12110035,  0.13106262,  0.18032697,  0.03478887,  0.04310678],\n",
       "       [-0.00199341,  0.00433601,  0.02863524,  0.01711576,  0.05151793,\n",
       "         0.08314913,  0.08654321,  0.03478887,  0.0849971 ,  0.02949981],\n",
       "       [-0.00199559,  0.01032978,  0.05984539,  0.0380407 ,  0.09350079,\n",
       "         0.13231036,  0.13871189,  0.04310678,  0.02949981,  0.06477815]])"
      ]
     },
     "execution_count": 51,
     "metadata": {},
     "output_type": "execute_result"
    }
   ],
   "source": [
    "# Expected Covariance in 5 years\n",
    "\n",
    "asset_prices_y5 = np.stack((A1,A2,A3,A4,a5,a6,a7,a8,a9,a10), axis=1)\n",
    "asset_names = ['1','2','3','4','5','6','7','8','9','10']\n",
    "asset_prices_y5_named = pd.DataFrame(asset_prices_y5, columns=asset_names)\n",
    "asset_prices_y5_named\n",
    "\n",
    "asset_prices_y5_cov_mat = np.cov(asset_prices_y5_named.values.T)\n",
    "asset_prices_y5_cov_mat"
   ]
  },
  {
   "cell_type": "code",
   "execution_count": 52,
   "id": "ff9949bf",
   "metadata": {
    "pycharm": {
     "name": "#%%\n"
    }
   },
   "outputs": [],
   "source": [
    "asset_wealth_y5 = asset_prices_y5*a0"
   ]
  },
  {
   "cell_type": "code",
   "execution_count": 71,
   "id": "a640f075",
   "metadata": {
    "pycharm": {
     "name": "#%%\n"
    }
   },
   "outputs": [
    {
     "data": {
      "text/plain": [
       "Text(0, 0.5, 'Wealth (mio. Eur)')"
      ]
     },
     "execution_count": 71,
     "metadata": {},
     "output_type": "execute_result"
    },
    {
     "data": {
      "image/png": "[encoded data removed]",
      "text/plain": [
       "<Figure size 864x576 with 1 Axes>"
      ]
     },
     "metadata": {},
     "output_type": "display_data"
    }
   ],
   "source": [
    "# Define The Expected Distribution of Wealth in 5 Years\n",
    "\n",
    "w_a1 = A1*a0\n",
    "w_a2 = A2*a0\n",
    "w_a3 = A3*a0\n",
    "w_a4 = A4*a0\n",
    "w_a5 = a5*a0\n",
    "w_a6 = a6*a0\n",
    "w_a7 = a7*a0\n",
    "w_a8 = a8*a0\n",
    "w_a9 = a9*a0\n",
    "w_a10 = a10*a0\n",
    "\n",
    "wealth_dist = np.stack((w_a1,w_a2,w_a3,w_a4,w_a5,w_a6,w_a7,w_a8,w_a9,w_a10), axis = 0)\n",
    "\n",
    "sns.set(rc={'figure.figsize':(12,8)})\n",
    "ax = sns.boxplot(data=wealth_dist)\n",
    "ax.set_xlim(0.5,10.5)\n",
    "ax.set_ylim(0,2000000)\n",
    "ax.set_title('Welath Distributions', fontsize=14, fontweight='bold')\n",
    "ax.set_xlabel('Assets')\n",
    "ax.set_ylabel('Wealth (mio. Eur)')"
   ]
  },
  {
   "cell_type": "code",
   "execution_count": 54,
   "id": "e6e6d53f",
   "metadata": {
    "pycharm": {
     "name": "#%%\n"
    }
   },
   "outputs": [
    {
     "data": {
      "text/plain": [
       "(5000, 6)"
      ]
     },
     "execution_count": 54,
     "metadata": {},
     "output_type": "execute_result"
    }
   ],
   "source": [
    "# Buy and hold strategy for equally weighted portfolio\n",
    "\n",
    "port_w = np.ones(10) / 10\n",
    "\n",
    "buy_and_hold_index = asset_prices @ port_w\n",
    "buy_and_hold_index_total = buy_and_hold_index * a0\n",
    "buy_and_hold_index_total.shape"
   ]
  },
  {
   "cell_type": "code",
   "execution_count": 55,
   "id": "926d5b1a",
   "metadata": {
    "pycharm": {
     "name": "#%%\n"
    }
   },
   "outputs": [
    {
     "data": {
      "text/plain": [
       "(5000, 6)"
      ]
     },
     "execution_count": 55,
     "metadata": {},
     "output_type": "execute_result"
    }
   ],
   "source": [
    "# Buy and hold strategy for equally weighted portfolio\n",
    "\n",
    "port_w = np.ones(10) / 10\n",
    "\n",
    "buy_and_hold_index = asset_prices @ port_w\n",
    "buy_and_hold_index_total = buy_and_hold_index * a0\n",
    "buy_and_hold_index_total.shape"
   ]
  },
  {
   "cell_type": "code",
   "execution_count": 56,
   "id": "37757a9a",
   "metadata": {
    "pycharm": {
     "name": "#%%\n"
    }
   },
   "outputs": [
    {
     "data": {
      "image/png": "[encoded data removed]",
      "text/plain": [
       "<Figure size 1152x432 with 2 Axes>"
      ]
     },
     "metadata": {},
     "output_type": "display_data"
    }
   ],
   "source": [
    "# calculate percentiles\n",
    "\n",
    "percentiles_buy_and_hold = np.percentile(buy_and_hold_index, [0.5, 1.0, 2.5, 5, 10, 50, 90, 95, 97.5, 99.0, 99.5],\n",
    "                                         axis=0)\n",
    "\"\"\"\n",
    "Plot fan chart\n",
    "\"\"\"\n",
    "\n",
    "fig, ax = plt.subplots(1,2, figsize=(16, 6))\n",
    "\n",
    "fan_chart(time_points,\n",
    "          percentiles_buy_and_hold,\n",
    "          color=default_colors['cyan'],\n",
    "          color_median=default_colors['dark_blue'],\n",
    "          labels=['99% CI', '98% CI', '95% CI', '90% CI', '80% CI', 'Median'],\n",
    "          ax=ax[0])\n",
    "\n",
    "ax[0].set_xlabel(\"Year\", size=15)\n",
    "ax[0].set_ylabel(\"Index value\", size=15)\n",
    "ax[0].set_title(\"Buy and Hold\", size=15)\n",
    "ax[0].set_ylim([0.5, 3.0])\n",
    "ax[0].legend(loc='upper center', bbox_to_anchor=(0.5, -0.15), ncol=5, fontsize=12);"
   ]
  },
  {
   "cell_type": "code",
   "execution_count": 57,
   "id": "12f59400",
   "metadata": {
    "pycharm": {
     "name": "#%%\n"
    }
   },
   "outputs": [],
   "source": [
    "# Starting Wealth\n",
    "\n",
    "a0 = 500000"
   ]
  },
  {
   "cell_type": "code",
   "execution_count": 58,
   "id": "f68e7e64",
   "metadata": {
    "pycharm": {
     "name": "#%%\n"
    }
   },
   "outputs": [],
   "source": [
    "# Defining array of prices of all simulations each year for asset 5\n",
    "\n",
    "a5_y0 = asset_prices[:,0:1,4:5]\n",
    "a5_y1 = asset_prices[:,1:2,4:5]\n",
    "a5_y2 = asset_prices[:,2:3,4:5]\n",
    "a5_y3 = asset_prices[:,3:4,4:5]\n",
    "a5_y4 = asset_prices[:,4:5,4:5]\n",
    "a5_y5 = asset_prices[:,5:6,4:5]\n",
    "\n",
    "a5_y0_mean = np.mean(a5_y0)\n",
    "a5_y1_mean = np.mean(a5_y1)\n",
    "a5_y2_mean = np.mean(a5_y2)\n",
    "a5_y3_mean = np.mean(a5_y3)\n",
    "a5_y4_mean = np.mean(a5_y4)\n",
    "a5_y5_mean = np.mean(a5_y5)\n",
    "\n",
    "# Transactions Cost\n",
    "\n",
    "k = 0.02"
   ]
  },
  {
   "cell_type": "code",
   "execution_count": 59,
   "id": "894df90f",
   "metadata": {
    "pycharm": {
     "name": "#%%\n"
    }
   },
   "outputs": [],
   "source": [
    "# Defining The Total Cost Each Year Given The Absolut Return\n",
    "\n",
    "a5_y0_cost = (a5_y0_mean*a0-a0)*k\n",
    "a5_y1_cost = (a5_y1_mean*a0-a0)*k\n",
    "a5_y2_cost = (a5_y2_mean*a0-a0)*k\n",
    "a5_y3_cost = (a5_y3_mean*a0-a0)*k\n",
    "a5_y4_cost = (a5_y4_mean*a0-a0)*k\n",
    "a5_y5_cost = (a5_y5_mean*a0-a0)*k"
   ]
  },
  {
   "cell_type": "code",
   "execution_count": 60,
   "id": "9d723950",
   "metadata": {
    "pycharm": {
     "name": "#%%\n"
    }
   },
   "outputs": [
    {
     "data": {
      "text/plain": [
       "Text(0.5, 1.0, 'Transactions Costs as a Function of Returns')"
      ]
     },
     "execution_count": 60,
     "metadata": {},
     "output_type": "execute_result"
    },
    {
     "data": {
      "image/png": "[encoded data removed]",
      "text/plain": [
       "<Figure size 864x576 with 1 Axes>"
      ]
     },
     "metadata": {},
     "output_type": "display_data"
    }
   ],
   "source": [
    "# Plotting The Linear Function of Transactions Costs\n",
    "\n",
    "x = [0,1,2,3,4,5]\n",
    "y = [a5_y0_cost,a5_y1_cost,a5_y2_cost,a5_y3_cost,a5_y4_cost,a5_y5_cost]\n",
    "\n",
    "plt.plot(x,y)\n",
    "plt.xlabel('Years')\n",
    "plt.ylabel('Transactions Costs')\n",
    "plt.title('Transactions Costs as a Function of Returns', fontweight='bold')"
   ]
  },
  {
   "cell_type": "code",
   "execution_count": 61,
   "id": "8305749e",
   "metadata": {
    "pycharm": {
     "name": "#%%\n"
    }
   },
   "outputs": [
    {
     "data": {
      "text/html": [
       "<div>\n",
       "<style scoped>\n",
       "    .dataframe tbody tr th:only-of-type {\n",
       "        vertical-align: middle;\n",
       "    }\n",
       "\n",
       "    .dataframe tbody tr th {\n",
       "        vertical-align: top;\n",
       "    }\n",
       "\n",
       "    .dataframe thead th {\n",
       "        text-align: right;\n",
       "    }\n",
       "</style>\n",
       "<table border=\"1\" class=\"dataframe\">\n",
       "  <thead>\n",
       "    <tr style=\"text-align: right;\">\n",
       "      <th></th>\n",
       "      <th>Year 0</th>\n",
       "      <th>Year 1</th>\n",
       "      <th>Year 2</th>\n",
       "      <th>Year 3</th>\n",
       "      <th>Year 4</th>\n",
       "      <th>Year 5</th>\n",
       "    </tr>\n",
       "  </thead>\n",
       "  <tbody>\n",
       "    <tr>\n",
       "      <th>0</th>\n",
       "      <td>1.0</td>\n",
       "      <td>1.093801</td>\n",
       "      <td>0.979147</td>\n",
       "      <td>0.952469</td>\n",
       "      <td>0.970635</td>\n",
       "      <td>0.998524</td>\n",
       "    </tr>\n",
       "    <tr>\n",
       "      <th>1</th>\n",
       "      <td>1.0</td>\n",
       "      <td>1.060510</td>\n",
       "      <td>1.021442</td>\n",
       "      <td>1.293865</td>\n",
       "      <td>1.333823</td>\n",
       "      <td>1.453760</td>\n",
       "    </tr>\n",
       "    <tr>\n",
       "      <th>2</th>\n",
       "      <td>1.0</td>\n",
       "      <td>0.979718</td>\n",
       "      <td>1.221468</td>\n",
       "      <td>1.220097</td>\n",
       "      <td>1.358884</td>\n",
       "      <td>1.527825</td>\n",
       "    </tr>\n",
       "    <tr>\n",
       "      <th>3</th>\n",
       "      <td>1.0</td>\n",
       "      <td>1.122863</td>\n",
       "      <td>1.187606</td>\n",
       "      <td>1.395237</td>\n",
       "      <td>1.503281</td>\n",
       "      <td>1.431385</td>\n",
       "    </tr>\n",
       "    <tr>\n",
       "      <th>4</th>\n",
       "      <td>1.0</td>\n",
       "      <td>0.938550</td>\n",
       "      <td>1.081338</td>\n",
       "      <td>1.309305</td>\n",
       "      <td>1.320711</td>\n",
       "      <td>1.366731</td>\n",
       "    </tr>\n",
       "    <tr>\n",
       "      <th>...</th>\n",
       "      <td>...</td>\n",
       "      <td>...</td>\n",
       "      <td>...</td>\n",
       "      <td>...</td>\n",
       "      <td>...</td>\n",
       "      <td>...</td>\n",
       "    </tr>\n",
       "    <tr>\n",
       "      <th>4995</th>\n",
       "      <td>1.0</td>\n",
       "      <td>1.231467</td>\n",
       "      <td>1.303156</td>\n",
       "      <td>1.362739</td>\n",
       "      <td>1.388810</td>\n",
       "      <td>1.315754</td>\n",
       "    </tr>\n",
       "    <tr>\n",
       "      <th>4996</th>\n",
       "      <td>1.0</td>\n",
       "      <td>1.137914</td>\n",
       "      <td>1.253695</td>\n",
       "      <td>1.090451</td>\n",
       "      <td>1.100715</td>\n",
       "      <td>1.185477</td>\n",
       "    </tr>\n",
       "    <tr>\n",
       "      <th>4997</th>\n",
       "      <td>1.0</td>\n",
       "      <td>1.069783</td>\n",
       "      <td>1.065758</td>\n",
       "      <td>0.948864</td>\n",
       "      <td>0.966038</td>\n",
       "      <td>0.979798</td>\n",
       "    </tr>\n",
       "    <tr>\n",
       "      <th>4998</th>\n",
       "      <td>1.0</td>\n",
       "      <td>1.178417</td>\n",
       "      <td>1.303860</td>\n",
       "      <td>1.592059</td>\n",
       "      <td>1.681294</td>\n",
       "      <td>1.999801</td>\n",
       "    </tr>\n",
       "    <tr>\n",
       "      <th>4999</th>\n",
       "      <td>1.0</td>\n",
       "      <td>1.191647</td>\n",
       "      <td>1.310372</td>\n",
       "      <td>1.568422</td>\n",
       "      <td>1.817803</td>\n",
       "      <td>2.021668</td>\n",
       "    </tr>\n",
       "  </tbody>\n",
       "</table>\n",
       "<p>5000 rows × 6 columns</p>\n",
       "</div>"
      ],
      "text/plain": [
       "      Year 0    Year 1    Year 2    Year 3    Year 4    Year 5\n",
       "0        1.0  1.093801  0.979147  0.952469  0.970635  0.998524\n",
       "1        1.0  1.060510  1.021442  1.293865  1.333823  1.453760\n",
       "2        1.0  0.979718  1.221468  1.220097  1.358884  1.527825\n",
       "3        1.0  1.122863  1.187606  1.395237  1.503281  1.431385\n",
       "4        1.0  0.938550  1.081338  1.309305  1.320711  1.366731\n",
       "...      ...       ...       ...       ...       ...       ...\n",
       "4995     1.0  1.231467  1.303156  1.362739  1.388810  1.315754\n",
       "4996     1.0  1.137914  1.253695  1.090451  1.100715  1.185477\n",
       "4997     1.0  1.069783  1.065758  0.948864  0.966038  0.979798\n",
       "4998     1.0  1.178417  1.303860  1.592059  1.681294  1.999801\n",
       "4999     1.0  1.191647  1.310372  1.568422  1.817803  2.021668\n",
       "\n",
       "[5000 rows x 6 columns]"
      ]
     },
     "execution_count": 61,
     "metadata": {},
     "output_type": "execute_result"
    }
   ],
   "source": [
    "# Presentation of Portfolio Return Data\n",
    "\n",
    "col_names = ['Year 0','Year 1','Year 2','Year 3','Year 4','Year 5']\n",
    "buy_and_hold_index_table = pd.DataFrame(buy_and_hold_index, columns=col_names)\n",
    "buy_and_hold_index_table"
   ]
  },
  {
   "cell_type": "code",
   "execution_count": 62,
   "id": "b42429a9",
   "metadata": {
    "pycharm": {
     "name": "#%%\n"
    }
   },
   "outputs": [
    {
     "name": "stdout",
     "output_type": "stream",
     "text": [
      "Optimization terminated successfully    (Exit mode 0)\n",
      "            Current function value: 0.01808516985554639\n",
      "            Iterations: 20\n",
      "            Function evaluations: 220\n",
      "            Gradient evaluations: 20\n",
      "Optimization terminated successfully    (Exit mode 0)\n",
      "            Current function value: 0.01954558555782738\n",
      "            Iterations: 19\n",
      "            Function evaluations: 210\n",
      "            Gradient evaluations: 19\n",
      "Optimization terminated successfully    (Exit mode 0)\n",
      "            Current function value: 0.021094339498891945\n",
      "            Iterations: 18\n",
      "            Function evaluations: 198\n",
      "            Gradient evaluations: 18\n",
      "Optimization terminated successfully    (Exit mode 0)\n",
      "            Current function value: 0.02273143035636257\n",
      "            Iterations: 19\n",
      "            Function evaluations: 209\n",
      "            Gradient evaluations: 19\n",
      "Optimization terminated successfully    (Exit mode 0)\n",
      "            Current function value: 0.02445685938080781\n",
      "            Iterations: 19\n",
      "            Function evaluations: 209\n",
      "            Gradient evaluations: 19\n",
      "Optimization terminated successfully    (Exit mode 0)\n",
      "            Current function value: 0.02627062567327454\n",
      "            Iterations: 18\n",
      "            Function evaluations: 198\n",
      "            Gradient evaluations: 18\n",
      "Optimization terminated successfully    (Exit mode 0)\n",
      "            Current function value: 0.028172730042399362\n",
      "            Iterations: 18\n",
      "            Function evaluations: 198\n",
      "            Gradient evaluations: 18\n",
      "Optimization terminated successfully    (Exit mode 0)\n",
      "            Current function value: 0.030163173398851648\n",
      "            Iterations: 14\n",
      "            Function evaluations: 154\n",
      "            Gradient evaluations: 14\n",
      "Optimization terminated successfully    (Exit mode 0)\n",
      "            Current function value: 0.03224195355789857\n",
      "            Iterations: 13\n",
      "            Function evaluations: 143\n",
      "            Gradient evaluations: 13\n",
      "Optimization terminated successfully    (Exit mode 0)\n",
      "            Current function value: 0.03440906917801457\n",
      "            Iterations: 15\n",
      "            Function evaluations: 166\n",
      "            Gradient evaluations: 15\n",
      "Optimization terminated successfully    (Exit mode 0)\n",
      "            Current function value: 0.03666452435289842\n",
      "            Iterations: 16\n",
      "            Function evaluations: 176\n",
      "            Gradient evaluations: 16\n",
      "Optimization terminated successfully    (Exit mode 0)\n",
      "            Current function value: 0.03900831726429693\n",
      "            Iterations: 16\n",
      "            Function evaluations: 176\n",
      "            Gradient evaluations: 16\n",
      "Optimization terminated successfully    (Exit mode 0)\n",
      "            Current function value: 0.0414404478514824\n",
      "            Iterations: 17\n",
      "            Function evaluations: 187\n",
      "            Gradient evaluations: 17\n",
      "Optimization terminated successfully    (Exit mode 0)\n",
      "            Current function value: 0.04396091625308184\n",
      "            Iterations: 19\n",
      "            Function evaluations: 209\n",
      "            Gradient evaluations: 19\n",
      "Optimization terminated successfully    (Exit mode 0)\n",
      "            Current function value: 0.046569722231891826\n",
      "            Iterations: 19\n",
      "            Function evaluations: 209\n",
      "            Gradient evaluations: 19\n",
      "Optimization terminated successfully    (Exit mode 0)\n",
      "            Current function value: 0.04926686604772337\n",
      "            Iterations: 18\n",
      "            Function evaluations: 198\n",
      "            Gradient evaluations: 18\n",
      "Optimization terminated successfully    (Exit mode 0)\n",
      "            Current function value: 0.052052348311538356\n",
      "            Iterations: 15\n",
      "            Function evaluations: 165\n",
      "            Gradient evaluations: 15\n",
      "Optimization terminated successfully    (Exit mode 0)\n",
      "            Current function value: 0.05492616660634805\n",
      "            Iterations: 18\n",
      "            Function evaluations: 199\n",
      "            Gradient evaluations: 18\n",
      "Optimization terminated successfully    (Exit mode 0)\n",
      "            Current function value: 0.05788832350193421\n",
      "            Iterations: 17\n",
      "            Function evaluations: 188\n",
      "            Gradient evaluations: 17\n",
      "Optimization terminated successfully    (Exit mode 0)\n",
      "            Current function value: 0.06093881816579191\n",
      "            Iterations: 18\n",
      "            Function evaluations: 198\n",
      "            Gradient evaluations: 18\n",
      "Optimization terminated successfully    (Exit mode 0)\n",
      "            Current function value: 0.06407765048160231\n",
      "            Iterations: 17\n",
      "            Function evaluations: 187\n",
      "            Gradient evaluations: 17\n"
     ]
    }
   ],
   "source": [
    "# Define Optimal Portfolio Weights\n",
    "\n",
    "buy_and_hold_index_table\n",
    "prices_5y = asset_prices[:,5]\n",
    "cov_mat_5y = np.cov(prices_5y, rowvar=False)\n",
    "\n",
    "\"\"\"\n",
    "Define relevant constraints\n",
    "\"\"\"\n",
    "sum_to_one_cons = {'type': 'eq',\n",
    "                   'fun' : lambda x: np.sum(x) - 1.0}\n",
    "\n",
    "no_short_cons = {'type': 'ineq',\n",
    "                 'fun' : lambda x: x}\n",
    "\n",
    "# alternatively use \n",
    "bounds = [(0.0, 1.0)] * 10\n",
    "\n",
    "target_returns = np.arange(1.2, 1.3, 0.005) # this will depend on the returns of the simulated data. \n",
    "# target_returns = np.arange(1.3, 1.526, 0.025)\n",
    "\n",
    "\"\"\"\n",
    "Find optimal weights\n",
    "\"\"\"\n",
    "\n",
    "optimal_weights = list()\n",
    "for target_return in target_returns:\n",
    "    # define constraint \n",
    "    target_cons = {'type': 'eq',\n",
    "                   'fun' : lambda x: np.average(prices_5y @ x) - target_return}\n",
    "\n",
    "\n",
    "    x0 = np.ones(10) / 10.0\n",
    "    res = optimize.minimize(portfolio_variance, x0=x0, args=(cov_mat_5y,),\n",
    "                                 method='SLSQP',\n",
    "                                 constraints=[sum_to_one_cons, no_short_cons, target_cons], \n",
    "                                 options={'ftol': 1e-9, 'disp': True}, bounds=bounds)\n",
    "    \n",
    "    optimal_weights.append(res.x)\n",
    "    \n",
    "optimal_weights = np.array(optimal_weights)"
   ]
  },
  {
   "cell_type": "code",
   "execution_count": 63,
   "id": "1398b62c",
   "metadata": {
    "pycharm": {
     "name": "#%%\n"
    }
   },
   "outputs": [
    {
     "data": {
      "image/png": "[encoded data removed]",
      "text/plain": [
       "<Figure size 1152x432 with 1 Axes>"
      ]
     },
     "metadata": {},
     "output_type": "display_data"
    }
   ],
   "source": [
    "# Plotting The Optimal Weights Using Mean-Variance\n",
    "\n",
    "fig, ax = plt.subplots(figsize=(16, 6))\n",
    "\n",
    "ax.stackplot(target_returns, optimal_weights.T, labels=np.arange(1,11));\n",
    "ax.set_xlabel(\"Target price level\")\n",
    "ax.set_ylabel(\"Portfolio weights\")\n",
    "ax.set_title(\"Optimal weights, mean-variance at 5Y horizon\")\n",
    "ax.legend(loc='center', bbox_to_anchor=(0.5, -0.3), fancybox=True, shadow=True, ncol=5);"
   ]
  },
  {
   "cell_type": "code",
   "execution_count": 64,
   "id": "d9ed68cd",
   "metadata": {
    "pycharm": {
     "name": "#%%\n"
    }
   },
   "outputs": [
    {
     "ename": "SyntaxError",
     "evalue": "EOL while scanning string literal (991909541.py, line 5)",
     "output_type": "error",
     "traceback": [
      "\u001b[0;36m  Input \u001b[0;32mIn [64]\u001b[0;36m\u001b[0m\n\u001b[0;31m    'percentiles_constant_mix = np.percentile(constant_mix_index, [0.5, 1.0, 2.5, 5, 10, 50, 90, 95, 97.5, 99.0, 99.5],\u001b[0m\n\u001b[0m                                                                                                                       ^\u001b[0m\n\u001b[0;31mSyntaxError\u001b[0m\u001b[0;31m:\u001b[0m EOL while scanning string literal\n"
     ]
    }
   ],
   "source": [
    "# calculate percentiles\n",
    "percentiles_buy_and_hold = np.percentile(buy_and_hold_index, [0.5, 1.0, 2.5, 5, 10, 50, 90, 95, 97.5, 99.0, 99.5],\n",
    "                                         axis=0)\n",
    "\n",
    "'percentiles_constant_mix = np.percentile(constant_mix_index, [0.5, 1.0, 2.5, 5, 10, 50, 90, 95, 97.5, 99.0, 99.5],\n",
    "                                         'axis=0)\n",
    "\n",
    "\"\"\"\n",
    "Plot fan chart\n",
    "\"\"\"\n",
    "\n",
    "fig, ax = plt.subplots(1, 2, figsize=(16, 6))\n",
    "\n",
    "fan_chart(time_points,\n",
    "          percentiles_buy_and_hold,\n",
    "          color=default_colors['cyan'],\n",
    "          color_median=default_colors['dark_blue'],\n",
    "          labels=['99% CI', '98% CI', '95% CI', '90% CI', '80% CI', 'Median'],\n",
    "          ax=ax[0])\n",
    "\n",
    "ax[0].set_xlabel(\"Year\", size=15)\n",
    "ax[0].set_ylabel(\"Index value\", size=15)\n",
    "ax[0].set_title(\"Buy and Hold\", size=15)\n",
    "ax[0].set_ylim([0.5, 3.0])\n",
    "ax[0].legend(loc='upper center', bbox_to_anchor=(0.5, -0.15), ncol=5, fontsize=12);\n",
    "\n",
    "'fan_chart(time_points,\n",
    "          'percentiles_constant_mix,\n",
    "          'color=default_colors['red'],\n",
    "          'color_median=default_colors['dark_blue'],\n",
    "          'labels=['99% CI', '98% CI', '95% CI', '90% CI', '80% CI', 'Median'],\n",
    "          'ax=ax[1])\n",
    "\n",
    "'ax[1].set_xlabel(\"Year\", size=15)\n",
    "'ax[1].set_title(\"Constant Mix\", size=15)\n",
    "'ax[1].set_ylim([0.5, 3.0])\n",
    "'ax[1].legend(loc='upper center', bbox_to_anchor=(0.5, -0.15), ncol=5, fontsize=12);"
   ]
  },
  {
   "cell_type": "code",
   "execution_count": null,
   "id": "ad7aa2c2",
   "metadata": {
    "pycharm": {
     "name": "#%%\n"
    }
   },
   "outputs": [],
   "source": [
    "# calculate percentiles\n",
    "\n",
    "percentiles_buy_and_hold = np.percentile(buy_and_hold_index, [0.5, 1.0, 2.5, 5, 10, 50, 90, 95, 97.5, 99.0, 99.5],\n",
    "                                         axis=0)\n",
    "\n",
    "percentiles_constant_mix = np.percentile(constant_mix_index, [0.5, 1.0, 2.5, 5, 10, 50, 90, 95, 97.5, 99.0, 99.5],\n",
    "                                         axis=0)\n",
    "\n",
    "\"\"\"\n",
    "Plot fan chart\n",
    "\"\"\"\n",
    "\n",
    "fig, ax = plt.subplots(1, 2, figsize=(16, 6))\n",
    "\n",
    "fan_chart(time_points,\n",
    "          percentiles_buy_and_hold,\n",
    "          color=default_colors['cyan'],\n",
    "          color_median=default_colors['dark_blue'],\n",
    "          labels=['99% CI', '98% CI', '95% CI', '90% CI', '80% CI', 'Median'],\n",
    "          ax=ax[0])\n",
    "\n",
    "ax[0].set_xlabel(\"Year\", size=15)\n",
    "ax[0].set_ylabel(\"Index value\", size=15)\n",
    "ax[0].set_title(\"Buy and Hold\", size=15)\n",
    "ax[0].set_ylim([0.5, 3.0])\n",
    "ax[0].legend(loc='upper center', bbox_to_anchor=(0.5, -0.15), ncol=5, fontsize=12);\n",
    "\n",
    "fan_chart(time_points,\n",
    "          percentiles_constant_mix,\n",
    "          color=default_colors['red'],\n",
    "          color_median=default_colors['dark_blue'],\n",
    "          labels=['99% CI', '98% CI', '95% CI', '90% CI', '80% CI', 'Median'],\n",
    "          ax=ax[1])\n",
    "\n",
    "ax[1].set_xlabel(\"Year\", size=15)\n",
    "ax[1].set_title(\"Constant Mix\", size=15)\n",
    "ax[1].set_ylim([0.5, 3.0])\n",
    "ax[1].legend(loc='upper center', bbox_to_anchor=(0.5, -0.15), ncol=5, fontsize=12);"
   ]
  },
  {
   "cell_type": "code",
   "execution_count": null,
   "id": "abd1c8c2",
   "metadata": {
    "pycharm": {
     "name": "#%%\n"
    }
   },
   "outputs": [],
   "source": [
    "# Defining Quadratic Utility Function \n",
    "\n",
    "def quadratic_utility(wealth: int) :\n",
    "    \n",
    "    \"\"\"\n",
    "    Function that returns the quadratic utility of a given allocation\n",
    "    \n",
    "    Parameters\n",
    "    ----------\n",
    "    weights: \n",
    "        Portfolio weights\n",
    "    mu: \n",
    "        Expected returns\n",
    "    cov_matrix: \n",
    "        Covariance matrix\n",
    "    risk_aversion: \n",
    "        Risk aversion parameter\n",
    "    \n",
    "    Returns\n",
    "    -------\n",
    "    float\n",
    "        Utility\n",
    "    \"\"\"\n",
    "    return (wealth**gamma)/gamma"
   ]
  },
  {
   "cell_type": "code",
   "execution_count": null,
   "id": "c1b43828",
   "metadata": {
    "pycharm": {
     "name": "#%%\n"
    }
   },
   "outputs": [],
   "source": []
  },
  {
   "cell_type": "code",
   "execution_count": null,
   "id": "adc747a0",
   "metadata": {
    "pycharm": {
     "name": "#%%\n"
    }
   },
   "outputs": [],
   "source": []
  },
  {
   "cell_type": "code",
   "execution_count": null,
   "id": "3be3cd9d",
   "metadata": {},
   "outputs": [],
   "source": []
  }
 ],
 "metadata": {
  "kernelspec": {
   "display_name": "Python 3 (ipykernel)",
   "language": "python",
   "name": "python3"
  },
  "language_info": {
   "codemirror_mode": {
    "name": "ipython",
    "version": 3
   },
   "file_extension": ".py",
   "mimetype": "text/x-python",
   "name": "python",
   "nbconvert_exporter": "python",
   "pygments_lexer": "ipython3",
   "version": "3.9.12"
  }
 },
 "nbformat": 4,
 "nbformat_minor": 5
}
